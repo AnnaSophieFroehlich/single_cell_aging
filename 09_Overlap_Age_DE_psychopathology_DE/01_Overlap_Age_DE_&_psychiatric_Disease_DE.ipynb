{
 "cells": [
  {
   "cell_type": "markdown",
   "id": "1f38b025-d702-46ff-a21b-b7ba55ec1901",
   "metadata": {
    "execution": {
     "iopub.execute_input": "2024-01-18T10:23:08.396562Z",
     "iopub.status.busy": "2024-01-18T10:23:08.392307Z",
     "iopub.status.idle": "2024-01-18T10:23:08.842144Z",
     "shell.execute_reply": "2024-01-18T10:23:08.838601Z"
    }
   },
   "source": [
    "<b> <font size=\"+2.5\"> Enrichment of age-associated genes <br> in genes dysregulated in psychiatric disease\n",
    " </b> </font> <br>"
   ]
  },
  {
   "cell_type": "markdown",
   "id": "dc3578c1-ba45-4393-84c1-16bb9a962815",
   "metadata": {
    "execution": {
     "iopub.execute_input": "2024-01-18T10:23:41.626384Z",
     "iopub.status.busy": "2024-01-18T10:23:41.566538Z",
     "iopub.status.idle": "2024-01-18T10:23:41.669571Z",
     "shell.execute_reply": "2024-01-18T10:23:41.656093Z"
    }
   },
   "source": [
    "Date: 20240118 <br>\n",
    "Authors: ASF"
   ]
  },
  {
   "cell_type": "markdown",
   "id": "152ff330-9d8c-4eac-ad8c-fd46f482eb22",
   "metadata": {},
   "source": [
    "# Load libraries"
   ]
  },
  {
   "cell_type": "code",
   "execution_count": 1,
   "id": "7cd4bb12-e769-47bf-be3f-45c9ef0c801a",
   "metadata": {
    "execution": {
     "iopub.execute_input": "2024-01-29T17:41:19.995301Z",
     "iopub.status.busy": "2024-01-29T17:41:19.990955Z",
     "iopub.status.idle": "2024-01-29T17:41:20.994081Z",
     "shell.execute_reply": "2024-01-29T17:41:20.991813Z"
    }
   },
   "outputs": [],
   "source": [
    "suppressPackageStartupMessages({\n",
    "library(tidyverse)\n",
    "library(readr)\n",
    "library(readxl)\n",
    "library(GeneOverlap)\n",
    "library(cowplot)\n",
    "library(writexl)\n",
    "library(viridis)\n",
    "})"
   ]
  },
  {
   "cell_type": "markdown",
   "id": "86e533cc-4916-420f-a9f8-b84475fe5d23",
   "metadata": {},
   "source": [
    "# Read in genes associated with Age"
   ]
  },
  {
   "cell_type": "code",
   "execution_count": 2,
   "id": "e8105aea-7cfc-42fc-90d3-871247b54ea8",
   "metadata": {
    "execution": {
     "iopub.execute_input": "2024-01-29T17:41:22.659691Z",
     "iopub.status.busy": "2024-01-29T17:41:22.597332Z",
     "iopub.status.idle": "2024-01-29T17:41:24.946633Z",
     "shell.execute_reply": "2024-01-29T17:41:24.944629Z"
    }
   },
   "outputs": [],
   "source": [
    "celltypes <- c('Exc_L2-3','Exc_L3-5','Exc_L4-6_1','Exc_L4-6_2','Exc_L4-6_3','Exc_L5-6_1','Exc_L5-6_2','Exc_L5-6_HTR2C',\n",
    "               'In_LAMP5_1','In_LAMP5_2','In_PVALB_Ba','In_PVALB_Ch','In_RELN','In_SST','In_VIP','Astro_FB','Astro_PP',\n",
    "               'Endothelial','Microglia','Oligodendrocyte','OPC')\n",
    "\n",
    "# Age\n",
    "DE_Age_results <- list()\n",
    "for (celltype in celltypes){\n",
    "  DE_Age_results[[celltype]] <- as.data.frame(read_excel('../results/dreamlet_tables/final_celltypes_N87/DE_results_Age_20231121.xlsx', sheet = celltype))\n",
    "}\n",
    "\n",
    "#get significant hits at FDR < 0.1\n",
    "DE_Age_genes <- list()\n",
    "for (celltype in celltypes){\n",
    "    DE_Age_genes[[celltype]] <- DE_Age_results[[celltype]][DE_Age_results[[celltype]]$adj.P.Val < 0.1,]\n",
    "}\n",
    "\n",
    "# split in up- and downregulate\n",
    "DE_Age_genes_up <- list()\n",
    "DE_Age_genes_down <- list()\n",
    "for (celltype in celltypes){\n",
    "    DE_Age_genes_up[[celltype]] <- DE_Age_genes[[celltype]][DE_Age_genes[[celltype]]$logFC > 0,]\n",
    "    DE_Age_genes_down[[celltype]] <- DE_Age_genes[[celltype]][DE_Age_genes[[celltype]]$logFC < 0,]\n",
    "}"
   ]
  },
  {
   "cell_type": "markdown",
   "id": "65868ac9-be3f-42f6-9bfd-50637bc619f7",
   "metadata": {},
   "source": [
    "# Read in genes associated with psychiatric disease"
   ]
  },
  {
   "cell_type": "code",
   "execution_count": 3,
   "id": "41eda3cc-3d81-455b-8d5a-e2938e8cd183",
   "metadata": {
    "execution": {
     "iopub.execute_input": "2024-01-29T17:41:25.277643Z",
     "iopub.status.busy": "2024-01-29T17:41:25.274842Z",
     "iopub.status.idle": "2024-01-29T17:41:27.851227Z",
     "shell.execute_reply": "2024-01-29T17:41:27.849607Z"
    }
   },
   "outputs": [
    {
     "data": {
      "text/html": [
       "<table class=\"dataframe\">\n",
       "<caption>A tibble: 5 × 7</caption>\n",
       "<thead>\n",
       "\t<tr><th scope=col>assay</th><th scope=col>nGenes_tested</th><th scope=col>nDE_0.1</th><th scope=col>nDE_0.05</th><th scope=col>nDE_p_val_0.001</th><th scope=col>nDE_0.05_within_celltype</th><th scope=col>nDE_0.1_within_celltype</th></tr>\n",
       "\t<tr><th scope=col>&lt;fct&gt;</th><th scope=col>&lt;int&gt;</th><th scope=col>&lt;int&gt;</th><th scope=col>&lt;int&gt;</th><th scope=col>&lt;int&gt;</th><th scope=col>&lt;int&gt;</th><th scope=col>&lt;int&gt;</th></tr>\n",
       "</thead>\n",
       "<tbody>\n",
       "\t<tr><td>Exc_L2-3  </td><td>18044</td><td> 7</td><td>2</td><td>120</td><td>27</td><td> 67</td></tr>\n",
       "\t<tr><td>Exc_L3-5  </td><td> 8799</td><td> 0</td><td>0</td><td> 12</td><td> 0</td><td>  0</td></tr>\n",
       "\t<tr><td>Exc_L4-6_1</td><td>12959</td><td>10</td><td>6</td><td>123</td><td>50</td><td>108</td></tr>\n",
       "\t<tr><td>Exc_L4-6_2</td><td>12356</td><td> 3</td><td>0</td><td> 68</td><td> 9</td><td> 24</td></tr>\n",
       "\t<tr><td>Exc_L4-6_3</td><td> 9923</td><td> 1</td><td>0</td><td> 40</td><td> 0</td><td> 13</td></tr>\n",
       "</tbody>\n",
       "</table>\n"
      ],
      "text/latex": [
       "A tibble: 5 × 7\n",
       "\\begin{tabular}{lllllll}\n",
       " assay & nGenes\\_tested & nDE\\_0.1 & nDE\\_0.05 & nDE\\_p\\_val\\_0.001 & nDE\\_0.05\\_within\\_celltype & nDE\\_0.1\\_within\\_celltype\\\\\n",
       " <fct> & <int> & <int> & <int> & <int> & <int> & <int>\\\\\n",
       "\\hline\n",
       "\t Exc\\_L2-3   & 18044 &  7 & 2 & 120 & 27 &  67\\\\\n",
       "\t Exc\\_L3-5   &  8799 &  0 & 0 &  12 &  0 &   0\\\\\n",
       "\t Exc\\_L4-6\\_1 & 12959 & 10 & 6 & 123 & 50 & 108\\\\\n",
       "\t Exc\\_L4-6\\_2 & 12356 &  3 & 0 &  68 &  9 &  24\\\\\n",
       "\t Exc\\_L4-6\\_3 &  9923 &  1 & 0 &  40 &  0 &  13\\\\\n",
       "\\end{tabular}\n"
      ],
      "text/markdown": [
       "\n",
       "A tibble: 5 × 7\n",
       "\n",
       "| assay &lt;fct&gt; | nGenes_tested &lt;int&gt; | nDE_0.1 &lt;int&gt; | nDE_0.05 &lt;int&gt; | nDE_p_val_0.001 &lt;int&gt; | nDE_0.05_within_celltype &lt;int&gt; | nDE_0.1_within_celltype &lt;int&gt; |\n",
       "|---|---|---|---|---|---|---|\n",
       "| Exc_L2-3   | 18044 |  7 | 2 | 120 | 27 |  67 |\n",
       "| Exc_L3-5   |  8799 |  0 | 0 |  12 |  0 |   0 |\n",
       "| Exc_L4-6_1 | 12959 | 10 | 6 | 123 | 50 | 108 |\n",
       "| Exc_L4-6_2 | 12356 |  3 | 0 |  68 |  9 |  24 |\n",
       "| Exc_L4-6_3 |  9923 |  1 | 0 |  40 |  0 |  13 |\n",
       "\n"
      ],
      "text/plain": [
       "  assay      nGenes_tested nDE_0.1 nDE_0.05 nDE_p_val_0.001\n",
       "1 Exc_L2-3   18044          7      2        120            \n",
       "2 Exc_L3-5    8799          0      0         12            \n",
       "3 Exc_L4-6_1 12959         10      6        123            \n",
       "4 Exc_L4-6_2 12356          3      0         68            \n",
       "5 Exc_L4-6_3  9923          1      0         40            \n",
       "  nDE_0.05_within_celltype nDE_0.1_within_celltype\n",
       "1 27                        67                    \n",
       "2  0                         0                    \n",
       "3 50                       108                    \n",
       "4  9                        24                    \n",
       "5  0                        13                    "
      ]
     },
     "metadata": {},
     "output_type": "display_data"
    }
   ],
   "source": [
    "# psychiatric disease\n",
    "DE_res_Disease_list <- list()\n",
    "for (celltype in celltypes){\n",
    "  DE_res_Disease_list[[celltype]] <- as.data.frame(read_excel('../results/dreamlet_tables/final_celltypes_N87/DE_results_Disease_20231121.xlsx', sheet = celltype))\n",
    "}\n",
    "\n",
    "# perform multiple testing correction only within each cell type (not across all tested genes of all cell types)\n",
    "DE_res_Disease_list_within_celltype_corr <- list()\n",
    "for (celltype in names(DE_res_Disease_list)){\n",
    "    tmp <- DE_res_Disease_list[[celltype]]\n",
    "    tmp$p.adj_within_celltype <- p.adjust(tmp$P.Value, method='fdr', n=length(tmp$P.Value))\n",
    "    DE_res_Disease_list_within_celltype_corr[[celltype]] <- tmp\n",
    "}\n",
    "\n",
    "compiled <- dplyr::bind_rows(DE_res_Disease_list_within_celltype_corr)\n",
    "\n",
    "df_de_Disease <- compiled %>%\n",
    "    as_tibble %>% \n",
    "    group_by(assay) %>% \n",
    "    summarise( \n",
    "      nGenes_tested = length(adj.P.Val), \n",
    "      nDE_0.1 = sum(adj.P.Val < 0.1),\n",
    "        nDE_0.05 = sum(adj.P.Val < 0.05),\n",
    "        nDE_p_val_0.001 = sum(P.Value < 0.001),\n",
    "        nDE_0.05_within_celltype = sum(p.adj_within_celltype < 0.05),\n",
    "        nDE_0.1_within_celltype = sum(p.adj_within_celltype < 0.1)) %>%\n",
    "        mutate(assay = factor(assay))  \n",
    "df_de_Disease[4:8,]\n",
    "\n",
    "# get significant disease hits\n",
    "DE_Disease_genes <- list()\n",
    "for (celltype in celltypes){\n",
    "    tmp <- DE_res_Disease_list_within_celltype_corr[[celltype]][\n",
    "        DE_res_Disease_list_within_celltype_corr[[celltype]]$p.adj_within_celltype < 0.1,]\n",
    "    if (dim(tmp)[1] < 1) {next}\n",
    "    else {DE_Disease_genes[[celltype]] <- tmp} \n",
    "}\n",
    "\n",
    "# split in up- and downregulated\n",
    "DE_Disease_genes_up <- list()\n",
    "DE_Disease_genes_down <- list()\n",
    "for (celltype in celltypes){\n",
    "    DE_Disease_genes_up[[celltype]] <- DE_Disease_genes[[celltype]][DE_Disease_genes[[celltype]]$logFC > 0,]\n",
    "    DE_Disease_genes_down[[celltype]] <- DE_Disease_genes[[celltype]][DE_Disease_genes[[celltype]]$logFC < 0,]\n",
    "}"
   ]
  },
  {
   "cell_type": "markdown",
   "id": "fef2022b-9daa-4ec5-b784-fe4d69065f68",
   "metadata": {},
   "source": [
    "## Perform overlap between age-associated and disease-associated genes"
   ]
  },
  {
   "cell_type": "code",
   "execution_count": 4,
   "id": "69e27a29-aff5-427d-8967-6c4818608b91",
   "metadata": {
    "execution": {
     "iopub.execute_input": "2024-01-29T17:41:27.915972Z",
     "iopub.status.busy": "2024-01-29T17:41:27.913818Z",
     "iopub.status.idle": "2024-01-29T17:41:28.013106Z",
     "shell.execute_reply": "2024-01-29T17:41:28.011409Z"
    }
   },
   "outputs": [
    {
     "data": {
      "text/html": [
       "<table class=\"dataframe\">\n",
       "<caption>A data.frame: 4 × 8</caption>\n",
       "<thead>\n",
       "\t<tr><th></th><th scope=col>celltype</th><th scope=col>Disease DE genes</th><th scope=col>Age DE genes</th><th scope=col>n overlap genes</th><th scope=col>Genome size</th><th scope=col>overlap p-value</th><th scope=col>Odds Ratio</th><th scope=col>p.adjust_FDR</th></tr>\n",
       "\t<tr><th></th><th scope=col>&lt;chr&gt;</th><th scope=col>&lt;int&gt;</th><th scope=col>&lt;int&gt;</th><th scope=col>&lt;int&gt;</th><th scope=col>&lt;int&gt;</th><th scope=col>&lt;dbl&gt;</th><th scope=col>&lt;dbl&gt;</th><th scope=col>&lt;dbl&gt;</th></tr>\n",
       "</thead>\n",
       "<tbody>\n",
       "\t<tr><th scope=row>Exc_L2-3</th><td>Exc_L2-3  </td><td> 67</td><td>1925</td><td>14</td><td>17910</td><td>1.076502e-02</td><td> 2.202095</td><td>1.435336e-02</td></tr>\n",
       "\t<tr><th scope=row>Exc_L4-6_1</th><td>Exc_L4-6_1</td><td>108</td><td> 955</td><td>30</td><td>12872</td><td>1.329352e-10</td><td> 4.921514</td><td>5.317406e-10</td></tr>\n",
       "\t<tr><th scope=row>Exc_L4-6_2</th><td>Exc_L4-6_2</td><td> 24</td><td>1156</td><td> 4</td><td>12284</td><td>1.843829e-01</td><td> 1.928413</td><td>1.843829e-01</td></tr>\n",
       "\t<tr><th scope=row>Exc_L4-6_3</th><td>Exc_L4-6_3</td><td> 13</td><td> 469</td><td> 6</td><td> 9866</td><td>1.441577e-05</td><td>17.375321</td><td>2.883154e-05</td></tr>\n",
       "</tbody>\n",
       "</table>\n"
      ],
      "text/latex": [
       "A data.frame: 4 × 8\n",
       "\\begin{tabular}{r|llllllll}\n",
       "  & celltype & Disease DE genes & Age DE genes & n overlap genes & Genome size & overlap p-value & Odds Ratio & p.adjust\\_FDR\\\\\n",
       "  & <chr> & <int> & <int> & <int> & <int> & <dbl> & <dbl> & <dbl>\\\\\n",
       "\\hline\n",
       "\tExc\\_L2-3 & Exc\\_L2-3   &  67 & 1925 & 14 & 17910 & 1.076502e-02 &  2.202095 & 1.435336e-02\\\\\n",
       "\tExc\\_L4-6\\_1 & Exc\\_L4-6\\_1 & 108 &  955 & 30 & 12872 & 1.329352e-10 &  4.921514 & 5.317406e-10\\\\\n",
       "\tExc\\_L4-6\\_2 & Exc\\_L4-6\\_2 &  24 & 1156 &  4 & 12284 & 1.843829e-01 &  1.928413 & 1.843829e-01\\\\\n",
       "\tExc\\_L4-6\\_3 & Exc\\_L4-6\\_3 &  13 &  469 &  6 &  9866 & 1.441577e-05 & 17.375321 & 2.883154e-05\\\\\n",
       "\\end{tabular}\n"
      ],
      "text/markdown": [
       "\n",
       "A data.frame: 4 × 8\n",
       "\n",
       "| <!--/--> | celltype &lt;chr&gt; | Disease DE genes &lt;int&gt; | Age DE genes &lt;int&gt; | n overlap genes &lt;int&gt; | Genome size &lt;int&gt; | overlap p-value &lt;dbl&gt; | Odds Ratio &lt;dbl&gt; | p.adjust_FDR &lt;dbl&gt; |\n",
       "|---|---|---|---|---|---|---|---|---|\n",
       "| Exc_L2-3 | Exc_L2-3   |  67 | 1925 | 14 | 17910 | 1.076502e-02 |  2.202095 | 1.435336e-02 |\n",
       "| Exc_L4-6_1 | Exc_L4-6_1 | 108 |  955 | 30 | 12872 | 1.329352e-10 |  4.921514 | 5.317406e-10 |\n",
       "| Exc_L4-6_2 | Exc_L4-6_2 |  24 | 1156 |  4 | 12284 | 1.843829e-01 |  1.928413 | 1.843829e-01 |\n",
       "| Exc_L4-6_3 | Exc_L4-6_3 |  13 |  469 |  6 |  9866 | 1.441577e-05 | 17.375321 | 2.883154e-05 |\n",
       "\n"
      ],
      "text/plain": [
       "           celltype   Disease DE genes Age DE genes n overlap genes Genome size\n",
       "Exc_L2-3   Exc_L2-3    67              1925         14              17910      \n",
       "Exc_L4-6_1 Exc_L4-6_1 108               955         30              12872      \n",
       "Exc_L4-6_2 Exc_L4-6_2  24              1156          4              12284      \n",
       "Exc_L4-6_3 Exc_L4-6_3  13               469          6               9866      \n",
       "           overlap p-value Odds Ratio p.adjust_FDR\n",
       "Exc_L2-3   1.076502e-02     2.202095  1.435336e-02\n",
       "Exc_L4-6_1 1.329352e-10     4.921514  5.317406e-10\n",
       "Exc_L4-6_2 1.843829e-01     1.928413  1.843829e-01\n",
       "Exc_L4-6_3 1.441577e-05    17.375321  2.883154e-05"
      ]
     },
     "metadata": {},
     "output_type": "display_data"
    }
   ],
   "source": [
    "### determine whether overlap of Disease Genes and Age Genes is significant\n",
    "Age_Disease_overlap_test <- list()\n",
    "\n",
    "for (celltype in names(DE_Disease_genes)){\n",
    "    overlap <- newGeneOverlap(DE_Disease_genes[[celltype]]$ID, DE_Age_genes[[celltype]]$ID,genome.size=length(DE_Age_results[[celltype]]$ID))\n",
    "    Age_Disease_overlap_test[[celltype]] <- testGeneOverlap(overlap) \n",
    "}\n",
    "\n",
    "Age_Disease_overlap_test_table <- as.data.frame(matrix(ncol=7, nrow=length(names(DE_Disease_genes))))\n",
    "colnames(Age_Disease_overlap_test_table) <- c('celltype', 'Disease DE genes', 'Age DE genes', 'n overlap genes', 'Genome size', 'overlap p-value', 'Odds Ratio' )\n",
    "rownames(Age_Disease_overlap_test_table) <- names(DE_Disease_genes)\n",
    "\n",
    "for (celltype in names(DE_Disease_genes)){\n",
    "    Age_Disease_overlap_test_table[celltype,]$`celltype` <- celltype\n",
    "    Age_Disease_overlap_test_table[celltype,]$`Disease DE genes` <- length(Age_Disease_overlap_test[[celltype]]@listA)\n",
    "    Age_Disease_overlap_test_table[celltype,]$`Age DE genes` <- length(Age_Disease_overlap_test[[celltype]]@listB)\n",
    "    Age_Disease_overlap_test_table[celltype,]$`n overlap genes` <- length(Age_Disease_overlap_test[[celltype]]@intersection)\n",
    "    Age_Disease_overlap_test_table[celltype,]$`Genome size` <- Age_Disease_overlap_test[[celltype]]@genome.size\n",
    "    Age_Disease_overlap_test_table[celltype,]$`overlap p-value` <- Age_Disease_overlap_test[[celltype]]@pval\n",
    "    Age_Disease_overlap_test_table[celltype,]$`Odds Ratio` <- Age_Disease_overlap_test[[celltype]]@odds.ratio\n",
    "}\n",
    "\n",
    "# calculate the fdr adjusted p-value\n",
    "Age_Disease_overlap_test_table$p.adjust_FDR <- p.adjust(Age_Disease_overlap_test_table$`overlap p-value`, \n",
    "                                                      method = 'fdr', n = length(Age_Disease_overlap_test_table$`overlap p-value`))\n",
    "\n",
    "Age_Disease_overlap_test_table"
   ]
  },
  {
   "cell_type": "code",
   "execution_count": 5,
   "id": "2c3b0dc1-5986-4fb1-8045-b6a350a4a5ba",
   "metadata": {
    "execution": {
     "iopub.execute_input": "2024-01-29T17:41:31.275503Z",
     "iopub.status.busy": "2024-01-29T17:41:31.272477Z",
     "iopub.status.idle": "2024-01-29T17:41:31.314313Z",
     "shell.execute_reply": "2024-01-29T17:41:31.311696Z"
    }
   },
   "outputs": [],
   "source": [
    "combined_Age_Disease_list <- list()\n",
    "for (celltype in names(DE_Disease_genes)){\n",
    "    combined_Age_Disease_list[[celltype]] <- merge(DE_Age_genes[[celltype]], DE_Disease_genes[[celltype]], by='ID')\n",
    "}"
   ]
  },
  {
   "cell_type": "markdown",
   "id": "ca198b7a-9b86-46a1-af47-d2b9d352c65c",
   "metadata": {},
   "source": [
    "## Supplementary Table 13"
   ]
  },
  {
   "cell_type": "code",
   "execution_count": 6,
   "id": "6f3b364a-ea5a-4678-8a94-07763f1f476e",
   "metadata": {
    "execution": {
     "iopub.execute_input": "2024-01-29T17:41:51.399153Z",
     "iopub.status.busy": "2024-01-29T17:41:51.396186Z",
     "iopub.status.idle": "2024-01-29T17:41:51.447381Z",
     "shell.execute_reply": "2024-01-29T17:41:51.444899Z"
    }
   },
   "outputs": [
    {
     "data": {
      "text/html": [
       "<table class=\"dataframe\">\n",
       "<caption>A data.frame: 4 × 8</caption>\n",
       "<thead>\n",
       "\t<tr><th></th><th scope=col>celltype</th><th scope=col>Disease DE genes</th><th scope=col>Age DE genes</th><th scope=col>n overlap genes</th><th scope=col>Genome size</th><th scope=col>overlap p-value</th><th scope=col>Odds Ratio</th><th scope=col>p.adjust_FDR</th></tr>\n",
       "\t<tr><th></th><th scope=col>&lt;chr&gt;</th><th scope=col>&lt;int&gt;</th><th scope=col>&lt;int&gt;</th><th scope=col>&lt;int&gt;</th><th scope=col>&lt;int&gt;</th><th scope=col>&lt;dbl&gt;</th><th scope=col>&lt;dbl&gt;</th><th scope=col>&lt;dbl&gt;</th></tr>\n",
       "</thead>\n",
       "<tbody>\n",
       "\t<tr><th scope=row>Exc_L2-3</th><td>Exc_L2-3  </td><td> 67</td><td>1925</td><td>14</td><td>17910</td><td>1.076502e-02</td><td> 2.202095</td><td>1.435336e-02</td></tr>\n",
       "\t<tr><th scope=row>Exc_L4-6_1</th><td>Exc_L4-6_1</td><td>108</td><td> 955</td><td>30</td><td>12872</td><td>1.329352e-10</td><td> 4.921514</td><td>5.317406e-10</td></tr>\n",
       "\t<tr><th scope=row>Exc_L4-6_2</th><td>Exc_L4-6_2</td><td> 24</td><td>1156</td><td> 4</td><td>12284</td><td>1.843829e-01</td><td> 1.928413</td><td>1.843829e-01</td></tr>\n",
       "\t<tr><th scope=row>Exc_L4-6_3</th><td>Exc_L4-6_3</td><td> 13</td><td> 469</td><td> 6</td><td> 9866</td><td>1.441577e-05</td><td>17.375321</td><td>2.883154e-05</td></tr>\n",
       "</tbody>\n",
       "</table>\n"
      ],
      "text/latex": [
       "A data.frame: 4 × 8\n",
       "\\begin{tabular}{r|llllllll}\n",
       "  & celltype & Disease DE genes & Age DE genes & n overlap genes & Genome size & overlap p-value & Odds Ratio & p.adjust\\_FDR\\\\\n",
       "  & <chr> & <int> & <int> & <int> & <int> & <dbl> & <dbl> & <dbl>\\\\\n",
       "\\hline\n",
       "\tExc\\_L2-3 & Exc\\_L2-3   &  67 & 1925 & 14 & 17910 & 1.076502e-02 &  2.202095 & 1.435336e-02\\\\\n",
       "\tExc\\_L4-6\\_1 & Exc\\_L4-6\\_1 & 108 &  955 & 30 & 12872 & 1.329352e-10 &  4.921514 & 5.317406e-10\\\\\n",
       "\tExc\\_L4-6\\_2 & Exc\\_L4-6\\_2 &  24 & 1156 &  4 & 12284 & 1.843829e-01 &  1.928413 & 1.843829e-01\\\\\n",
       "\tExc\\_L4-6\\_3 & Exc\\_L4-6\\_3 &  13 &  469 &  6 &  9866 & 1.441577e-05 & 17.375321 & 2.883154e-05\\\\\n",
       "\\end{tabular}\n"
      ],
      "text/markdown": [
       "\n",
       "A data.frame: 4 × 8\n",
       "\n",
       "| <!--/--> | celltype &lt;chr&gt; | Disease DE genes &lt;int&gt; | Age DE genes &lt;int&gt; | n overlap genes &lt;int&gt; | Genome size &lt;int&gt; | overlap p-value &lt;dbl&gt; | Odds Ratio &lt;dbl&gt; | p.adjust_FDR &lt;dbl&gt; |\n",
       "|---|---|---|---|---|---|---|---|---|\n",
       "| Exc_L2-3 | Exc_L2-3   |  67 | 1925 | 14 | 17910 | 1.076502e-02 |  2.202095 | 1.435336e-02 |\n",
       "| Exc_L4-6_1 | Exc_L4-6_1 | 108 |  955 | 30 | 12872 | 1.329352e-10 |  4.921514 | 5.317406e-10 |\n",
       "| Exc_L4-6_2 | Exc_L4-6_2 |  24 | 1156 |  4 | 12284 | 1.843829e-01 |  1.928413 | 1.843829e-01 |\n",
       "| Exc_L4-6_3 | Exc_L4-6_3 |  13 |  469 |  6 |  9866 | 1.441577e-05 | 17.375321 | 2.883154e-05 |\n",
       "\n"
      ],
      "text/plain": [
       "           celltype   Disease DE genes Age DE genes n overlap genes Genome size\n",
       "Exc_L2-3   Exc_L2-3    67              1925         14              17910      \n",
       "Exc_L4-6_1 Exc_L4-6_1 108               955         30              12872      \n",
       "Exc_L4-6_2 Exc_L4-6_2  24              1156          4              12284      \n",
       "Exc_L4-6_3 Exc_L4-6_3  13               469          6               9866      \n",
       "           overlap p-value Odds Ratio p.adjust_FDR\n",
       "Exc_L2-3   1.076502e-02     2.202095  1.435336e-02\n",
       "Exc_L4-6_1 1.329352e-10     4.921514  5.317406e-10\n",
       "Exc_L4-6_2 1.843829e-01     1.928413  1.843829e-01\n",
       "Exc_L4-6_3 1.441577e-05    17.375321  2.883154e-05"
      ]
     },
     "metadata": {},
     "output_type": "display_data"
    }
   ],
   "source": [
    "Age_Disease_overlap_test_table\n",
    "library(writexl)\n",
    "#write_xlsx(Age_Disease_overlap_test_table, '../results/dreamlet_tables/final_celltypes_N87/Age_Disease_overlap_test_table.xlsx', col_names = TRUE)"
   ]
  },
  {
   "cell_type": "markdown",
   "id": "b0a032bd-d499-42a6-b325-6f51f45e5553",
   "metadata": {},
   "source": [
    "## Quantify of directionality of overlapping genes"
   ]
  },
  {
   "cell_type": "code",
   "execution_count": 7,
   "id": "43825347-60ad-4e3e-9c4a-7bf62c6fb014",
   "metadata": {
    "execution": {
     "iopub.execute_input": "2024-01-29T17:41:56.027141Z",
     "iopub.status.busy": "2024-01-29T17:41:56.024271Z",
     "iopub.status.idle": "2024-01-29T17:41:56.156019Z",
     "shell.execute_reply": "2024-01-29T17:41:56.154327Z"
    }
   },
   "outputs": [
    {
     "data": {
      "text/html": [
       "<table class=\"dataframe\">\n",
       "<caption>A data.frame: 4 × 10</caption>\n",
       "<thead>\n",
       "\t<tr><th></th><th scope=col>celltype</th><th scope=col>common_up</th><th scope=col>common_down</th><th scope=col>up_Age_down_Status</th><th scope=col>down_Age_up_Status</th><th scope=col>total</th><th scope=col>total_common</th><th scope=col>total_divergent</th><th scope=col>percentage_common</th><th scope=col>percentage_divergent</th></tr>\n",
       "\t<tr><th></th><th scope=col>&lt;chr&gt;</th><th scope=col>&lt;int&gt;</th><th scope=col>&lt;int&gt;</th><th scope=col>&lt;int&gt;</th><th scope=col>&lt;int&gt;</th><th scope=col>&lt;int&gt;</th><th scope=col>&lt;int&gt;</th><th scope=col>&lt;int&gt;</th><th scope=col>&lt;dbl&gt;</th><th scope=col>&lt;dbl&gt;</th></tr>\n",
       "</thead>\n",
       "<tbody>\n",
       "\t<tr><th scope=row>Exc_L2-3</th><td>Exc_L2-3  </td><td> 1</td><td>11</td><td>0</td><td>2</td><td>14</td><td>12</td><td>2</td><td> 85.71429</td><td>14.285714</td></tr>\n",
       "\t<tr><th scope=row>Exc_L4-6_1</th><td>Exc_L4-6_1</td><td>14</td><td>15</td><td>0</td><td>1</td><td>30</td><td>29</td><td>1</td><td> 96.66667</td><td> 3.333333</td></tr>\n",
       "\t<tr><th scope=row>Exc_L4-6_2</th><td>Exc_L4-6_2</td><td> 3</td><td> 0</td><td>0</td><td>1</td><td> 4</td><td> 3</td><td>1</td><td> 75.00000</td><td>25.000000</td></tr>\n",
       "\t<tr><th scope=row>Exc_L4-6_3</th><td>Exc_L4-6_3</td><td> 1</td><td> 5</td><td>0</td><td>0</td><td> 6</td><td> 6</td><td>0</td><td>100.00000</td><td> 0.000000</td></tr>\n",
       "</tbody>\n",
       "</table>\n"
      ],
      "text/latex": [
       "A data.frame: 4 × 10\n",
       "\\begin{tabular}{r|llllllllll}\n",
       "  & celltype & common\\_up & common\\_down & up\\_Age\\_down\\_Status & down\\_Age\\_up\\_Status & total & total\\_common & total\\_divergent & percentage\\_common & percentage\\_divergent\\\\\n",
       "  & <chr> & <int> & <int> & <int> & <int> & <int> & <int> & <int> & <dbl> & <dbl>\\\\\n",
       "\\hline\n",
       "\tExc\\_L2-3 & Exc\\_L2-3   &  1 & 11 & 0 & 2 & 14 & 12 & 2 &  85.71429 & 14.285714\\\\\n",
       "\tExc\\_L4-6\\_1 & Exc\\_L4-6\\_1 & 14 & 15 & 0 & 1 & 30 & 29 & 1 &  96.66667 &  3.333333\\\\\n",
       "\tExc\\_L4-6\\_2 & Exc\\_L4-6\\_2 &  3 &  0 & 0 & 1 &  4 &  3 & 1 &  75.00000 & 25.000000\\\\\n",
       "\tExc\\_L4-6\\_3 & Exc\\_L4-6\\_3 &  1 &  5 & 0 & 0 &  6 &  6 & 0 & 100.00000 &  0.000000\\\\\n",
       "\\end{tabular}\n"
      ],
      "text/markdown": [
       "\n",
       "A data.frame: 4 × 10\n",
       "\n",
       "| <!--/--> | celltype &lt;chr&gt; | common_up &lt;int&gt; | common_down &lt;int&gt; | up_Age_down_Status &lt;int&gt; | down_Age_up_Status &lt;int&gt; | total &lt;int&gt; | total_common &lt;int&gt; | total_divergent &lt;int&gt; | percentage_common &lt;dbl&gt; | percentage_divergent &lt;dbl&gt; |\n",
       "|---|---|---|---|---|---|---|---|---|---|---|\n",
       "| Exc_L2-3 | Exc_L2-3   |  1 | 11 | 0 | 2 | 14 | 12 | 2 |  85.71429 | 14.285714 |\n",
       "| Exc_L4-6_1 | Exc_L4-6_1 | 14 | 15 | 0 | 1 | 30 | 29 | 1 |  96.66667 |  3.333333 |\n",
       "| Exc_L4-6_2 | Exc_L4-6_2 |  3 |  0 | 0 | 1 |  4 |  3 | 1 |  75.00000 | 25.000000 |\n",
       "| Exc_L4-6_3 | Exc_L4-6_3 |  1 |  5 | 0 | 0 |  6 |  6 | 0 | 100.00000 |  0.000000 |\n",
       "\n"
      ],
      "text/plain": [
       "           celltype   common_up common_down up_Age_down_Status\n",
       "Exc_L2-3   Exc_L2-3    1        11          0                 \n",
       "Exc_L4-6_1 Exc_L4-6_1 14        15          0                 \n",
       "Exc_L4-6_2 Exc_L4-6_2  3         0          0                 \n",
       "Exc_L4-6_3 Exc_L4-6_3  1         5          0                 \n",
       "           down_Age_up_Status total total_common total_divergent\n",
       "Exc_L2-3   2                  14    12           2              \n",
       "Exc_L4-6_1 1                  30    29           1              \n",
       "Exc_L4-6_2 1                   4     3           1              \n",
       "Exc_L4-6_3 0                   6     6           0              \n",
       "           percentage_common percentage_divergent\n",
       "Exc_L2-3    85.71429         14.285714           \n",
       "Exc_L4-6_1  96.66667          3.333333           \n",
       "Exc_L4-6_2  75.00000         25.000000           \n",
       "Exc_L4-6_3 100.00000          0.000000           "
      ]
     },
     "metadata": {},
     "output_type": "display_data"
    }
   ],
   "source": [
    "#quantify how many go in the same direction\n",
    "# Age up Status down\n",
    "# Age down Status up\n",
    "\n",
    "directionality_quantification <- as.data.frame(matrix(ncol=5, nrow=length(names(combined_Age_Disease_list))))\n",
    "rownames(directionality_quantification ) <- names(combined_Age_Disease_list)\n",
    "colnames(directionality_quantification ) <- c('celltype', 'common_up', 'common_down', 'up_Age_down_Status', 'down_Age_up_Status')\n",
    "\n",
    "\n",
    "for (celltype in names(combined_Age_Disease_list)){\n",
    "  tmp <- combined_Age_Disease_list[[celltype]]\n",
    "  up <- tmp %>% filter(logFC.x > 0 & logFC.y > 0)\n",
    "  down <- tmp %>% filter(logFC.x < 0 & logFC.y < 0)\n",
    "  up_Age_down_Status <- tmp %>% filter(logFC.x > 0 & logFC.y < 0)\n",
    "  down_Age_up_Status <- tmp %>% filter(logFC.x < 0 & logFC.y > 0)\n",
    "  directionality_quantification[celltype, ]$celltype <- celltype\n",
    "  directionality_quantification[celltype, ]$common_up <- length(up$ID)\n",
    "  directionality_quantification[celltype, ]$common_down <- length(down$ID)\n",
    "  directionality_quantification[celltype, ]$up_Age_down_Status <- length(up_Age_down_Status$ID)\n",
    "  directionality_quantification[celltype, ]$down_Age_up_Status <- length(down_Age_up_Status$ID)\n",
    "}\n",
    "#directionality_quantification\n",
    "\n",
    "directionality_quantification$total <- directionality_quantification$common_up + directionality_quantification$common_down + directionality_quantification$up_Age_down_Status + directionality_quantification$down_Age_up_Status\n",
    "directionality_quantification$total_common <- directionality_quantification$common_up + directionality_quantification$common_down\n",
    "directionality_quantification$total_divergent <- directionality_quantification$up_Age_down_Status +directionality_quantification$down_Age_up_Status\n",
    "directionality_quantification$percentage_common <- directionality_quantification$total_common/directionality_quantification$total *100\n",
    "directionality_quantification$percentage_divergent <- (directionality_quantification$up_Age_down_Status +directionality_quantification$down_Age_up_Status)/directionality_quantification$total *100\n",
    "directionality_quantification"
   ]
  },
  {
   "cell_type": "code",
   "execution_count": 8,
   "id": "e8220af8-b701-4c14-a7a7-a8c0243b988e",
   "metadata": {
    "execution": {
     "iopub.execute_input": "2024-01-29T17:42:01.608623Z",
     "iopub.status.busy": "2024-01-29T17:42:01.605916Z",
     "iopub.status.idle": "2024-01-29T17:42:02.092473Z",
     "shell.execute_reply": "2024-01-29T17:42:02.090797Z"
    }
   },
   "outputs": [
    {
     "data": {
      "text/html": [
       "1"
      ],
      "text/latex": [
       "1"
      ],
      "text/markdown": [
       "1"
      ],
      "text/plain": [
       "[1] 1"
      ]
     },
     "metadata": {},
     "output_type": "display_data"
    },
    {
     "data": {
      "text/html": [
       "75"
      ],
      "text/latex": [
       "75"
      ],
      "text/markdown": [
       "75"
      ],
      "text/plain": [
       "[1] 75"
      ]
     },
     "metadata": {},
     "output_type": "display_data"
    },
    {
     "data": {
      "image/png": "[encoded data removed]",
      "text/plain": [
       "plot without title"
      ]
     },
     "metadata": {
      "image/png": {
       "height": 180,
       "width": 300
      }
     },
     "output_type": "display_data"
    }
   ],
   "source": [
    "# what's the percentage of cell types with a common regulation higher than 50%?\n",
    "length(which(directionality_quantification$percentage_common > 50))/length(directionality_quantification$percentage_common) # 100%\n",
    "\n",
    "#minimum % common regulation\n",
    "min(directionality_quantification$percentage_common)\n",
    "\n",
    "directionality_quantification$celltype <- factor(directionality_quantification$celltype, \n",
    "                                                 levels=c(\"Exc_L4-6_3\", \"Exc_L4-6_2\", \n",
    "                                                            \"Exc_L4-6_1\", \"Exc_L2-3\"))\n",
    "\n",
    "long_quant <- directionality_quantification %>% \n",
    "  pivot_longer(\n",
    "    cols = 9:10, \n",
    "    names_to = \"Regulation\",\n",
    "    values_to = \"Percentage\"\n",
    "  )\n",
    "\n",
    "long_quant$Percentage <- round(long_quant$Percentage, digits = 1)\n",
    "long_quant$Regulation <- ifelse(long_quant$Regulation == 'percentage_common', 'Common', 'Divergent')\n",
    "long_quant$celltype <- factor(long_quant$celltype, levels=c(\"Exc_L4-6_3\", \"Exc_L4-6_2\", \n",
    "                                                            \"Exc_L4-6_1\", \"Exc_L2-3\"))\n",
    "\n",
    "long_quant$Regulation <- factor(long_quant$Regulation, levels=c('Common', 'Divergent'))\n",
    "\n",
    "library(ggplot2)\n",
    "\n",
    "options(repr.plot.width=5, repr.plot.height=3)\n",
    "ggplot(data=long_quant, aes(x=celltype, y=Percentage, fill=Regulation)) + \n",
    "  geom_bar(position = 'stack', stat='identity') +\n",
    "  coord_flip() + scale_fill_manual(values = c(\"#EA8C55\", \"#496A81\") ) +xlab('Cell Type') +\n",
    "ylab('Percentage') + ggtitle('% of common and divergent DE genes') + theme_classic() + \n",
    "theme(axis.text=element_text(size=10, color = 'black'),  axis.title=element_text(size=12,face=\"bold\"),\n",
    "      plot.title = element_text(size=13, face='bold'), legend.title=element_text(face='bold')) +\n",
    "geom_hline(yintercept = 50, linetype=\"dashed\", color = \"black\")\n",
    "\n",
    "#ggsave('../figures/barplot_overlap_Age_&_Disease_genes_regulation.pdf', plot = last_plot(), width = 4, height =2.5)"
   ]
  },
  {
   "cell_type": "markdown",
   "id": "37ce1347-4226-463c-aa37-6751def506c8",
   "metadata": {},
   "source": [
    "## Extended Data Fig. 9d"
   ]
  },
  {
   "cell_type": "code",
   "execution_count": 9,
   "id": "5311fbf6-e530-4293-8dd8-a07694319a45",
   "metadata": {
    "execution": {
     "iopub.execute_input": "2024-01-29T17:42:05.718275Z",
     "iopub.status.busy": "2024-01-29T17:42:05.715678Z",
     "iopub.status.idle": "2024-01-29T17:42:06.215549Z",
     "shell.execute_reply": "2024-01-29T17:42:06.213737Z"
    }
   },
   "outputs": [
    {
     "data": {
      "image/png": "[encoded data removed]",
      "text/plain": [
       "plot without title"
      ]
     },
     "metadata": {
      "image/png": {
       "height": 240,
       "width": 300
      }
     },
     "output_type": "display_data"
    }
   ],
   "source": [
    "library(viridis)\n",
    "options(repr.plot.width=5, repr.plot.height=4)\n",
    "regulation = ggplot(directionality_quantification, aes(2, celltype)) +\n",
    "        geom_tile(fill=\"white\") +\n",
    "        geom_point(aes(color=percentage_common, size=total)) +\n",
    "scale_size_continuous(name = \"# genes affected by\\n age & disease\", breaks=c(3, 6, 11, 16, 21)) +\n",
    "        scale_color_viridis(name = \"% genes\\nwith common\\nregulation\", lim=c(70, NA)) +\n",
    "        theme_classic() +\n",
    "        theme(aspect.ratio=20, axis.text.x=element_blank(), axis.ticks.x=element_blank()) +\n",
    "        xlab('') + ylab('') \n",
    "regulation\n",
    "\n",
    "#ggsave('../figures/plot_overlap_Age_&_Disease_genes_regulation.pdf', plot = last_plot(), width = 3, height =4.5)"
   ]
  },
  {
   "cell_type": "code",
   "execution_count": 10,
   "id": "8e00f953-9a0d-463a-a065-aa4bf75f4896",
   "metadata": {
    "execution": {
     "iopub.execute_input": "2024-01-29T17:42:15.980223Z",
     "iopub.status.busy": "2024-01-29T17:42:15.977378Z",
     "iopub.status.idle": "2024-01-29T17:42:16.016607Z",
     "shell.execute_reply": "2024-01-29T17:42:16.014087Z"
    }
   },
   "outputs": [
    {
     "name": "stdout",
     "output_type": "stream",
     "text": [
      "[1] \"Exc_L2-3 up: ADCYAP1R1\"\n",
      " [1] \"Exc_L2-3 down: APLF\"       \"Exc_L2-3 down: AC034268.2\"\n",
      " [3] \"Exc_L2-3 down: AC005972.3\" \"Exc_L2-3 down: LINC02364\" \n",
      " [5] \"Exc_L2-3 down: AL122014.1\" \"Exc_L2-3 down: AC097480.1\"\n",
      " [7] \"Exc_L2-3 down: EXPH5\"      \"Exc_L2-3 down: AC079385.1\"\n",
      " [9] \"Exc_L2-3 down: SLC22A10\"   \"Exc_L2-3 down: AC015943.1\"\n",
      "[11] \"Exc_L2-3 down: AC093791.2\"\n",
      " [1] \"Exc_L4-6_1 up: SLIT2\"      \"Exc_L4-6_1 up: AC012404.1\"\n",
      " [3] \"Exc_L4-6_1 up: BTBD11\"     \"Exc_L4-6_1 up: CLMN\"      \n",
      " [5] \"Exc_L4-6_1 up: TRAF3IP2\"   \"Exc_L4-6_1 up: GPRIN3\"    \n",
      " [7] \"Exc_L4-6_1 up: ALDH3A2\"    \"Exc_L4-6_1 up: GALNT16\"   \n",
      " [9] \"Exc_L4-6_1 up: ADCYAP1R1\"  \"Exc_L4-6_1 up: SGPP2\"     \n",
      "[11] \"Exc_L4-6_1 up: HRH3\"       \"Exc_L4-6_1 up: PLCXD2\"    \n",
      "[13] \"Exc_L4-6_1 up: CTPS2\"      \"Exc_L4-6_1 up: AC058791.1\"\n",
      " [1] \"Exc_L4-6_1 down: LCN15\"      \"Exc_L4-6_1 down: LINC00507\" \n",
      " [3] \"Exc_L4-6_1 down: HES4\"       \"Exc_L4-6_1 down: CENPF\"     \n",
      " [5] \"Exc_L4-6_1 down: KLHL5\"      \"Exc_L4-6_1 down: RCSD1\"     \n",
      " [7] \"Exc_L4-6_1 down: CDH9\"       \"Exc_L4-6_1 down: AL359636.2\"\n",
      " [9] \"Exc_L4-6_1 down: NREP\"       \"Exc_L4-6_1 down: ANO3\"      \n",
      "[11] \"Exc_L4-6_1 down: LNX1\"       \"Exc_L4-6_1 down: LINC01202\" \n",
      "[13] \"Exc_L4-6_1 down: MEIS3\"      \"Exc_L4-6_1 down: APLF\"      \n",
      "[15] \"Exc_L4-6_1 down: AC068787.2\"\n",
      "[1] \"Exc_L4-6_2 up: MCTP1\"     \"Exc_L4-6_2 up: RHBDL3\"   \n",
      "[3] \"Exc_L4-6_2 up: LINC00513\"\n",
      "[1] \"Exc_L4-6_2 down: \"\n",
      "[1] \"Exc_L4-6_3 up: PMPCB\"\n",
      "[1] \"Exc_L4-6_3 down: AC034268.2\" \"Exc_L4-6_3 down: EXPH5\"     \n",
      "[3] \"Exc_L4-6_3 down: AC015943.1\" \"Exc_L4-6_3 down: APLF\"      \n",
      "[5] \"Exc_L4-6_3 down: LINC01202\" \n"
     ]
    }
   ],
   "source": [
    "# common upregulated\n",
    "for (celltype in names(DE_Disease_genes)){\n",
    "    print(paste0(celltype, ' up: ', intersect(DE_Disease_genes_up[[celltype]]$ID, DE_Age_genes_up[[celltype]]$ID))) \n",
    "    print(paste0(celltype, ' down: ', intersect(DE_Disease_genes_down[[celltype]]$ID, DE_Age_genes_down[[celltype]]$ID)))\n",
    "}                                                                                                 "
   ]
  },
  {
   "cell_type": "markdown",
   "id": "6caf2538-2001-4ce8-8bf9-4e39954600e9",
   "metadata": {},
   "source": [
    "# Read in genes associated with schizophrenia (Ruzicka et al. medrvix)"
   ]
  },
  {
   "cell_type": "markdown",
   "id": "7661ae1e-7a40-4cd4-be75-d52595cc37be",
   "metadata": {},
   "source": [
    "https://www.medrxiv.org/content/10.1101/2022.08.31.22279406v1 <br>\n",
    "medRxiv preprint doi: https://doi.org/10.1101/2022.08.31.22279406; version posted September 2, 2022. <br>\n",
    "accessed on 2024018"
   ]
  },
  {
   "cell_type": "code",
   "execution_count": 11,
   "id": "6bc8dc27-11e6-4109-9413-e866c9d237e7",
   "metadata": {
    "execution": {
     "iopub.execute_input": "2024-01-29T17:42:22.747408Z",
     "iopub.status.busy": "2024-01-29T17:42:22.744621Z",
     "iopub.status.idle": "2024-01-29T17:42:28.807629Z",
     "shell.execute_reply": "2024-01-29T17:42:28.805848Z"
    }
   },
   "outputs": [],
   "source": [
    "cts_Ruzicka <- c('Ex-L2', 'Ex-L23', 'Ex-L3', 'Ex-L4_MYLK', 'Ex-L45_MET', 'Ex-L45_LRRK1', 'Ex-L5b_HTR2C',\n",
    "                 'Ex-L56', 'Ex-L56_CC_NTNG2', 'Ex-L6_CC_SEMA3A', 'Ex-L6b_SEMA3D', 'Ex-L6b_SEMA3E', \n",
    "                 'In-Rosehip_CHST9', 'In-Rosehip_TRPC3', 'In-Reelin', 'In-VIP', 'In-PV_Chandelier',\n",
    "                 'In-PV_Basket', 'In-SST', 'Oli', 'OPC', 'Ast', 'Mic', 'Endo', 'Pericytes')\n",
    "\n",
    "# SCZ DE\n",
    "Ruzicka_SCZ <- list()\n",
    "for (ct in cts_Ruzicka){\n",
    "  Ruzicka_SCZ[[ct]] <- as.data.frame(read_excel('../external_datasets/Ruzicka_TableS4_DE_genes_merged_tables_medrxiv.xlsx', sheet = ct))\n",
    "}\n",
    "\n",
    "#get significant hits\n",
    "# Meta-analysis identified a total of 6,634 differential expression events (FDR < 0.05 and |log2(fold change)| > 0.1)\n",
    "DE_Ruzicka_SCZ <- list()\n",
    "for (ct in cts_Ruzicka){\n",
    "    DE_Ruzicka_SCZ[[ct]] <- Ruzicka_SCZ[[ct]][Ruzicka_SCZ[[ct]]$Meta_adj.P.Val < 0.05 & abs(Ruzicka_SCZ[[ct]]$Meta_logFC) > 0.1,]\n",
    "}\n",
    "\n",
    "# split in up- and downregulated\n",
    "DE_Ruzicka_SCZ_up <- list()\n",
    "DE_Ruzicka_SCZ_down <- list()\n",
    "for (ct in cts_Ruzicka){\n",
    "    DE_Ruzicka_SCZ_up[[ct]] <- DE_Ruzicka_SCZ[[ct]][DE_Ruzicka_SCZ[[ct]]$Meta_logFC > 0,]\n",
    "    DE_Ruzicka_SCZ_down[[ct]] <- DE_Ruzicka_SCZ[[ct]][DE_Ruzicka_SCZ[[ct]]$Meta_logFC < 0,]\n",
    "}"
   ]
  },
  {
   "cell_type": "code",
   "execution_count": 12,
   "id": "c9e8a1a5-cd75-4e0a-b2e8-2eedf46e1e7d",
   "metadata": {
    "execution": {
     "iopub.execute_input": "2024-01-29T17:42:30.201216Z",
     "iopub.status.busy": "2024-01-29T17:42:30.198610Z",
     "iopub.status.idle": "2024-01-29T17:42:30.233779Z",
     "shell.execute_reply": "2024-01-29T17:42:30.231288Z"
    }
   },
   "outputs": [
    {
     "name": "stdout",
     "output_type": "stream",
     "text": [
      "[1] \"Ex-L2: upregulated genes: 135; downregulated genes: 251\"\n",
      "[1] \"Ex-L23: upregulated genes: 186; downregulated genes: 362\"\n",
      "[1] \"Ex-L3: upregulated genes: 67; downregulated genes: 375\"\n",
      "[1] \"Ex-L4_MYLK: upregulated genes: 92; downregulated genes: 337\"\n",
      "[1] \"Ex-L45_MET: upregulated genes: 66; downregulated genes: 402\"\n",
      "[1] \"Ex-L45_LRRK1: upregulated genes: 112; downregulated genes: 246\"\n",
      "[1] \"Ex-L5b_HTR2C: upregulated genes: 56; downregulated genes: 226\"\n",
      "[1] \"Ex-L56: upregulated genes: 54; downregulated genes: 348\"\n",
      "[1] \"Ex-L56_CC_NTNG2: upregulated genes: 29; downregulated genes: 54\"\n",
      "[1] \"Ex-L6_CC_SEMA3A: upregulated genes: 57; downregulated genes: 595\"\n",
      "[1] \"Ex-L6b_SEMA3D: upregulated genes: 79; downregulated genes: 662\"\n",
      "[1] \"Ex-L6b_SEMA3E: upregulated genes: 41; downregulated genes: 297\"\n",
      "[1] \"In-Rosehip_CHST9: upregulated genes: 23; downregulated genes: 86\"\n",
      "[1] \"In-Rosehip_TRPC3: upregulated genes: 57; downregulated genes: 241\"\n",
      "[1] \"In-Reelin: upregulated genes: 50; downregulated genes: 145\"\n",
      "[1] \"In-VIP: upregulated genes: 29; downregulated genes: 127\"\n",
      "[1] \"In-PV_Chandelier: upregulated genes: 19; downregulated genes: 55\"\n",
      "[1] \"In-PV_Basket: upregulated genes: 72; downregulated genes: 102\"\n",
      "[1] \"In-SST: upregulated genes: 19; downregulated genes: 75\"\n",
      "[1] \"Oli: upregulated genes: 42; downregulated genes: 21\"\n",
      "[1] \"OPC: upregulated genes: 44; downregulated genes: 34\"\n",
      "[1] \"Ast: upregulated genes: 83; downregulated genes: 65\"\n",
      "[1] \"Mic: upregulated genes: 70; downregulated genes: 26\"\n",
      "[1] \"Endo: upregulated genes: 1; downregulated genes: 6\"\n",
      "[1] \"Pericytes: upregulated genes: 10; downregulated genes: 3\"\n"
     ]
    }
   ],
   "source": [
    "# number of DE genes match the numbers reported\n",
    "for (ct in cts_Ruzicka){\n",
    "    up_tmp <- dim(DE_Ruzicka_SCZ_up[[ct]])[1]\n",
    "    down_tmp <- dim(DE_Ruzicka_SCZ_down[[ct]])[1]\n",
    "    print(paste0(ct, ': upregulated genes: ', up_tmp, \n",
    "                 '; downregulated genes: ', down_tmp))\n",
    "}"
   ]
  },
  {
   "cell_type": "markdown",
   "id": "d1c7ecaa-f5bf-4755-8f2e-c9af5f2d17e4",
   "metadata": {},
   "source": [
    "## Perform overlap of age and SCZ-associated genes"
   ]
  },
  {
   "cell_type": "code",
   "execution_count": 13,
   "id": "f79473a9-c024-4218-8b1b-d9080ac8136a",
   "metadata": {
    "execution": {
     "iopub.execute_input": "2024-01-29T17:42:33.511155Z",
     "iopub.status.busy": "2024-01-29T17:42:33.508483Z",
     "iopub.status.idle": "2024-01-29T17:42:33.558646Z",
     "shell.execute_reply": "2024-01-29T17:42:33.555972Z"
    }
   },
   "outputs": [],
   "source": [
    "#cell type names matching\n",
    "cts_Ruzicka <- c('Ex-L2', 'Ex-L23', 'Ex-L3', 'Ex-L4_MYLK', 'Ex-L45_MET', 'Ex-L45_LRRK1','Ex-L5b_HTR2C',\n",
    "                 'Ex-L56', 'Ex-L56_CC_NTNG2', 'Ex-L6_CC_SEMA3A', 'Ex-L6b_SEMA3D',\n",
    "                 'In-Rosehip_TRPC3', 'In-Rosehip_CHST9', 'In-Reelin', 'In-PV_Basket', 'In-PV_Chandelier','In-SST', \n",
    "                'In-VIP', 'Ast', 'Ast', 'Endo','Mic', 'Oli', 'OPC')\n",
    "\n",
    "# names have to be unique; add *\n",
    "names(cts_Ruzicka) <- c('Exc_L2-3', 'Exc_L2-3*', 'Exc_L3-5', 'Exc_L3-5*', 'Exc_L4-6_2','Exc_L4-6_1','Exc_L5-6_HTR2C',\n",
    "                        'Exc_L5-6_1', 'Exc_L4-6_3', 'Exc_L4-6_3*', 'Exc_L5-6_1*', 'In_LAMP5_1','In_LAMP5_2', \n",
    "                        'In_RELN', 'In_PVALB_Ba', 'In_PVALB_Ch',\"In_SST\", 'In_VIP','Astro_FB', 'Astro_PP', \n",
    "                        'Endothelial', 'Microglia', 'Oligodendrocyte', 'OPC')\n",
    "\n",
    "duplicated_cts <- c('Exc_L2-3', 'Exc_L3-5', 'Exc_L4-6_3', 'Exc_L5-6_1')\n",
    "for (i in duplicated_cts){\n",
    "    new_name <- paste0(i,\"*\")\n",
    "    DE_Age_results[[new_name]] <- DE_Age_results[[i]]\n",
    "    DE_Age_genes[[new_name]] <- DE_Age_genes[[i]]\n",
    "    DE_Age_genes_up[[new_name]] <- DE_Age_genes[[new_name]][DE_Age_genes[[new_name]]$logFC >0,]\n",
    "    DE_Age_genes_down[[new_name]] <- DE_Age_genes[[new_name]][DE_Age_genes[[new_name]]$logFC <0,]}"
   ]
  },
  {
   "cell_type": "code",
   "execution_count": 14,
   "id": "2dc2d0c0-0274-4c71-82d1-ce20bf534f44",
   "metadata": {
    "execution": {
     "iopub.execute_input": "2024-01-29T17:42:38.274437Z",
     "iopub.status.busy": "2024-01-29T17:42:38.271555Z",
     "iopub.status.idle": "2024-01-29T17:42:38.464040Z",
     "shell.execute_reply": "2024-01-29T17:42:38.462480Z"
    }
   },
   "outputs": [
    {
     "data": {
      "text/html": [
       "<table class=\"dataframe\">\n",
       "<caption>A data.frame: 6 × 9</caption>\n",
       "<thead>\n",
       "\t<tr><th></th><th scope=col>celltype_Fröhlich</th><th scope=col>celltype_Ruzicka</th><th scope=col>SCZ DE genes Ruzicka et al.</th><th scope=col>Age DE genes Fröhlich et al.</th><th scope=col>n overlap genes</th><th scope=col>Genome size</th><th scope=col>overlap p-value</th><th scope=col>Odds Ratio</th><th scope=col>p.adjust_FDR</th></tr>\n",
       "\t<tr><th></th><th scope=col>&lt;chr&gt;</th><th scope=col>&lt;chr&gt;</th><th scope=col>&lt;int&gt;</th><th scope=col>&lt;int&gt;</th><th scope=col>&lt;int&gt;</th><th scope=col>&lt;int&gt;</th><th scope=col>&lt;dbl&gt;</th><th scope=col>&lt;dbl&gt;</th><th scope=col>&lt;dbl&gt;</th></tr>\n",
       "</thead>\n",
       "<tbody>\n",
       "\t<tr><th scope=row>Exc_L2-3</th><td>Exc_L2-3  </td><td>Ex-L2       </td><td>378</td><td>1925</td><td> 70</td><td>17910</td><td>3.697861e-06</td><td>1.920720</td><td>8.874866e-06</td></tr>\n",
       "\t<tr><th scope=row>Exc_L2-3*</th><td>Exc_L2-3* </td><td>Ex-L23      </td><td>540</td><td>1925</td><td>101</td><td>17910</td><td>1.630543e-08</td><td>1.960831</td><td>6.522173e-08</td></tr>\n",
       "\t<tr><th scope=row>Exc_L3-5</th><td>Exc_L3-5  </td><td>Ex-L3       </td><td>429</td><td> 323</td><td> 38</td><td> 8759</td><td>3.811857e-07</td><td>2.742910</td><td>1.143557e-06</td></tr>\n",
       "\t<tr><th scope=row>Exc_L3-5*</th><td>Exc_L3-5* </td><td>Ex-L4_MYLK  </td><td>419</td><td> 323</td><td> 51</td><td> 8759</td><td>1.795143e-14</td><td>4.109593</td><td>2.154172e-13</td></tr>\n",
       "\t<tr><th scope=row>Exc_L4-6_2</th><td>Exc_L4-6_2</td><td>Ex-L45_MET  </td><td>461</td><td>1156</td><td> 88</td><td>12284</td><td>5.747475e-11</td><td>2.375438</td><td>3.448485e-10</td></tr>\n",
       "\t<tr><th scope=row>Exc_L4-6_1</th><td>Exc_L4-6_1</td><td>Ex-L45_LRRK1</td><td>353</td><td> 955</td><td> 80</td><td>12872</td><td>4.342644e-20</td><td>3.899297</td><td>1.042235e-18</td></tr>\n",
       "</tbody>\n",
       "</table>\n"
      ],
      "text/latex": [
       "A data.frame: 6 × 9\n",
       "\\begin{tabular}{r|lllllllll}\n",
       "  & celltype\\_Fröhlich & celltype\\_Ruzicka & SCZ DE genes Ruzicka et al. & Age DE genes Fröhlich et al. & n overlap genes & Genome size & overlap p-value & Odds Ratio & p.adjust\\_FDR\\\\\n",
       "  & <chr> & <chr> & <int> & <int> & <int> & <int> & <dbl> & <dbl> & <dbl>\\\\\n",
       "\\hline\n",
       "\tExc\\_L2-3 & Exc\\_L2-3   & Ex-L2        & 378 & 1925 &  70 & 17910 & 3.697861e-06 & 1.920720 & 8.874866e-06\\\\\n",
       "\tExc\\_L2-3* & Exc\\_L2-3*  & Ex-L23       & 540 & 1925 & 101 & 17910 & 1.630543e-08 & 1.960831 & 6.522173e-08\\\\\n",
       "\tExc\\_L3-5 & Exc\\_L3-5   & Ex-L3        & 429 &  323 &  38 &  8759 & 3.811857e-07 & 2.742910 & 1.143557e-06\\\\\n",
       "\tExc\\_L3-5* & Exc\\_L3-5*  & Ex-L4\\_MYLK   & 419 &  323 &  51 &  8759 & 1.795143e-14 & 4.109593 & 2.154172e-13\\\\\n",
       "\tExc\\_L4-6\\_2 & Exc\\_L4-6\\_2 & Ex-L45\\_MET   & 461 & 1156 &  88 & 12284 & 5.747475e-11 & 2.375438 & 3.448485e-10\\\\\n",
       "\tExc\\_L4-6\\_1 & Exc\\_L4-6\\_1 & Ex-L45\\_LRRK1 & 353 &  955 &  80 & 12872 & 4.342644e-20 & 3.899297 & 1.042235e-18\\\\\n",
       "\\end{tabular}\n"
      ],
      "text/markdown": [
       "\n",
       "A data.frame: 6 × 9\n",
       "\n",
       "| <!--/--> | celltype_Fröhlich &lt;chr&gt; | celltype_Ruzicka &lt;chr&gt; | SCZ DE genes Ruzicka et al. &lt;int&gt; | Age DE genes Fröhlich et al. &lt;int&gt; | n overlap genes &lt;int&gt; | Genome size &lt;int&gt; | overlap p-value &lt;dbl&gt; | Odds Ratio &lt;dbl&gt; | p.adjust_FDR &lt;dbl&gt; |\n",
       "|---|---|---|---|---|---|---|---|---|---|\n",
       "| Exc_L2-3 | Exc_L2-3   | Ex-L2        | 378 | 1925 |  70 | 17910 | 3.697861e-06 | 1.920720 | 8.874866e-06 |\n",
       "| Exc_L2-3* | Exc_L2-3*  | Ex-L23       | 540 | 1925 | 101 | 17910 | 1.630543e-08 | 1.960831 | 6.522173e-08 |\n",
       "| Exc_L3-5 | Exc_L3-5   | Ex-L3        | 429 |  323 |  38 |  8759 | 3.811857e-07 | 2.742910 | 1.143557e-06 |\n",
       "| Exc_L3-5* | Exc_L3-5*  | Ex-L4_MYLK   | 419 |  323 |  51 |  8759 | 1.795143e-14 | 4.109593 | 2.154172e-13 |\n",
       "| Exc_L4-6_2 | Exc_L4-6_2 | Ex-L45_MET   | 461 | 1156 |  88 | 12284 | 5.747475e-11 | 2.375438 | 3.448485e-10 |\n",
       "| Exc_L4-6_1 | Exc_L4-6_1 | Ex-L45_LRRK1 | 353 |  955 |  80 | 12872 | 4.342644e-20 | 3.899297 | 1.042235e-18 |\n",
       "\n"
      ],
      "text/plain": [
       "           celltype_Fröhlich celltype_Ruzicka SCZ DE genes Ruzicka et al.\n",
       "Exc_L2-3   Exc_L2-3          Ex-L2            378                        \n",
       "Exc_L2-3*  Exc_L2-3*         Ex-L23           540                        \n",
       "Exc_L3-5   Exc_L3-5          Ex-L3            429                        \n",
       "Exc_L3-5*  Exc_L3-5*         Ex-L4_MYLK       419                        \n",
       "Exc_L4-6_2 Exc_L4-6_2        Ex-L45_MET       461                        \n",
       "Exc_L4-6_1 Exc_L4-6_1        Ex-L45_LRRK1     353                        \n",
       "           Age DE genes Fröhlich et al. n overlap genes Genome size\n",
       "Exc_L2-3   1925                          70             17910      \n",
       "Exc_L2-3*  1925                         101             17910      \n",
       "Exc_L3-5    323                          38              8759      \n",
       "Exc_L3-5*   323                          51              8759      \n",
       "Exc_L4-6_2 1156                          88             12284      \n",
       "Exc_L4-6_1  955                          80             12872      \n",
       "           overlap p-value Odds Ratio p.adjust_FDR\n",
       "Exc_L2-3   3.697861e-06    1.920720   8.874866e-06\n",
       "Exc_L2-3*  1.630543e-08    1.960831   6.522173e-08\n",
       "Exc_L3-5   3.811857e-07    2.742910   1.143557e-06\n",
       "Exc_L3-5*  1.795143e-14    4.109593   2.154172e-13\n",
       "Exc_L4-6_2 5.747475e-11    2.375438   3.448485e-10\n",
       "Exc_L4-6_1 4.342644e-20    3.899297   1.042235e-18"
      ]
     },
     "metadata": {},
     "output_type": "display_data"
    }
   ],
   "source": [
    "##### \n",
    "Ruzicka_overlap_test <- list()\n",
    "\n",
    "idx <- 0\n",
    "for (ct in cts_Ruzicka){\n",
    "    idx <- idx +1\n",
    "    celltype <- names(cts_Ruzicka)[idx]\n",
    "    filtered <- DE_Ruzicka_SCZ[[ct]][DE_Ruzicka_SCZ[[ct]]$gene %in% DE_Age_results[[celltype]]$ID,] # remove genes not expressed in my dataset from the Ruzicka genes \n",
    "    overlap <-  newGeneOverlap(filtered$gene, DE_Age_genes[[celltype]]$ID,genome.size=length(DE_Age_results[[celltype]]$ID))\n",
    "    Ruzicka_overlap_test[[celltype]] <- testGeneOverlap(overlap) }\n",
    "\n",
    "\n",
    "Ruzicka_overlap_test_table <- as.data.frame(matrix(ncol=8, nrow=length(cts_Ruzicka)))\n",
    "colnames(Ruzicka_overlap_test_table) <- c('celltype_Fröhlich', 'celltype_Ruzicka', 'SCZ DE genes Ruzicka et al.', 'Age DE genes Fröhlich et al.', 'n overlap genes', 'Genome size', 'overlap p-value', 'Odds Ratio' )\n",
    "rownames(Ruzicka_overlap_test_table) <- names(cts_Ruzicka)\n",
    "\n",
    "idx <- 0\n",
    "for (celltype in names(cts_Ruzicka)){\n",
    "    idx <- idx +1\n",
    "    Ruzicka_overlap_test_table[celltype,]$`celltype_Fröhlich` <- celltype\n",
    "    Ruzicka_overlap_test_table[celltype,]$`celltype_Ruzicka` <- cts_Ruzicka[idx]\n",
    "    Ruzicka_overlap_test_table[celltype,]$`SCZ DE genes Ruzicka et al.` <- length(Ruzicka_overlap_test[[celltype]]@listA)\n",
    "    Ruzicka_overlap_test_table[celltype,]$`Age DE genes Fröhlich et al.` <- length(Ruzicka_overlap_test[[celltype]]@listB)\n",
    "    Ruzicka_overlap_test_table[celltype,]$`n overlap genes` <- length(Ruzicka_overlap_test[[celltype]]@intersection)\n",
    "    Ruzicka_overlap_test_table[celltype,]$`Genome size` <- Ruzicka_overlap_test[[celltype]]@genome.size\n",
    "    Ruzicka_overlap_test_table[celltype,]$`overlap p-value` <- Ruzicka_overlap_test[[celltype]]@pval\n",
    "    Ruzicka_overlap_test_table[celltype,]$`Odds Ratio` <- Ruzicka_overlap_test[[celltype]]@odds.ratio\n",
    "}\n",
    "\n",
    "# calculate the fdr adjusted p-value\n",
    "Ruzicka_overlap_test_table$p.adjust_FDR <- p.adjust(Ruzicka_overlap_test_table$`overlap p-value`, \n",
    "                                                      method = 'fdr', n = length(Ruzicka_overlap_test_table$`overlap p-value`))\n",
    "\n",
    "head(Ruzicka_overlap_test_table)"
   ]
  },
  {
   "cell_type": "code",
   "execution_count": 15,
   "id": "97941000-d678-44e7-9b3e-cf3624f37a99",
   "metadata": {
    "execution": {
     "iopub.execute_input": "2024-01-29T17:42:42.785883Z",
     "iopub.status.busy": "2024-01-29T17:42:42.783266Z",
     "iopub.status.idle": "2024-01-29T17:42:42.821229Z",
     "shell.execute_reply": "2024-01-29T17:42:42.818711Z"
    }
   },
   "outputs": [
    {
     "data": {
      "text/html": [
       "<style>\n",
       ".dl-inline {width: auto; margin:0; padding: 0}\n",
       ".dl-inline>dt, .dl-inline>dd {float: none; width: auto; display: inline-block}\n",
       ".dl-inline>dt::after {content: \":\\0020\"; padding-right: .5ex}\n",
       ".dl-inline>dt:not(:first-of-type) {padding-left: .5ex}\n",
       "</style><dl class=dl-inline><dt>Exc_L2-3</dt><dd>'Ex-L2'</dd><dt>Exc_L2-3*</dt><dd>'Ex-L23'</dd><dt>Exc_L3-5</dt><dd>'Ex-L3'</dd><dt>Exc_L3-5*</dt><dd>'Ex-L4_MYLK'</dd><dt>Exc_L4-6_2</dt><dd>'Ex-L45_MET'</dd><dt>Exc_L4-6_1</dt><dd>'Ex-L45_LRRK1'</dd><dt>Exc_L5-6_1</dt><dd>'Ex-L56'</dd><dt>Exc_L4-6_3</dt><dd>'Ex-L56_CC_NTNG2'</dd><dt>Exc_L4-6_3*</dt><dd>'Ex-L6_CC_SEMA3A'</dd><dt>Exc_L5-6_1*</dt><dd>'Ex-L6b_SEMA3D'</dd><dt>In_LAMP5_1</dt><dd>'In-Rosehip_TRPC3'</dd><dt>In_RELN</dt><dd>'In-Reelin'</dd><dt>In_PVALB_Ba</dt><dd>'In-PV_Basket'</dd><dt>In_SST</dt><dd>'In-SST'</dd><dt>In_VIP</dt><dd>'In-VIP'</dd><dt>Astro_FB</dt><dd>'Ast'</dd><dt>Astro_PP</dt><dd>'Ast'</dd><dt>Microglia</dt><dd>'Mic'</dd><dt>Oligodendrocyte</dt><dd>'Oli'</dd><dt>OPC</dt><dd>'OPC'</dd></dl>\n"
      ],
      "text/latex": [
       "\\begin{description*}\n",
       "\\item[Exc\\textbackslash{}\\_L2-3] 'Ex-L2'\n",
       "\\item[Exc\\textbackslash{}\\_L2-3*] 'Ex-L23'\n",
       "\\item[Exc\\textbackslash{}\\_L3-5] 'Ex-L3'\n",
       "\\item[Exc\\textbackslash{}\\_L3-5*] 'Ex-L4\\_MYLK'\n",
       "\\item[Exc\\textbackslash{}\\_L4-6\\textbackslash{}\\_2] 'Ex-L45\\_MET'\n",
       "\\item[Exc\\textbackslash{}\\_L4-6\\textbackslash{}\\_1] 'Ex-L45\\_LRRK1'\n",
       "\\item[Exc\\textbackslash{}\\_L5-6\\textbackslash{}\\_1] 'Ex-L56'\n",
       "\\item[Exc\\textbackslash{}\\_L4-6\\textbackslash{}\\_3] 'Ex-L56\\_CC\\_NTNG2'\n",
       "\\item[Exc\\textbackslash{}\\_L4-6\\textbackslash{}\\_3*] 'Ex-L6\\_CC\\_SEMA3A'\n",
       "\\item[Exc\\textbackslash{}\\_L5-6\\textbackslash{}\\_1*] 'Ex-L6b\\_SEMA3D'\n",
       "\\item[In\\textbackslash{}\\_LAMP5\\textbackslash{}\\_1] 'In-Rosehip\\_TRPC3'\n",
       "\\item[In\\textbackslash{}\\_RELN] 'In-Reelin'\n",
       "\\item[In\\textbackslash{}\\_PVALB\\textbackslash{}\\_Ba] 'In-PV\\_Basket'\n",
       "\\item[In\\textbackslash{}\\_SST] 'In-SST'\n",
       "\\item[In\\textbackslash{}\\_VIP] 'In-VIP'\n",
       "\\item[Astro\\textbackslash{}\\_FB] 'Ast'\n",
       "\\item[Astro\\textbackslash{}\\_PP] 'Ast'\n",
       "\\item[Microglia] 'Mic'\n",
       "\\item[Oligodendrocyte] 'Oli'\n",
       "\\item[OPC] 'OPC'\n",
       "\\end{description*}\n"
      ],
      "text/markdown": [
       "Exc_L2-3\n",
       ":   'Ex-L2'Exc_L2-3*\n",
       ":   'Ex-L23'Exc_L3-5\n",
       ":   'Ex-L3'Exc_L3-5*\n",
       ":   'Ex-L4_MYLK'Exc_L4-6_2\n",
       ":   'Ex-L45_MET'Exc_L4-6_1\n",
       ":   'Ex-L45_LRRK1'Exc_L5-6_1\n",
       ":   'Ex-L56'Exc_L4-6_3\n",
       ":   'Ex-L56_CC_NTNG2'Exc_L4-6_3*\n",
       ":   'Ex-L6_CC_SEMA3A'Exc_L5-6_1*\n",
       ":   'Ex-L6b_SEMA3D'In_LAMP5_1\n",
       ":   'In-Rosehip_TRPC3'In_RELN\n",
       ":   'In-Reelin'In_PVALB_Ba\n",
       ":   'In-PV_Basket'In_SST\n",
       ":   'In-SST'In_VIP\n",
       ":   'In-VIP'Astro_FB\n",
       ":   'Ast'Astro_PP\n",
       ":   'Ast'Microglia\n",
       ":   'Mic'Oligodendrocyte\n",
       ":   'Oli'OPC\n",
       ":   'OPC'\n",
       "\n"
      ],
      "text/plain": [
       "          Exc_L2-3          Exc_L2-3*           Exc_L3-5          Exc_L3-5* \n",
       "           \"Ex-L2\"           \"Ex-L23\"            \"Ex-L3\"       \"Ex-L4_MYLK\" \n",
       "        Exc_L4-6_2         Exc_L4-6_1         Exc_L5-6_1         Exc_L4-6_3 \n",
       "      \"Ex-L45_MET\"     \"Ex-L45_LRRK1\"           \"Ex-L56\"  \"Ex-L56_CC_NTNG2\" \n",
       "       Exc_L4-6_3*        Exc_L5-6_1*         In_LAMP5_1            In_RELN \n",
       " \"Ex-L6_CC_SEMA3A\"    \"Ex-L6b_SEMA3D\" \"In-Rosehip_TRPC3\"        \"In-Reelin\" \n",
       "       In_PVALB_Ba             In_SST             In_VIP           Astro_FB \n",
       "    \"In-PV_Basket\"           \"In-SST\"           \"In-VIP\"              \"Ast\" \n",
       "          Astro_PP          Microglia    Oligodendrocyte                OPC \n",
       "             \"Ast\"              \"Mic\"              \"Oli\"              \"OPC\" "
      ]
     },
     "metadata": {},
     "output_type": "display_data"
    },
    {
     "data": {
      "text/html": [
       "20"
      ],
      "text/latex": [
       "20"
      ],
      "text/markdown": [
       "20"
      ],
      "text/plain": [
       "[1] 20"
      ]
     },
     "metadata": {},
     "output_type": "display_data"
    }
   ],
   "source": [
    "# celltypes with significant overlap\n",
    "sig_celltypes <- cts_Ruzicka[c(Ruzicka_overlap_test_table[Ruzicka_overlap_test_table$p.adjust_FDR < 0.05,]$`celltype_Fröhlich`)]\n",
    "sig_celltypes\n",
    "length(sig_celltypes)"
   ]
  },
  {
   "cell_type": "markdown",
   "id": "1c6ed030-729e-4801-9c66-6e5341abe38e",
   "metadata": {},
   "source": [
    "## Supplementary Table 14"
   ]
  },
  {
   "cell_type": "code",
   "execution_count": 16,
   "id": "f6c54187-780d-480e-b24d-2ebb13439453",
   "metadata": {
    "execution": {
     "iopub.execute_input": "2024-01-29T17:42:55.003550Z",
     "iopub.status.busy": "2024-01-29T17:42:55.000828Z",
     "iopub.status.idle": "2024-01-29T17:42:55.083288Z",
     "shell.execute_reply": "2024-01-29T17:42:55.080985Z"
    }
   },
   "outputs": [
    {
     "data": {
      "text/html": [
       "<table class=\"dataframe\">\n",
       "<caption>A data.frame: 24 × 9</caption>\n",
       "<thead>\n",
       "\t<tr><th></th><th scope=col>celltype_Fröhlich</th><th scope=col>celltype_Ruzicka</th><th scope=col>SCZ DE genes Ruzicka et al.</th><th scope=col>Age DE genes Fröhlich et al.</th><th scope=col>n overlap genes</th><th scope=col>Genome size</th><th scope=col>overlap p-value</th><th scope=col>Odds Ratio</th><th scope=col>p.adjust_FDR</th></tr>\n",
       "\t<tr><th></th><th scope=col>&lt;chr&gt;</th><th scope=col>&lt;chr&gt;</th><th scope=col>&lt;int&gt;</th><th scope=col>&lt;int&gt;</th><th scope=col>&lt;int&gt;</th><th scope=col>&lt;int&gt;</th><th scope=col>&lt;dbl&gt;</th><th scope=col>&lt;dbl&gt;</th><th scope=col>&lt;dbl&gt;</th></tr>\n",
       "</thead>\n",
       "<tbody>\n",
       "\t<tr><th scope=row>Exc_L2-3</th><td>Exc_L2-3       </td><td>Ex-L2           </td><td>378</td><td>1925</td><td> 70</td><td>17910</td><td>3.697861e-06</td><td>1.920720</td><td>8.874866e-06</td></tr>\n",
       "\t<tr><th scope=row>Exc_L2-3*</th><td>Exc_L2-3*      </td><td>Ex-L23          </td><td>540</td><td>1925</td><td>101</td><td>17910</td><td>1.630543e-08</td><td>1.960831</td><td>6.522173e-08</td></tr>\n",
       "\t<tr><th scope=row>Exc_L3-5</th><td>Exc_L3-5       </td><td>Ex-L3           </td><td>429</td><td> 323</td><td> 38</td><td> 8759</td><td>3.811857e-07</td><td>2.742910</td><td>1.143557e-06</td></tr>\n",
       "\t<tr><th scope=row>Exc_L3-5*</th><td>Exc_L3-5*      </td><td>Ex-L4_MYLK      </td><td>419</td><td> 323</td><td> 51</td><td> 8759</td><td>1.795143e-14</td><td>4.109593</td><td>2.154172e-13</td></tr>\n",
       "\t<tr><th scope=row>Exc_L4-6_2</th><td>Exc_L4-6_2     </td><td>Ex-L45_MET      </td><td>461</td><td>1156</td><td> 88</td><td>12284</td><td>5.747475e-11</td><td>2.375438</td><td>3.448485e-10</td></tr>\n",
       "\t<tr><th scope=row>Exc_L4-6_1</th><td>Exc_L4-6_1     </td><td>Ex-L45_LRRK1    </td><td>353</td><td> 955</td><td> 80</td><td>12872</td><td>4.342644e-20</td><td>3.899297</td><td>1.042235e-18</td></tr>\n",
       "\t<tr><th scope=row>Exc_L5-6_HTR2C</th><td>Exc_L5-6_HTR2C </td><td>Ex-L5b_HTR2C    </td><td>236</td><td> 104</td><td>  8</td><td> 4610</td><td>1.617684e-01</td><td>1.563395</td><td>1.848782e-01</td></tr>\n",
       "\t<tr><th scope=row>Exc_L5-6_1</th><td>Exc_L5-6_1     </td><td>Ex-L56          </td><td>372</td><td> 212</td><td> 24</td><td> 6618</td><td>7.573862e-04</td><td>2.221844</td><td>1.398251e-03</td></tr>\n",
       "\t<tr><th scope=row>Exc_L4-6_3</th><td>Exc_L4-6_3     </td><td>Ex-L56_CC_NTNG2 </td><td> 77</td><td> 469</td><td> 11</td><td> 9866</td><td>9.692611e-04</td><td>3.394807</td><td>1.550818e-03</td></tr>\n",
       "\t<tr><th scope=row>Exc_L4-6_3*</th><td>Exc_L4-6_3*    </td><td>Ex-L6_CC_SEMA3A </td><td>639</td><td> 469</td><td> 71</td><td> 9866</td><td>7.946589e-12</td><td>2.772284</td><td>6.357271e-11</td></tr>\n",
       "\t<tr><th scope=row>Exc_L5-6_1*</th><td>Exc_L5-6_1*    </td><td>Ex-L6b_SEMA3D   </td><td>714</td><td> 212</td><td> 55</td><td> 6618</td><td>2.213974e-10</td><td>3.054198</td><td>1.062707e-09</td></tr>\n",
       "\t<tr><th scope=row>In_LAMP5_1</th><td>In_LAMP5_1     </td><td>In-Rosehip_TRPC3</td><td>293</td><td> 372</td><td> 37</td><td> 7460</td><td>1.264599e-07</td><td>2.946900</td><td>4.335768e-07</td></tr>\n",
       "\t<tr><th scope=row>In_LAMP5_2</th><td>In_LAMP5_2     </td><td>In-Rosehip_CHST9</td><td>100</td><td> 454</td><td> 11</td><td> 5293</td><td>2.362208e-01</td><td>1.325151</td><td>2.464913e-01</td></tr>\n",
       "\t<tr><th scope=row>In_RELN</th><td>In_RELN        </td><td>In-Reelin       </td><td>190</td><td> 358</td><td> 20</td><td>10399</td><td>8.374077e-06</td><td>3.435048</td><td>1.827071e-05</td></tr>\n",
       "\t<tr><th scope=row>In_PVALB_Ba</th><td>In_PVALB_Ba    </td><td>In-PV_Basket    </td><td>167</td><td> 365</td><td> 10</td><td>11828</td><td>3.423194e-02</td><td>2.028359</td><td>4.107832e-02</td></tr>\n",
       "\t<tr><th scope=row>In_PVALB_Ch</th><td>In_PVALB_Ch    </td><td>In-PV_Chandelier</td><td> 67</td><td> 314</td><td>  6</td><td> 5064</td><td>2.339336e-01</td><td>1.497287</td><td>2.464913e-01</td></tr>\n",
       "\t<tr><th scope=row>In_SST</th><td>In_SST         </td><td>In-SST          </td><td> 93</td><td> 633</td><td> 19</td><td>10671</td><td>1.711008e-06</td><td>4.165765</td><td>4.562689e-06</td></tr>\n",
       "\t<tr><th scope=row>In_VIP</th><td>In_VIP         </td><td>In-VIP          </td><td>154</td><td> 836</td><td> 25</td><td>12359</td><td>3.664815e-05</td><td>2.722282</td><td>7.329629e-05</td></tr>\n",
       "\t<tr><th scope=row>Astro_FB</th><td>Astro_FB       </td><td>Ast             </td><td>134</td><td> 183</td><td> 10</td><td> 5017</td><td>2.373952e-02</td><td>2.195186</td><td>3.004803e-02</td></tr>\n",
       "\t<tr><th scope=row>Astro_PP</th><td>Astro_PP       </td><td>Ast             </td><td>145</td><td> 348</td><td> 10</td><td>10391</td><td>2.378803e-02</td><td>2.171289</td><td>3.004803e-02</td></tr>\n",
       "\t<tr><th scope=row>Endothelial</th><td>Endothelial    </td><td>Endo            </td><td>  1</td><td>  78</td><td>  0</td><td> 2714</td><td>1.000000e+00</td><td>0.000000</td><td>1.000000e+00</td></tr>\n",
       "\t<tr><th scope=row>Microglia</th><td>Microglia      </td><td>Mic             </td><td> 69</td><td> 193</td><td>  9</td><td> 5233</td><td>8.728591e-04</td><td>4.057763</td><td>1.496330e-03</td></tr>\n",
       "\t<tr><th scope=row>Oligodendrocyte</th><td>Oligodendrocyte</td><td>Oli             </td><td> 61</td><td> 309</td><td>  6</td><td> 8881</td><td>1.884832e-02</td><td>3.065739</td><td>2.660940e-02</td></tr>\n",
       "\t<tr><th scope=row>OPC</th><td>OPC            </td><td>OPC             </td><td> 75</td><td> 382</td><td>  9</td><td> 9462</td><td>3.082856e-03</td><td>3.294642</td><td>4.624284e-03</td></tr>\n",
       "</tbody>\n",
       "</table>\n"
      ],
      "text/latex": [
       "A data.frame: 24 × 9\n",
       "\\begin{tabular}{r|lllllllll}\n",
       "  & celltype\\_Fröhlich & celltype\\_Ruzicka & SCZ DE genes Ruzicka et al. & Age DE genes Fröhlich et al. & n overlap genes & Genome size & overlap p-value & Odds Ratio & p.adjust\\_FDR\\\\\n",
       "  & <chr> & <chr> & <int> & <int> & <int> & <int> & <dbl> & <dbl> & <dbl>\\\\\n",
       "\\hline\n",
       "\tExc\\_L2-3 & Exc\\_L2-3        & Ex-L2            & 378 & 1925 &  70 & 17910 & 3.697861e-06 & 1.920720 & 8.874866e-06\\\\\n",
       "\tExc\\_L2-3* & Exc\\_L2-3*       & Ex-L23           & 540 & 1925 & 101 & 17910 & 1.630543e-08 & 1.960831 & 6.522173e-08\\\\\n",
       "\tExc\\_L3-5 & Exc\\_L3-5        & Ex-L3            & 429 &  323 &  38 &  8759 & 3.811857e-07 & 2.742910 & 1.143557e-06\\\\\n",
       "\tExc\\_L3-5* & Exc\\_L3-5*       & Ex-L4\\_MYLK       & 419 &  323 &  51 &  8759 & 1.795143e-14 & 4.109593 & 2.154172e-13\\\\\n",
       "\tExc\\_L4-6\\_2 & Exc\\_L4-6\\_2      & Ex-L45\\_MET       & 461 & 1156 &  88 & 12284 & 5.747475e-11 & 2.375438 & 3.448485e-10\\\\\n",
       "\tExc\\_L4-6\\_1 & Exc\\_L4-6\\_1      & Ex-L45\\_LRRK1     & 353 &  955 &  80 & 12872 & 4.342644e-20 & 3.899297 & 1.042235e-18\\\\\n",
       "\tExc\\_L5-6\\_HTR2C & Exc\\_L5-6\\_HTR2C  & Ex-L5b\\_HTR2C     & 236 &  104 &   8 &  4610 & 1.617684e-01 & 1.563395 & 1.848782e-01\\\\\n",
       "\tExc\\_L5-6\\_1 & Exc\\_L5-6\\_1      & Ex-L56           & 372 &  212 &  24 &  6618 & 7.573862e-04 & 2.221844 & 1.398251e-03\\\\\n",
       "\tExc\\_L4-6\\_3 & Exc\\_L4-6\\_3      & Ex-L56\\_CC\\_NTNG2  &  77 &  469 &  11 &  9866 & 9.692611e-04 & 3.394807 & 1.550818e-03\\\\\n",
       "\tExc\\_L4-6\\_3* & Exc\\_L4-6\\_3*     & Ex-L6\\_CC\\_SEMA3A  & 639 &  469 &  71 &  9866 & 7.946589e-12 & 2.772284 & 6.357271e-11\\\\\n",
       "\tExc\\_L5-6\\_1* & Exc\\_L5-6\\_1*     & Ex-L6b\\_SEMA3D    & 714 &  212 &  55 &  6618 & 2.213974e-10 & 3.054198 & 1.062707e-09\\\\\n",
       "\tIn\\_LAMP5\\_1 & In\\_LAMP5\\_1      & In-Rosehip\\_TRPC3 & 293 &  372 &  37 &  7460 & 1.264599e-07 & 2.946900 & 4.335768e-07\\\\\n",
       "\tIn\\_LAMP5\\_2 & In\\_LAMP5\\_2      & In-Rosehip\\_CHST9 & 100 &  454 &  11 &  5293 & 2.362208e-01 & 1.325151 & 2.464913e-01\\\\\n",
       "\tIn\\_RELN & In\\_RELN         & In-Reelin        & 190 &  358 &  20 & 10399 & 8.374077e-06 & 3.435048 & 1.827071e-05\\\\\n",
       "\tIn\\_PVALB\\_Ba & In\\_PVALB\\_Ba     & In-PV\\_Basket     & 167 &  365 &  10 & 11828 & 3.423194e-02 & 2.028359 & 4.107832e-02\\\\\n",
       "\tIn\\_PVALB\\_Ch & In\\_PVALB\\_Ch     & In-PV\\_Chandelier &  67 &  314 &   6 &  5064 & 2.339336e-01 & 1.497287 & 2.464913e-01\\\\\n",
       "\tIn\\_SST & In\\_SST          & In-SST           &  93 &  633 &  19 & 10671 & 1.711008e-06 & 4.165765 & 4.562689e-06\\\\\n",
       "\tIn\\_VIP & In\\_VIP          & In-VIP           & 154 &  836 &  25 & 12359 & 3.664815e-05 & 2.722282 & 7.329629e-05\\\\\n",
       "\tAstro\\_FB & Astro\\_FB        & Ast              & 134 &  183 &  10 &  5017 & 2.373952e-02 & 2.195186 & 3.004803e-02\\\\\n",
       "\tAstro\\_PP & Astro\\_PP        & Ast              & 145 &  348 &  10 & 10391 & 2.378803e-02 & 2.171289 & 3.004803e-02\\\\\n",
       "\tEndothelial & Endothelial     & Endo             &   1 &   78 &   0 &  2714 & 1.000000e+00 & 0.000000 & 1.000000e+00\\\\\n",
       "\tMicroglia & Microglia       & Mic              &  69 &  193 &   9 &  5233 & 8.728591e-04 & 4.057763 & 1.496330e-03\\\\\n",
       "\tOligodendrocyte & Oligodendrocyte & Oli              &  61 &  309 &   6 &  8881 & 1.884832e-02 & 3.065739 & 2.660940e-02\\\\\n",
       "\tOPC & OPC             & OPC              &  75 &  382 &   9 &  9462 & 3.082856e-03 & 3.294642 & 4.624284e-03\\\\\n",
       "\\end{tabular}\n"
      ],
      "text/markdown": [
       "\n",
       "A data.frame: 24 × 9\n",
       "\n",
       "| <!--/--> | celltype_Fröhlich &lt;chr&gt; | celltype_Ruzicka &lt;chr&gt; | SCZ DE genes Ruzicka et al. &lt;int&gt; | Age DE genes Fröhlich et al. &lt;int&gt; | n overlap genes &lt;int&gt; | Genome size &lt;int&gt; | overlap p-value &lt;dbl&gt; | Odds Ratio &lt;dbl&gt; | p.adjust_FDR &lt;dbl&gt; |\n",
       "|---|---|---|---|---|---|---|---|---|---|\n",
       "| Exc_L2-3 | Exc_L2-3        | Ex-L2            | 378 | 1925 |  70 | 17910 | 3.697861e-06 | 1.920720 | 8.874866e-06 |\n",
       "| Exc_L2-3* | Exc_L2-3*       | Ex-L23           | 540 | 1925 | 101 | 17910 | 1.630543e-08 | 1.960831 | 6.522173e-08 |\n",
       "| Exc_L3-5 | Exc_L3-5        | Ex-L3            | 429 |  323 |  38 |  8759 | 3.811857e-07 | 2.742910 | 1.143557e-06 |\n",
       "| Exc_L3-5* | Exc_L3-5*       | Ex-L4_MYLK       | 419 |  323 |  51 |  8759 | 1.795143e-14 | 4.109593 | 2.154172e-13 |\n",
       "| Exc_L4-6_2 | Exc_L4-6_2      | Ex-L45_MET       | 461 | 1156 |  88 | 12284 | 5.747475e-11 | 2.375438 | 3.448485e-10 |\n",
       "| Exc_L4-6_1 | Exc_L4-6_1      | Ex-L45_LRRK1     | 353 |  955 |  80 | 12872 | 4.342644e-20 | 3.899297 | 1.042235e-18 |\n",
       "| Exc_L5-6_HTR2C | Exc_L5-6_HTR2C  | Ex-L5b_HTR2C     | 236 |  104 |   8 |  4610 | 1.617684e-01 | 1.563395 | 1.848782e-01 |\n",
       "| Exc_L5-6_1 | Exc_L5-6_1      | Ex-L56           | 372 |  212 |  24 |  6618 | 7.573862e-04 | 2.221844 | 1.398251e-03 |\n",
       "| Exc_L4-6_3 | Exc_L4-6_3      | Ex-L56_CC_NTNG2  |  77 |  469 |  11 |  9866 | 9.692611e-04 | 3.394807 | 1.550818e-03 |\n",
       "| Exc_L4-6_3* | Exc_L4-6_3*     | Ex-L6_CC_SEMA3A  | 639 |  469 |  71 |  9866 | 7.946589e-12 | 2.772284 | 6.357271e-11 |\n",
       "| Exc_L5-6_1* | Exc_L5-6_1*     | Ex-L6b_SEMA3D    | 714 |  212 |  55 |  6618 | 2.213974e-10 | 3.054198 | 1.062707e-09 |\n",
       "| In_LAMP5_1 | In_LAMP5_1      | In-Rosehip_TRPC3 | 293 |  372 |  37 |  7460 | 1.264599e-07 | 2.946900 | 4.335768e-07 |\n",
       "| In_LAMP5_2 | In_LAMP5_2      | In-Rosehip_CHST9 | 100 |  454 |  11 |  5293 | 2.362208e-01 | 1.325151 | 2.464913e-01 |\n",
       "| In_RELN | In_RELN         | In-Reelin        | 190 |  358 |  20 | 10399 | 8.374077e-06 | 3.435048 | 1.827071e-05 |\n",
       "| In_PVALB_Ba | In_PVALB_Ba     | In-PV_Basket     | 167 |  365 |  10 | 11828 | 3.423194e-02 | 2.028359 | 4.107832e-02 |\n",
       "| In_PVALB_Ch | In_PVALB_Ch     | In-PV_Chandelier |  67 |  314 |   6 |  5064 | 2.339336e-01 | 1.497287 | 2.464913e-01 |\n",
       "| In_SST | In_SST          | In-SST           |  93 |  633 |  19 | 10671 | 1.711008e-06 | 4.165765 | 4.562689e-06 |\n",
       "| In_VIP | In_VIP          | In-VIP           | 154 |  836 |  25 | 12359 | 3.664815e-05 | 2.722282 | 7.329629e-05 |\n",
       "| Astro_FB | Astro_FB        | Ast              | 134 |  183 |  10 |  5017 | 2.373952e-02 | 2.195186 | 3.004803e-02 |\n",
       "| Astro_PP | Astro_PP        | Ast              | 145 |  348 |  10 | 10391 | 2.378803e-02 | 2.171289 | 3.004803e-02 |\n",
       "| Endothelial | Endothelial     | Endo             |   1 |   78 |   0 |  2714 | 1.000000e+00 | 0.000000 | 1.000000e+00 |\n",
       "| Microglia | Microglia       | Mic              |  69 |  193 |   9 |  5233 | 8.728591e-04 | 4.057763 | 1.496330e-03 |\n",
       "| Oligodendrocyte | Oligodendrocyte | Oli              |  61 |  309 |   6 |  8881 | 1.884832e-02 | 3.065739 | 2.660940e-02 |\n",
       "| OPC | OPC             | OPC              |  75 |  382 |   9 |  9462 | 3.082856e-03 | 3.294642 | 4.624284e-03 |\n",
       "\n"
      ],
      "text/plain": [
       "                celltype_Fröhlich celltype_Ruzicka SCZ DE genes Ruzicka et al.\n",
       "Exc_L2-3        Exc_L2-3          Ex-L2            378                        \n",
       "Exc_L2-3*       Exc_L2-3*         Ex-L23           540                        \n",
       "Exc_L3-5        Exc_L3-5          Ex-L3            429                        \n",
       "Exc_L3-5*       Exc_L3-5*         Ex-L4_MYLK       419                        \n",
       "Exc_L4-6_2      Exc_L4-6_2        Ex-L45_MET       461                        \n",
       "Exc_L4-6_1      Exc_L4-6_1        Ex-L45_LRRK1     353                        \n",
       "Exc_L5-6_HTR2C  Exc_L5-6_HTR2C    Ex-L5b_HTR2C     236                        \n",
       "Exc_L5-6_1      Exc_L5-6_1        Ex-L56           372                        \n",
       "Exc_L4-6_3      Exc_L4-6_3        Ex-L56_CC_NTNG2   77                        \n",
       "Exc_L4-6_3*     Exc_L4-6_3*       Ex-L6_CC_SEMA3A  639                        \n",
       "Exc_L5-6_1*     Exc_L5-6_1*       Ex-L6b_SEMA3D    714                        \n",
       "In_LAMP5_1      In_LAMP5_1        In-Rosehip_TRPC3 293                        \n",
       "In_LAMP5_2      In_LAMP5_2        In-Rosehip_CHST9 100                        \n",
       "In_RELN         In_RELN           In-Reelin        190                        \n",
       "In_PVALB_Ba     In_PVALB_Ba       In-PV_Basket     167                        \n",
       "In_PVALB_Ch     In_PVALB_Ch       In-PV_Chandelier  67                        \n",
       "In_SST          In_SST            In-SST            93                        \n",
       "In_VIP          In_VIP            In-VIP           154                        \n",
       "Astro_FB        Astro_FB          Ast              134                        \n",
       "Astro_PP        Astro_PP          Ast              145                        \n",
       "Endothelial     Endothelial       Endo               1                        \n",
       "Microglia       Microglia         Mic               69                        \n",
       "Oligodendrocyte Oligodendrocyte   Oli               61                        \n",
       "OPC             OPC               OPC               75                        \n",
       "                Age DE genes Fröhlich et al. n overlap genes Genome size\n",
       "Exc_L2-3        1925                          70             17910      \n",
       "Exc_L2-3*       1925                         101             17910      \n",
       "Exc_L3-5         323                          38              8759      \n",
       "Exc_L3-5*        323                          51              8759      \n",
       "Exc_L4-6_2      1156                          88             12284      \n",
       "Exc_L4-6_1       955                          80             12872      \n",
       "Exc_L5-6_HTR2C   104                           8              4610      \n",
       "Exc_L5-6_1       212                          24              6618      \n",
       "Exc_L4-6_3       469                          11              9866      \n",
       "Exc_L4-6_3*      469                          71              9866      \n",
       "Exc_L5-6_1*      212                          55              6618      \n",
       "In_LAMP5_1       372                          37              7460      \n",
       "In_LAMP5_2       454                          11              5293      \n",
       "In_RELN          358                          20             10399      \n",
       "In_PVALB_Ba      365                          10             11828      \n",
       "In_PVALB_Ch      314                           6              5064      \n",
       "In_SST           633                          19             10671      \n",
       "In_VIP           836                          25             12359      \n",
       "Astro_FB         183                          10              5017      \n",
       "Astro_PP         348                          10             10391      \n",
       "Endothelial       78                           0              2714      \n",
       "Microglia        193                           9              5233      \n",
       "Oligodendrocyte  309                           6              8881      \n",
       "OPC              382                           9              9462      \n",
       "                overlap p-value Odds Ratio p.adjust_FDR\n",
       "Exc_L2-3        3.697861e-06    1.920720   8.874866e-06\n",
       "Exc_L2-3*       1.630543e-08    1.960831   6.522173e-08\n",
       "Exc_L3-5        3.811857e-07    2.742910   1.143557e-06\n",
       "Exc_L3-5*       1.795143e-14    4.109593   2.154172e-13\n",
       "Exc_L4-6_2      5.747475e-11    2.375438   3.448485e-10\n",
       "Exc_L4-6_1      4.342644e-20    3.899297   1.042235e-18\n",
       "Exc_L5-6_HTR2C  1.617684e-01    1.563395   1.848782e-01\n",
       "Exc_L5-6_1      7.573862e-04    2.221844   1.398251e-03\n",
       "Exc_L4-6_3      9.692611e-04    3.394807   1.550818e-03\n",
       "Exc_L4-6_3*     7.946589e-12    2.772284   6.357271e-11\n",
       "Exc_L5-6_1*     2.213974e-10    3.054198   1.062707e-09\n",
       "In_LAMP5_1      1.264599e-07    2.946900   4.335768e-07\n",
       "In_LAMP5_2      2.362208e-01    1.325151   2.464913e-01\n",
       "In_RELN         8.374077e-06    3.435048   1.827071e-05\n",
       "In_PVALB_Ba     3.423194e-02    2.028359   4.107832e-02\n",
       "In_PVALB_Ch     2.339336e-01    1.497287   2.464913e-01\n",
       "In_SST          1.711008e-06    4.165765   4.562689e-06\n",
       "In_VIP          3.664815e-05    2.722282   7.329629e-05\n",
       "Astro_FB        2.373952e-02    2.195186   3.004803e-02\n",
       "Astro_PP        2.378803e-02    2.171289   3.004803e-02\n",
       "Endothelial     1.000000e+00    0.000000   1.000000e+00\n",
       "Microglia       8.728591e-04    4.057763   1.496330e-03\n",
       "Oligodendrocyte 1.884832e-02    3.065739   2.660940e-02\n",
       "OPC             3.082856e-03    3.294642   4.624284e-03"
      ]
     },
     "metadata": {},
     "output_type": "display_data"
    }
   ],
   "source": [
    "Ruzicka_overlap_test_table\n",
    "library(writexl)\n",
    "#write_xlsx(Ruzicka_overlap_test_table, '../results/dreamlet_tables/final_celltypes_N87/Age_SCZ(Ruzicka)_overlap_test_table.xlsx', col_names = TRUE)"
   ]
  },
  {
   "cell_type": "markdown",
   "id": "0172bacc-d811-4e9e-a42b-72cbccfdf2f0",
   "metadata": {},
   "source": [
    "## Fig. 7b - Quantify of directionality of overlapping genes"
   ]
  },
  {
   "cell_type": "code",
   "execution_count": 17,
   "id": "f35db3c5-7f2c-4bfe-8593-aba05a321c4a",
   "metadata": {
    "execution": {
     "iopub.execute_input": "2024-01-29T17:42:59.044852Z",
     "iopub.status.busy": "2024-01-29T17:42:59.042222Z",
     "iopub.status.idle": "2024-01-29T17:42:59.117620Z",
     "shell.execute_reply": "2024-01-29T17:42:59.115354Z"
    }
   },
   "outputs": [],
   "source": [
    "# merge overlapping Age and SCZ genes\n",
    "combined <- list()\n",
    "\n",
    "idx <- 0\n",
    "for (ct in sig_celltypes){\n",
    "    idx <- idx +1\n",
    "    celltype <- names(sig_celltypes)[idx]\n",
    "    tmp <- DE_Ruzicka_SCZ[[ct]]\n",
    "    colnames(tmp)[which(names(tmp) == 'gene')] <- 'ID'\n",
    "    combined[[celltype]] <- merge(DE_Age_genes[[celltype]], tmp, by='ID')}\n",
    "    "
   ]
  },
  {
   "cell_type": "code",
   "execution_count": 18,
   "id": "da9c1772-f8a4-43a3-9594-6e897135ccd4",
   "metadata": {
    "execution": {
     "iopub.execute_input": "2024-01-29T17:43:01.259180Z",
     "iopub.status.busy": "2024-01-29T17:43:01.256468Z",
     "iopub.status.idle": "2024-01-29T17:43:01.483728Z",
     "shell.execute_reply": "2024-01-29T17:43:01.482146Z"
    }
   },
   "outputs": [
    {
     "data": {
      "text/html": [
       "<table class=\"dataframe\">\n",
       "<caption>A data.frame: 6 × 11</caption>\n",
       "<thead>\n",
       "\t<tr><th></th><th scope=col>celltype_Fröhlich</th><th scope=col>celltype_Ruzicka</th><th scope=col>common_up</th><th scope=col>common_down</th><th scope=col>up_Age_down_SCZ</th><th scope=col>down_Age_up_SCZ</th><th scope=col>total</th><th scope=col>total_common</th><th scope=col>total_divergent</th><th scope=col>percentage_common</th><th scope=col>percentage_divergent</th></tr>\n",
       "\t<tr><th></th><th scope=col>&lt;chr&gt;</th><th scope=col>&lt;chr&gt;</th><th scope=col>&lt;int&gt;</th><th scope=col>&lt;int&gt;</th><th scope=col>&lt;int&gt;</th><th scope=col>&lt;int&gt;</th><th scope=col>&lt;int&gt;</th><th scope=col>&lt;int&gt;</th><th scope=col>&lt;int&gt;</th><th scope=col>&lt;dbl&gt;</th><th scope=col>&lt;dbl&gt;</th></tr>\n",
       "</thead>\n",
       "<tbody>\n",
       "\t<tr><th scope=row>Exc_L2-3</th><td>Exc_L2-3  </td><td>Ex-L2       </td><td> 8</td><td>53</td><td>2</td><td> 7</td><td> 70</td><td>61</td><td> 9</td><td> 87.14286</td><td>12.857143</td></tr>\n",
       "\t<tr><th scope=row>Exc_L2-3*</th><td>Exc_L2-3* </td><td>Ex-L23      </td><td>18</td><td>67</td><td>4</td><td>12</td><td>101</td><td>85</td><td>16</td><td> 84.15842</td><td>15.841584</td></tr>\n",
       "\t<tr><th scope=row>Exc_L3-5</th><td>Exc_L3-5  </td><td>Ex-L3       </td><td> 2</td><td>33</td><td>2</td><td> 1</td><td> 38</td><td>35</td><td> 3</td><td> 92.10526</td><td> 7.894737</td></tr>\n",
       "\t<tr><th scope=row>Exc_L3-5*</th><td>Exc_L3-5* </td><td>Ex-L4_MYLK  </td><td> 6</td><td>45</td><td>0</td><td> 0</td><td> 51</td><td>51</td><td> 0</td><td>100.00000</td><td> 0.000000</td></tr>\n",
       "\t<tr><th scope=row>Exc_L4-6_2</th><td>Exc_L4-6_2</td><td>Ex-L45_MET  </td><td> 8</td><td>76</td><td>2</td><td> 2</td><td> 88</td><td>84</td><td> 4</td><td> 95.45455</td><td> 4.545455</td></tr>\n",
       "\t<tr><th scope=row>Exc_L4-6_1</th><td>Exc_L4-6_1</td><td>Ex-L45_LRRK1</td><td>15</td><td>65</td><td>0</td><td> 0</td><td> 80</td><td>80</td><td> 0</td><td>100.00000</td><td> 0.000000</td></tr>\n",
       "</tbody>\n",
       "</table>\n"
      ],
      "text/latex": [
       "A data.frame: 6 × 11\n",
       "\\begin{tabular}{r|lllllllllll}\n",
       "  & celltype\\_Fröhlich & celltype\\_Ruzicka & common\\_up & common\\_down & up\\_Age\\_down\\_SCZ & down\\_Age\\_up\\_SCZ & total & total\\_common & total\\_divergent & percentage\\_common & percentage\\_divergent\\\\\n",
       "  & <chr> & <chr> & <int> & <int> & <int> & <int> & <int> & <int> & <int> & <dbl> & <dbl>\\\\\n",
       "\\hline\n",
       "\tExc\\_L2-3 & Exc\\_L2-3   & Ex-L2        &  8 & 53 & 2 &  7 &  70 & 61 &  9 &  87.14286 & 12.857143\\\\\n",
       "\tExc\\_L2-3* & Exc\\_L2-3*  & Ex-L23       & 18 & 67 & 4 & 12 & 101 & 85 & 16 &  84.15842 & 15.841584\\\\\n",
       "\tExc\\_L3-5 & Exc\\_L3-5   & Ex-L3        &  2 & 33 & 2 &  1 &  38 & 35 &  3 &  92.10526 &  7.894737\\\\\n",
       "\tExc\\_L3-5* & Exc\\_L3-5*  & Ex-L4\\_MYLK   &  6 & 45 & 0 &  0 &  51 & 51 &  0 & 100.00000 &  0.000000\\\\\n",
       "\tExc\\_L4-6\\_2 & Exc\\_L4-6\\_2 & Ex-L45\\_MET   &  8 & 76 & 2 &  2 &  88 & 84 &  4 &  95.45455 &  4.545455\\\\\n",
       "\tExc\\_L4-6\\_1 & Exc\\_L4-6\\_1 & Ex-L45\\_LRRK1 & 15 & 65 & 0 &  0 &  80 & 80 &  0 & 100.00000 &  0.000000\\\\\n",
       "\\end{tabular}\n"
      ],
      "text/markdown": [
       "\n",
       "A data.frame: 6 × 11\n",
       "\n",
       "| <!--/--> | celltype_Fröhlich &lt;chr&gt; | celltype_Ruzicka &lt;chr&gt; | common_up &lt;int&gt; | common_down &lt;int&gt; | up_Age_down_SCZ &lt;int&gt; | down_Age_up_SCZ &lt;int&gt; | total &lt;int&gt; | total_common &lt;int&gt; | total_divergent &lt;int&gt; | percentage_common &lt;dbl&gt; | percentage_divergent &lt;dbl&gt; |\n",
       "|---|---|---|---|---|---|---|---|---|---|---|---|\n",
       "| Exc_L2-3 | Exc_L2-3   | Ex-L2        |  8 | 53 | 2 |  7 |  70 | 61 |  9 |  87.14286 | 12.857143 |\n",
       "| Exc_L2-3* | Exc_L2-3*  | Ex-L23       | 18 | 67 | 4 | 12 | 101 | 85 | 16 |  84.15842 | 15.841584 |\n",
       "| Exc_L3-5 | Exc_L3-5   | Ex-L3        |  2 | 33 | 2 |  1 |  38 | 35 |  3 |  92.10526 |  7.894737 |\n",
       "| Exc_L3-5* | Exc_L3-5*  | Ex-L4_MYLK   |  6 | 45 | 0 |  0 |  51 | 51 |  0 | 100.00000 |  0.000000 |\n",
       "| Exc_L4-6_2 | Exc_L4-6_2 | Ex-L45_MET   |  8 | 76 | 2 |  2 |  88 | 84 |  4 |  95.45455 |  4.545455 |\n",
       "| Exc_L4-6_1 | Exc_L4-6_1 | Ex-L45_LRRK1 | 15 | 65 | 0 |  0 |  80 | 80 |  0 | 100.00000 |  0.000000 |\n",
       "\n"
      ],
      "text/plain": [
       "           celltype_Fröhlich celltype_Ruzicka common_up common_down\n",
       "Exc_L2-3   Exc_L2-3          Ex-L2             8        53         \n",
       "Exc_L2-3*  Exc_L2-3*         Ex-L23           18        67         \n",
       "Exc_L3-5   Exc_L3-5          Ex-L3             2        33         \n",
       "Exc_L3-5*  Exc_L3-5*         Ex-L4_MYLK        6        45         \n",
       "Exc_L4-6_2 Exc_L4-6_2        Ex-L45_MET        8        76         \n",
       "Exc_L4-6_1 Exc_L4-6_1        Ex-L45_LRRK1     15        65         \n",
       "           up_Age_down_SCZ down_Age_up_SCZ total total_common total_divergent\n",
       "Exc_L2-3   2                7               70   61            9             \n",
       "Exc_L2-3*  4               12              101   85           16             \n",
       "Exc_L3-5   2                1               38   35            3             \n",
       "Exc_L3-5*  0                0               51   51            0             \n",
       "Exc_L4-6_2 2                2               88   84            4             \n",
       "Exc_L4-6_1 0                0               80   80            0             \n",
       "           percentage_common percentage_divergent\n",
       "Exc_L2-3    87.14286         12.857143           \n",
       "Exc_L2-3*   84.15842         15.841584           \n",
       "Exc_L3-5    92.10526          7.894737           \n",
       "Exc_L3-5*  100.00000          0.000000           \n",
       "Exc_L4-6_2  95.45455          4.545455           \n",
       "Exc_L4-6_1 100.00000          0.000000           "
      ]
     },
     "metadata": {},
     "output_type": "display_data"
    },
    {
     "data": {
      "text/html": [
       "<style>\n",
       ".list-inline {list-style: none; margin:0; padding: 0}\n",
       ".list-inline>li {display: inline-block}\n",
       ".list-inline>li:not(:last-child)::after {content: \"\\00b7\"; padding: 0 .5ex}\n",
       "</style>\n",
       "<ol class=list-inline><li>20</li><li>11</li></ol>\n"
      ],
      "text/latex": [
       "\\begin{enumerate*}\n",
       "\\item 20\n",
       "\\item 11\n",
       "\\end{enumerate*}\n"
      ],
      "text/markdown": [
       "1. 20\n",
       "2. 11\n",
       "\n",
       "\n"
      ],
      "text/plain": [
       "[1] 20 11"
      ]
     },
     "metadata": {},
     "output_type": "display_data"
    }
   ],
   "source": [
    "directionality_quantification <- as.data.frame(matrix(ncol=6, nrow=length(names(combined))))\n",
    "rownames(directionality_quantification ) <- names(combined)\n",
    "colnames(directionality_quantification ) <- c('celltype_Fröhlich', 'celltype_Ruzicka', 'common_up', 'common_down', 'up_Age_down_SCZ', 'down_Age_up_SCZ')\n",
    "\n",
    "idx <- 0\n",
    "for (ct in sig_celltypes){\n",
    "    idx <- idx +1\n",
    "    celltype <- names(sig_celltypes)[idx]\n",
    "    tmp <- combined[[celltype]]\n",
    "    up <- tmp %>% filter(logFC > 0 & Meta_logFC > 0)\n",
    "    down <- tmp %>% filter(logFC < 0 & Meta_logFC < 0)\n",
    "    up_Age_down_SCZ <- tmp %>% filter(logFC > 0 & Meta_logFC < 0)\n",
    "    down_Age_up_SCZ <- tmp %>% filter(logFC < 0 & Meta_logFC > 0)\n",
    "    directionality_quantification[celltype, ]$`celltype_Fröhlich` <- celltype\n",
    "    directionality_quantification[celltype, ]$celltype_Ruzicka <- ct\n",
    "    directionality_quantification[celltype, ]$common_up <- length(up$ID)\n",
    "    directionality_quantification[celltype, ]$common_down <- length(down$ID)\n",
    "    directionality_quantification[celltype, ]$up_Age_down_SCZ <- length(up_Age_down_SCZ$ID)\n",
    "    directionality_quantification[celltype, ]$down_Age_up_SCZ <- length(down_Age_up_SCZ$ID)\n",
    "}\n",
    "\n",
    "directionality_quantification$total <- directionality_quantification$common_up + directionality_quantification$common_down + directionality_quantification$up_Age_down_SCZ + directionality_quantification$down_Age_up_SCZ\n",
    "directionality_quantification$total_common <- directionality_quantification$common_up + directionality_quantification$common_down\n",
    "directionality_quantification$total_divergent <- directionality_quantification$up_Age_down_SCZ +directionality_quantification$down_Age_up_SCZ\n",
    "directionality_quantification$percentage_common <- directionality_quantification$total_common/directionality_quantification$total *100\n",
    "directionality_quantification$percentage_divergent <- (directionality_quantification$up_Age_down_SCZ +directionality_quantification$down_Age_up_SCZ)/directionality_quantification$total *100\n",
    "head(directionality_quantification)\n",
    "dim(directionality_quantification)"
   ]
  },
  {
   "cell_type": "code",
   "execution_count": 19,
   "id": "bb28eb72-392a-49bc-9356-405f5cfd4424",
   "metadata": {
    "execution": {
     "iopub.execute_input": "2024-01-29T17:43:06.489609Z",
     "iopub.status.busy": "2024-01-29T17:43:06.480548Z",
     "iopub.status.idle": "2024-01-29T17:43:06.520208Z",
     "shell.execute_reply": "2024-01-29T17:43:06.517658Z"
    }
   },
   "outputs": [
    {
     "data": {
      "text/html": [
       "1"
      ],
      "text/latex": [
       "1"
      ],
      "text/markdown": [
       "1"
      ],
      "text/plain": [
       "[1] 1"
      ]
     },
     "metadata": {},
     "output_type": "display_data"
    },
    {
     "data": {
      "text/html": [
       "81.8181818181818"
      ],
      "text/latex": [
       "81.8181818181818"
      ],
      "text/markdown": [
       "81.8181818181818"
      ],
      "text/plain": [
       "[1] 81.81818"
      ]
     },
     "metadata": {},
     "output_type": "display_data"
    }
   ],
   "source": [
    "# what's the percentage of cell types with a common regulation higher than 50%?\n",
    "length(which(directionality_quantification$percentage_common > 50))/length(directionality_quantification$percentage_common) # 100%\n",
    "\n",
    "#minimum % common regulation\n",
    "min(directionality_quantification$percentage_common)"
   ]
  },
  {
   "cell_type": "code",
   "execution_count": 20,
   "id": "3c5b31a4-4e9a-49d7-af8e-062f05b06e72",
   "metadata": {
    "execution": {
     "iopub.execute_input": "2024-01-29T17:43:11.530028Z",
     "iopub.status.busy": "2024-01-29T17:43:11.527413Z",
     "iopub.status.idle": "2024-01-29T17:43:11.556936Z",
     "shell.execute_reply": "2024-01-29T17:43:11.554301Z"
    }
   },
   "outputs": [],
   "source": [
    "directionality_quantification$`celltype_Fröhlich` <- factor(directionality_quantification$`celltype_Fröhlich`, \n",
    "                                                         levels=rev(c('Exc_L2-3','Exc_L2-3*',\n",
    "                                                                      'Exc_L3-5','Exc_L3-5*',\n",
    "                                                                      'Exc_L4-6_2','Exc_L4-6_1',\n",
    "                                                                      'Exc_L5-6_1','Exc_L4-6_3',\n",
    "                                                                      'Exc_L4-6_3*','Exc_L5-6_1*',\n",
    "                                                                      'In_LAMP5_1','In_RELN',\n",
    "                                                                      'In_PVALB_Ba','In_SST',\n",
    "                                                                      'In_VIP','Astro_FB','Astro_PP',\n",
    "                                                                      'Microglia','Oligodendrocyte',\n",
    "                                                                      'OPC')))\n",
    "\n",
    "#celltype levels need to be unique\n",
    "directionality_quantification[c('Astro_PP'),]$celltype_Ruzicka <- 'Ast*'\n",
    "directionality_quantification$celltype_Ruzicka <- factor(directionality_quantification$celltype_Ruzicka ,\n",
    "                                                         levels=rev(c('Ex-L2','Ex-L23','Ex-L3',\n",
    "                                                                      'Ex-L4_MYLK','Ex-L45_MET',\n",
    "                                                                      'Ex-L45_LRRK1','Ex-L56',\n",
    "                                                                      'Ex-L56_CC_NTNG2','Ex-L6_CC_SEMA3A',\n",
    "                                                                      'Ex-L6b_SEMA3D','In-Rosehip_TRPC3',\n",
    "                                                                      'In-Reelin','In-PV_Basket','In-SST',\n",
    "                                                                      'In-VIP','Ast','Ast*','Mic','Oli',\n",
    "                                                                      'OPC')))"
   ]
  },
  {
   "cell_type": "code",
   "execution_count": 21,
   "id": "0b808ff7-2681-42b8-95e2-e9ef775bd961",
   "metadata": {
    "execution": {
     "iopub.execute_input": "2024-01-29T17:43:21.507745Z",
     "iopub.status.busy": "2024-01-29T17:43:21.505092Z",
     "iopub.status.idle": "2024-01-29T17:43:23.339805Z",
     "shell.execute_reply": "2024-01-29T17:43:23.338123Z"
    }
   },
   "outputs": [
    {
     "data": {
      "image/png": "[encoded data removed]",
      "text/plain": [
       "plot without title"
      ]
     },
     "metadata": {
      "image/png": {
       "height": 240,
       "width": 300
      }
     },
     "output_type": "display_data"
    },
    {
     "data": {
      "image/png": "[encoded data removed]",
      "text/plain": [
       "plot without title"
      ]
     },
     "metadata": {
      "image/png": {
       "height": 240,
       "width": 300
      }
     },
     "output_type": "display_data"
    }
   ],
   "source": [
    "fig_list <- list()\n",
    "fig_list[['celltype_labels_1']] = ggplot(directionality_quantification, aes(2, `celltype_Fröhlich`)) +\n",
    "        geom_tile(fill=\"white\") +\n",
    "        geom_point(aes(color=percentage_common, size=total)) +\n",
    "scale_size_continuous(name = \"# genes affected by\\n age & SCZ\", breaks=c(0, 20, 40, 60, 80, 100)) +\n",
    "        scale_color_viridis(name = \"% genes\\nwith common\\nregulation\", lim=c(80, 101)) +\n",
    "        theme_classic() +\n",
    "        theme(aspect.ratio=20, axis.text.x=element_blank(), axis.ticks.x=element_blank()) +\n",
    "        xlab('') + ylab('')\n",
    "\n",
    "fig_list[['celltype_labels_2']] = ggplot(directionality_quantification, aes(2, celltype_Ruzicka)) +\n",
    "        geom_tile(fill=\"white\") +\n",
    "        geom_point(aes(color=percentage_common, size=total)) +\n",
    "scale_size_continuous(name = \"# genes affected by\\n age & SCZ\", breaks=c(0, 20, 40, 60, 80, 100)) +\n",
    "        scale_color_viridis(name = \"% genes\\nwith common\\nregulation\", lim=c(80, 101)) +\n",
    "        theme_classic() +\n",
    "        theme(aspect.ratio=20, axis.text.x=element_blank(), axis.ticks.x=element_blank()) +\n",
    "        xlab('') + ylab('') \n",
    "\n",
    "# Figure with cell type labels from this study\n",
    "fig_list[['celltype_labels_1']]\n",
    "ggsave('../figures/plot_overlap_Age_&_SCZ_Ruzicka_regulation_ct_label_1.pdf', plot = last_plot(), width = 5, height =4.5)\n",
    "# Figure with cell type labels from Ruzicka et al.\n",
    "fig_list[['celltype_labels_2']]\n",
    "ggsave('../figures/plot_overlap_Age_&_SCZ_Ruzicka_regulation_ct_label_2.pdf', plot = last_plot(), width = 5, height =4.5)"
   ]
  },
  {
   "cell_type": "markdown",
   "id": "a29e71b5-e478-4c4d-8b1c-a7e9df47a132",
   "metadata": {},
   "source": [
    "## Calculate spearman correlation of logFCs of overlapping genes"
   ]
  },
  {
   "cell_type": "code",
   "execution_count": 22,
   "id": "b60eb4a4-c8d9-4fa7-b5a0-5fd4a3cc9055",
   "metadata": {
    "execution": {
     "iopub.execute_input": "2024-01-29T17:43:44.134631Z",
     "iopub.status.busy": "2024-01-29T17:43:44.131865Z",
     "iopub.status.idle": "2024-01-29T17:43:44.223139Z",
     "shell.execute_reply": "2024-01-29T17:43:44.220968Z"
    }
   },
   "outputs": [],
   "source": [
    "# correlate logFCs\n",
    "Ruzicka_spearman <- as.data.frame(matrix(ncol=5, nrow=length(sig_celltypes)))\n",
    "colnames(Ruzicka_spearman) <- c('celltype_Fröhlich', 'celltype_Ruzicka', 'n_genes',\n",
    "                                              'Rho', 'p-val')\n",
    "\n",
    "merged <- list()\n",
    "idx <- 0\n",
    "for (ct in sig_celltypes){\n",
    "    idx <- idx +1\n",
    "    celltype <- names(sig_celltypes)[idx]\n",
    "    tmp <- combined[[celltype]]\n",
    "    if (dim(tmp)[1] >1){\n",
    "        merged[[celltype]] <- cor.test(as.numeric(tmp$logFC), tmp$Meta_logFC, method=c(\"spearman\"))\n",
    "        Ruzicka_spearman$celltype_Fröhlich[idx] <- celltype\n",
    "        Ruzicka_spearman$celltype_Ruzicka[idx] <- ct \n",
    "        Ruzicka_spearman$n_genes[idx] <- length(tmp$ID)\n",
    "        Ruzicka_spearman$Rho[idx] <- merged[[celltype]]$estimate\n",
    "        Ruzicka_spearman$`p-val`[idx] <- merged[[celltype]]$p.value\n",
    "    }\n",
    "} \n",
    "\n",
    "#adjust for multiple testing\n",
    "Ruzicka_spearman$adj.P.Val <- p.adjust(Ruzicka_spearman$`p-val`, method='fdr', n=length(Ruzicka_spearman$`p-val`))\n",
    "\n",
    "Ruzicka_spearman$`celltype_Fröhlich` <- factor(Ruzicka_spearman$`celltype_Fröhlich`, levels=Ruzicka_spearman$`celltype_Fröhlich`)"
   ]
  },
  {
   "cell_type": "code",
   "execution_count": 23,
   "id": "6df63646-58c4-4649-9ea3-a57d332020cf",
   "metadata": {
    "execution": {
     "iopub.execute_input": "2024-01-29T17:43:47.752643Z",
     "iopub.status.busy": "2024-01-29T17:43:47.750013Z",
     "iopub.status.idle": "2024-01-29T17:43:47.777009Z",
     "shell.execute_reply": "2024-01-29T17:43:47.774261Z"
    }
   },
   "outputs": [
    {
     "data": {
      "text/html": [
       "15"
      ],
      "text/latex": [
       "15"
      ],
      "text/markdown": [
       "15"
      ],
      "text/plain": [
       "[1] 15"
      ]
     },
     "metadata": {},
     "output_type": "display_data"
    }
   ],
   "source": [
    "# significant spearman correlation:\n",
    "length(Ruzicka_spearman[Ruzicka_spearman$adj.P.Val < 0.05,]$`celltype_Fröhlich`)"
   ]
  },
  {
   "cell_type": "code",
   "execution_count": 24,
   "id": "f818fd77-989e-4a6b-bbb4-909215c39ac7",
   "metadata": {
    "execution": {
     "iopub.execute_input": "2024-01-29T17:44:14.564622Z",
     "iopub.status.busy": "2024-01-29T17:44:14.561646Z",
     "iopub.status.idle": "2024-01-29T17:44:15.134457Z",
     "shell.execute_reply": "2024-01-29T17:44:15.132807Z"
    }
   },
   "outputs": [
    {
     "data": {
      "image/png": "[encoded data removed]",
      "text/plain": [
       "plot without title"
      ]
     },
     "metadata": {
      "image/png": {
       "height": 180,
       "width": 330
      }
     },
     "output_type": "display_data"
    }
   ],
   "source": [
    "Ruzicka_spearman[Ruzicka_spearman$`celltype_Fröhlich` == 'Astro_PP',]$celltype_Ruzicka <- 'Ast*'\n",
    "\n",
    "options(repr.plot.width=5.5, repr.plot.height=3)\n",
    "ggplot(Ruzicka_spearman, aes(`celltype_Fröhlich`, 1, fill= Rho, label = ifelse(`adj.P.Val` < 0.05, \"*\", \"\"))) + \n",
    "  geom_tile() + theme_classic() + geom_text(vjust = 1, hjust = 0.5) +\n",
    "  scale_fill_gradient(low = '#ACDDF4', high= '#365C8D') + theme(axis.text.x = element_text(angle = 90, vjust = 1, hjust=0, color=\"black\", \n",
    "                                                                          size=8), axis.title.x=element_blank(),\n",
    "                                               axis.text.y=element_blank(),axis.title.y=element_blank(), \n",
    "                                               axis.ticks.y=element_blank(), axis.line.y=element_blank(), \n",
    "                                               legend.title = element_text(face='bold')) + scale_x_discrete(position = \"top\") +\n",
    "annotate(geom = \"text\", x = 1.1 + 1.01 * (0:19) , y = -1.42, angle=90, label =Ruzicka_spearman$`celltype_Ruzicka`, size = 2.9,\n",
    "         vjust=0, hjust=0) + geom_hline(yintercept=0.45) \n",
    "ggsave('../figures/spearman_corr_Age_&_SCZ_Ruzicka_regulation.pdf', plot = last_plot(), width = 5, height =2.9)"
   ]
  },
  {
   "cell_type": "markdown",
   "id": "2e3cc9d6-1330-406a-983b-1d1643c6fd07",
   "metadata": {},
   "source": [
    "# SessionInfo"
   ]
  },
  {
   "cell_type": "code",
   "execution_count": 25,
   "id": "64d84d5b-8ead-4be5-941d-32bfb7a75030",
   "metadata": {
    "execution": {
     "iopub.execute_input": "2024-01-29T17:44:20.450579Z",
     "iopub.status.busy": "2024-01-29T17:44:20.447909Z",
     "iopub.status.idle": "2024-01-29T17:44:20.515069Z",
     "shell.execute_reply": "2024-01-29T17:44:20.512846Z"
    }
   },
   "outputs": [
    {
     "data": {
      "text/plain": [
       "R version 4.3.1 (2023-06-16)\n",
       "Platform: x86_64-conda-linux-gnu (64-bit)\n",
       "Running under: CentOS Linux 7 (Core)\n",
       "\n",
       "Matrix products: default\n",
       "BLAS/LAPACK: /psycl/u/afroe/conda-envs/dreamlet_duplicated/lib/libopenblasp-r0.3.24.so;  LAPACK version 3.11.0\n",
       "\n",
       "locale:\n",
       " [1] LC_CTYPE=en_US.UTF-8       LC_NUMERIC=C              \n",
       " [3] LC_TIME=en_US.UTF-8        LC_COLLATE=en_US.UTF-8    \n",
       " [5] LC_MONETARY=en_US.UTF-8    LC_MESSAGES=en_US.UTF-8   \n",
       " [7] LC_PAPER=en_US.UTF-8       LC_NAME=C                 \n",
       " [9] LC_ADDRESS=C               LC_TELEPHONE=C            \n",
       "[11] LC_MEASUREMENT=en_US.UTF-8 LC_IDENTIFICATION=C       \n",
       "\n",
       "time zone: Europe/Berlin\n",
       "tzcode source: system (glibc)\n",
       "\n",
       "attached base packages:\n",
       "[1] stats     graphics  grDevices utils     datasets  methods   base     \n",
       "\n",
       "other attached packages:\n",
       " [1] viridis_0.6.4      viridisLite_0.4.2  writexl_1.4.2      cowplot_1.1.1     \n",
       " [5] GeneOverlap_1.38.0 readxl_1.4.3       lubridate_1.9.3    forcats_1.0.0     \n",
       " [9] stringr_1.5.1      dplyr_1.1.4        purrr_1.0.2        readr_2.1.4       \n",
       "[13] tidyr_1.3.0        tibble_3.2.1       ggplot2_3.4.4      tidyverse_2.0.0   \n",
       "\n",
       "loaded via a namespace (and not attached):\n",
       " [1] utf8_1.2.4         generics_0.1.3     gplots_3.1.3       bitops_1.0-7      \n",
       " [5] KernSmooth_2.23-22 gtools_3.9.4       stringi_1.8.3      hms_1.1.3         \n",
       " [9] digest_0.6.33      magrittr_2.0.3     caTools_1.18.2     evaluate_0.23     \n",
       "[13] grid_4.3.1         timechange_0.2.0   RColorBrewer_1.1-3 pbdZMQ_0.3-10     \n",
       "[17] fastmap_1.1.1      cellranger_1.1.0   jsonlite_1.8.7     gridExtra_2.3     \n",
       "[21] fansi_1.0.6        scales_1.3.0       textshaping_0.3.7  cli_3.6.2         \n",
       "[25] rlang_1.1.2        crayon_1.5.2       munsell_0.5.0      base64enc_0.1-3   \n",
       "[29] withr_2.5.2        repr_1.1.6         tools_4.3.1        tzdb_0.4.0        \n",
       "[33] uuid_1.1-1         colorspace_2.1-0   IRdisplay_1.1      vctrs_0.6.5       \n",
       "[37] R6_2.5.1           lifecycle_1.0.4    ragg_1.2.5         pkgconfig_2.0.3   \n",
       "[41] pillar_1.9.0       gtable_0.3.4       glue_1.6.2         systemfonts_1.0.5 \n",
       "[45] tidyselect_1.2.0   IRkernel_1.3.2     farver_2.1.1       htmltools_0.5.7   \n",
       "[49] labeling_0.4.3     Cairo_1.6-1        compiler_4.3.1    "
      ]
     },
     "metadata": {},
     "output_type": "display_data"
    }
   ],
   "source": [
    "sessionInfo()"
   ]
  }
 ],
 "metadata": {
  "kernelspec": {
   "display_name": "R",
   "language": "R",
   "name": "ir"
  },
  "language_info": {
   "codemirror_mode": "r",
   "file_extension": ".r",
   "mimetype": "text/x-r-source",
   "name": "R",
   "pygments_lexer": "r",
   "version": "4.3.1"
  }
 },
 "nbformat": 4,
 "nbformat_minor": 5
}
