{
 "cells": [
  {
   "cell_type": "markdown",
   "id": "a1993977-d69c-4a07-986b-4f433571bf69",
   "metadata": {
    "execution": {
     "iopub.execute_input": "2024-01-07T15:25:57.998835Z",
     "iopub.status.busy": "2024-01-07T15:25:57.994207Z",
     "iopub.status.idle": "2024-01-07T15:25:58.055498Z",
     "shell.execute_reply": "2024-01-07T15:25:58.052559Z"
    }
   },
   "source": [
    "<b> <font size=\"+2.5\"> Polygenic risk scores\n",
    " </b> </font> <br>"
   ]
  },
  {
   "cell_type": "markdown",
   "id": "a0b65c76-9626-4271-a933-7a62ece56dc4",
   "metadata": {},
   "source": [
    "Date: 2024-01-05 <br>\n",
    "Author: ASF"
   ]
  },
  {
   "cell_type": "markdown",
   "id": "8f173019-9703-45b5-bcbc-5eda5cf9984b",
   "metadata": {},
   "source": [
    "# Load libraries"
   ]
  },
  {
   "cell_type": "code",
   "execution_count": 1,
   "id": "21789f4b-08ca-4fec-9a70-ba3e8ed37fb8",
   "metadata": {
    "execution": {
     "iopub.execute_input": "2024-03-15T14:13:34.797788Z",
     "iopub.status.busy": "2024-03-15T14:13:34.793437Z",
     "iopub.status.idle": "2024-03-15T14:13:35.779409Z",
     "shell.execute_reply": "2024-03-15T14:13:35.777118Z"
    }
   },
   "outputs": [],
   "source": [
    "suppressPackageStartupMessages({\n",
    "library(tidyverse)\n",
    "library(readr)\n",
    "library(ggplot2)\n",
    "library(ggpubr)\n",
    "library(car)\n",
    "library(cowplot)\n",
    "})"
   ]
  },
  {
   "cell_type": "markdown",
   "id": "1536a038-56e5-404b-82e5-346a0cef62ff",
   "metadata": {},
   "source": [
    "# Read in meta data and PRS"
   ]
  },
  {
   "cell_type": "code",
   "execution_count": 2,
   "id": "769d4046-68eb-46e5-a63f-c53c867968c5",
   "metadata": {
    "execution": {
     "iopub.execute_input": "2024-03-15T14:13:36.682843Z",
     "iopub.status.busy": "2024-03-15T14:13:36.622871Z",
     "iopub.status.idle": "2024-03-15T14:14:08.907401Z",
     "shell.execute_reply": "2024-03-15T14:14:08.905669Z"
    }
   },
   "outputs": [],
   "source": [
    "# read in meta_data from single nuclei RNA-seq (adata obs)\n",
    "meta_data <- read.delim(\"../datasets/adata.obs_20231120.tsv\", sep='\\t')\n",
    "\n",
    "# select meta_data of interest\n",
    "meta_data <- meta_data\n",
    "meta_data <- meta_data %>% select(c('individual', 'Status', 'Sex', 'Age', 'AgeBin','Brain.pH', 'RIN', 'PMI', 'X6.Batch')) %>% distinct()\n",
    "meta_data <- as.data.frame(meta_data)\n",
    "\n",
    "# format meta data\n",
    "meta_data$individual <- as.character(meta_data$individual)\n",
    "\n",
    "meta_data$RIN[is.na(meta_data$RIN)] = median(meta_data$RIN, na.rm=TRUE) \n",
    "\n",
    "meta_data$Status <- as.factor(as.character(meta_data$Status))\n",
    "meta_data$Status <- factor(meta_data$Status, c('0','1'))\n",
    "meta_data$Disease_Status <- ifelse(meta_data$Status=='0', 'Controls', 'Cases')\n",
    "meta_data$Disease_Status <- factor(meta_data$Disease_Status, levels=c('Controls', 'Cases'))\n",
    "\n",
    "meta_data$X6.Batch <- as.character(meta_data$X6.Batch)\n",
    "colnames(meta_data)[which(names(meta_data) == 'X6.Batch')] <- 'lib_batch'\n",
    "\n",
    "colnames(meta_data)[which(names(meta_data) == 'Brain.pH')] <- 'pH'"
   ]
  },
  {
   "cell_type": "code",
   "execution_count": 3,
   "id": "e99a7863-5efa-4b9b-b5b5-65a8a0ea7440",
   "metadata": {
    "execution": {
     "iopub.execute_input": "2024-03-15T14:14:08.911238Z",
     "iopub.status.busy": "2024-03-15T14:14:08.910011Z",
     "iopub.status.idle": "2024-03-15T14:14:08.965470Z",
     "shell.execute_reply": "2024-03-15T14:14:08.963913Z"
    }
   },
   "outputs": [
    {
     "data": {
      "text/plain": [
       "                  Length Class      Mode\n",
       "crossDisorder2019 6      data.frame list\n",
       "SCZ2022           6      data.frame list"
      ]
     },
     "metadata": {},
     "output_type": "display_data"
    }
   ],
   "source": [
    "# read in PRS scores\n",
    "\n",
    "file_list <-  list.files(path=\"../datasets/PRS\", pattern=\".score$\", full.names=T)\n",
    "names_of_files <- gsub(file_list, pattern=\"^.*PRS.|.plink_out.sscore$\", replacement=\"\")\n",
    "\n",
    "# make a column with individual\n",
    "PRS_scores <- list()\n",
    "for (file in file_list){\n",
    "    tmp <- read.delim(file, sep='\\t')\n",
    "    #tmp <- read_delim(file, delim = \"\\t\", escape_double = FALSE, trim_ws = TRUE)\n",
    "    tmp <- transform(tmp, individual = as.numeric(gsub(\"\\\\D\", \"\", IID ))) # make a column with individual's number\n",
    "    tmp$individual <- as.character(tmp$individual)\n",
    "    PRS_scores[[file]] <- tmp}\n",
    "names(PRS_scores) <- names_of_files\n",
    "summary(PRS_scores)\n",
    "\n",
    "# filter the PRS scores for individuals contained in the snRNA seq experiment N=87\n",
    "PRS_scores_N87 <- list()\n",
    "for (score in names(PRS_scores)){\n",
    "    tmp <- PRS_scores[[score]]\n",
    "    tmp <- filter(tmp, individual %in% intersect(meta_data$individual,tmp$individual))\n",
    "    tmp <- merge(meta_data, tmp, by='individual')\n",
    "    PRS_scores_N87[[score]] <- tmp\n",
    "}\n",
    "\n",
    "names(PRS_scores_N87) <- c('CrossDisorder', 'SCZ')"
   ]
  },
  {
   "cell_type": "code",
   "execution_count": 4,
   "id": "c5589eff-0667-479b-8452-6e830c5f4938",
   "metadata": {
    "execution": {
     "iopub.execute_input": "2024-03-15T14:14:08.969443Z",
     "iopub.status.busy": "2024-03-15T14:14:08.968125Z",
     "iopub.status.idle": "2024-03-15T14:14:09.007569Z",
     "shell.execute_reply": "2024-03-15T14:14:09.006090Z"
    }
   },
   "outputs": [
    {
     "data": {
      "text/plain": [
       "NULL"
      ]
     },
     "metadata": {},
     "output_type": "display_data"
    },
    {
     "data": {
      "text/html": [
       "<style>\n",
       ".list-inline {list-style: none; margin:0; padding: 0}\n",
       ".list-inline>li {display: inline-block}\n",
       ".list-inline>li:not(:last-child)::after {content: \"\\00b7\"; padding: 0 .5ex}\n",
       "</style>\n",
       "<ol class=list-inline><li>'CrossDisorder'</li><li>'SCZ'</li></ol>\n"
      ],
      "text/latex": [
       "\\begin{enumerate*}\n",
       "\\item 'CrossDisorder'\n",
       "\\item 'SCZ'\n",
       "\\end{enumerate*}\n"
      ],
      "text/markdown": [
       "1. 'CrossDisorder'\n",
       "2. 'SCZ'\n",
       "\n",
       "\n"
      ],
      "text/plain": [
       "[1] \"CrossDisorder\" \"SCZ\"          "
      ]
     },
     "metadata": {},
     "output_type": "display_data"
    }
   ],
   "source": [
    "# check if scores are normally distributed\n",
    "PRS_not_normally_distributed <- c() \n",
    "\n",
    "for (score in names(PRS_scores_N87)){\n",
    "    tmp <- PRS_scores_N87[[score]]\n",
    "    ctrls <- tmp[tmp$Disease_Status=='Controls', ]\n",
    "    cases <- tmp[tmp$Disease_Status=='Cases', ]\n",
    "    if (shapiro.test(ctrls[,'SCORE1_AVG'])$p.value < 0.05){\n",
    "        PRS_not_normally_distributed <- c(PRS_not_normally_distributed, score)\n",
    "    }\n",
    "    if (shapiro.test(cases[,'SCORE1_AVG'])$p.value < 0.05){\n",
    "        PRS_not_normally_distributed <- c(PRS_not_normally_distributed, score)\n",
    "    }\n",
    "}\n",
    "PRS_not_normally_distributed <- unique(PRS_not_normally_distributed)\n",
    "\n",
    "PRS_normally_distributed <-  names(PRS_scores_N87)[!names(PRS_scores_N87) %in% PRS_not_normally_distributed]\n",
    "\n",
    "PRS_not_normally_distributed\n",
    "PRS_normally_distributed"
   ]
  },
  {
   "cell_type": "code",
   "execution_count": 5,
   "id": "7fd0dd19-17df-41b9-b330-7c8a573aec8e",
   "metadata": {
    "execution": {
     "iopub.execute_input": "2024-03-15T14:14:09.011438Z",
     "iopub.status.busy": "2024-03-15T14:14:09.010091Z",
     "iopub.status.idle": "2024-03-15T14:14:09.042412Z",
     "shell.execute_reply": "2024-03-15T14:14:09.041020Z"
    }
   },
   "outputs": [
    {
     "data": {
      "text/html": [
       "'CrossDisorder'"
      ],
      "text/latex": [
       "'CrossDisorder'"
      ],
      "text/markdown": [
       "'CrossDisorder'"
      ],
      "text/plain": [
       "[1] \"CrossDisorder\""
      ]
     },
     "metadata": {},
     "output_type": "display_data"
    },
    {
     "data": {
      "text/html": [
       "'SCZ'"
      ],
      "text/latex": [
       "'SCZ'"
      ],
      "text/markdown": [
       "'SCZ'"
      ],
      "text/plain": [
       "[1] \"SCZ\""
      ]
     },
     "metadata": {},
     "output_type": "display_data"
    }
   ],
   "source": [
    "# check if variance is equal\n",
    "norm_unequal <- c()\n",
    "for (score in names(PRS_scores_N87)) {\n",
    "    tmp <- PRS_scores_N87[[score]]\n",
    "    res <- var.test(SCORE1_AVG ~ Disease_Status, data = tmp)\n",
    "    if (res$p.value < 0.05){\n",
    "        norm_unequal <- c(norm_unequal, score)\n",
    "    }\n",
    "}\n",
    "\n",
    "norm_equal <- PRS_normally_distributed[!PRS_normally_distributed %in% norm_unequal]\n",
    "\n",
    "norm_equal\n",
    "norm_unequal"
   ]
  },
  {
   "cell_type": "markdown",
   "id": "30f06159-6a36-4399-891d-71dadac82ae5",
   "metadata": {},
   "source": [
    "## Extended Data Fig. 10a"
   ]
  },
  {
   "cell_type": "code",
   "execution_count": 6,
   "id": "f09af9c8-ec28-47ee-9570-9d5c2b757986",
   "metadata": {
    "collapsed": true,
    "execution": {
     "iopub.execute_input": "2024-03-15T14:14:09.046216Z",
     "iopub.status.busy": "2024-03-15T14:14:09.044834Z",
     "iopub.status.idle": "2024-03-15T14:14:09.156006Z",
     "shell.execute_reply": "2024-03-15T14:14:09.154253Z"
    },
    "jupyter": {
     "outputs_hidden": true
    }
   },
   "outputs": [
    {
     "name": "stderr",
     "output_type": "stream",
     "text": [
      "------------------------------------------------------------------------------\n",
      "\n",
      "You have loaded plyr after dplyr - this is likely to cause problems.\n",
      "If you need functions from both plyr and dplyr, please load plyr first, then dplyr:\n",
      "library(plyr); library(dplyr)\n",
      "\n",
      "------------------------------------------------------------------------------\n",
      "\n",
      "\n",
      "Attaching package: ‘plyr’\n",
      "\n",
      "\n",
      "The following object is masked from ‘package:ggpubr’:\n",
      "\n",
      "    mutate\n",
      "\n",
      "\n",
      "The following objects are masked from ‘package:dplyr’:\n",
      "\n",
      "    arrange, count, desc, failwith, id, mutate, rename, summarise,\n",
      "    summarize\n",
      "\n",
      "\n",
      "The following object is masked from ‘package:purrr’:\n",
      "\n",
      "    compact\n",
      "\n",
      "\n"
     ]
    }
   ],
   "source": [
    "library(plyr) \n",
    "# only load this libary here: see the package start-up message"
   ]
  },
  {
   "cell_type": "code",
   "execution_count": 7,
   "id": "01917c95-76b4-4da6-938e-d45071715df8",
   "metadata": {
    "execution": {
     "iopub.execute_input": "2024-03-15T14:14:09.160529Z",
     "iopub.status.busy": "2024-03-15T14:14:09.158721Z",
     "iopub.status.idle": "2024-03-15T14:14:09.171547Z",
     "shell.execute_reply": "2024-03-15T14:14:09.169945Z"
    }
   },
   "outputs": [],
   "source": [
    "# define outlier function - so that outliers can then be plotted using boxplot\n",
    "id_outliers <- function(x){\n",
    "  q <- quantile(x,c(0.25,0.75))\n",
    "  iqr <- abs(diff(q))\n",
    "  ifelse((x < q[1] - 1.5*iqr) | (x > q[2] + 1.5*iqr),'Outlier','NotOutlier')\n",
    "}"
   ]
  },
  {
   "cell_type": "code",
   "execution_count": 8,
   "id": "74a3dd3c-8e1c-4b49-ac03-a341735f1eef",
   "metadata": {
    "execution": {
     "iopub.execute_input": "2024-03-15T14:14:09.175716Z",
     "iopub.status.busy": "2024-03-15T14:14:09.174328Z",
     "iopub.status.idle": "2024-03-15T14:14:09.213159Z",
     "shell.execute_reply": "2024-03-15T14:14:09.211526Z"
    }
   },
   "outputs": [],
   "source": [
    "#ddply: Split data frame, apply function, and return results in a data frame\n",
    "for (score in names(PRS_scores_N87)){\n",
    "    PRS_scores_N87[[score]] <- as.data.frame(ddply(PRS_scores_N87[[score]],\n",
    "                                  .(Disease_Status),\n",
    "                                  transform,\n",
    "                                  Outlier = id_outliers(SCORE1_AVG)))}"
   ]
  },
  {
   "cell_type": "code",
   "execution_count": 9,
   "id": "6fe3dfa2-4787-49d9-8e80-bf7f2ccd43bb",
   "metadata": {
    "execution": {
     "iopub.execute_input": "2024-03-15T14:14:09.217314Z",
     "iopub.status.busy": "2024-03-15T14:14:09.215928Z",
     "iopub.status.idle": "2024-03-15T14:14:11.353707Z",
     "shell.execute_reply": "2024-03-15T14:14:11.350049Z"
    }
   },
   "outputs": [
    {
     "data": {
      "image/png": "[encoded data removed]",
      "text/plain": [
       "plot without title"
      ]
     },
     "metadata": {
      "image/png": {
       "height": 300,
       "width": 480
      }
     },
     "output_type": "display_data"
    }
   ],
   "source": [
    "figList <- list()\n",
    "\n",
    "# one-sided t-test since a higher PRS in Cases is expected\n",
    "#triangles represent outliers\n",
    "for (score in norm_equal){\n",
    "    figList[[score]] <- ggplot(PRS_scores_N87[[score]], aes(x=Disease_Status, y=SCORE1_AVG, fill=Disease_Status)) + \n",
    "  geom_boxplot(outlier.color=NA) + geom_point(aes(colour = Disease_Status,shape = Outlier),position = \"jitter\", colour='black') +\n",
    "theme_classic() + theme(legend.position = 'none')+ ylab('PRS') + xlab('Disease Status') + \n",
    "stat_compare_means(method = \"t.test\",method.args = list(var.equal = TRUE, alternative='greater'), size=3) +\n",
    "theme(axis.title=element_text(face='bold'),axis.text = element_text(colour=\"black\"), \n",
    "      axis.text.x = element_text(face=\"bold\"), \n",
    "axis.title.x = element_blank(), plot.title = element_text(hjust = 0.5, face='bold')) + \n",
    "ggtitle(score) +scale_fill_manual(values=c(\"#EA8C55\", \"#496A81\"))\n",
    "  }\n",
    "\n",
    "for (score in norm_unequal){\n",
    "    figList[[score]] <- ggplot(PRS_scores_N87[[score]], aes(x=Disease_Status, y=SCORE1_AVG, fill=Disease_Status)) + \n",
    "  geom_boxplot(outlier.color=NA) + geom_point(aes(colour = Disease_Status,shape = Outlier),position = \"jitter\", colour='black') +\n",
    "theme_classic() + theme(legend.position = 'none')+ ylab('PRS') + xlab('Disease Status') + \n",
    "stat_compare_means(method = \"t.test\", method.args = list(var.equal = FALSE, alternative='greater'), size=3) +\n",
    "theme(axis.title=element_text(face='bold'),axis.text = element_text(colour=\"black\"), \n",
    "      axis.text.x = element_text(face=\"bold\"), \n",
    "axis.title.x = element_blank(), plot.title = element_text(hjust = 0.5, face='bold')) + \n",
    "ggtitle('Schizophrenia') +scale_fill_manual(values=c(\"#EA8C55\", \"#496A81\"))\n",
    "  }\n",
    "\n",
    "options(repr.plot.width=8, repr.plot.height=5)\n",
    "plot_grid(plotlist=figList, nrow=1)\n",
    "\n",
    "ggsave('../figures/boxplot_PRS_CrossD&SCZ.pdf', plot=last_plot(), width=5.6, height=4)"
   ]
  },
  {
   "cell_type": "markdown",
   "id": "74db9988-6518-41c6-9924-80f202ae785e",
   "metadata": {},
   "source": [
    "# Supplementary Table 15"
   ]
  },
  {
   "cell_type": "code",
   "execution_count": 10,
   "id": "529e143f-87ef-42d5-8fbb-159be37e665f",
   "metadata": {
    "execution": {
     "iopub.execute_input": "2024-03-15T14:14:11.361981Z",
     "iopub.status.busy": "2024-03-15T14:14:11.359237Z",
     "iopub.status.idle": "2024-03-15T14:14:11.458073Z",
     "shell.execute_reply": "2024-03-15T14:14:11.456283Z"
    }
   },
   "outputs": [
    {
     "data": {
      "text/html": [
       "<table class=\"dataframe\">\n",
       "<caption>A data.frame: 6 × 3</caption>\n",
       "<thead>\n",
       "\t<tr><th></th><th scope=col>Donor</th><th scope=col>PRS_CrossD</th><th scope=col>PRS_SCZ</th></tr>\n",
       "\t<tr><th></th><th scope=col>&lt;chr&gt;</th><th scope=col>&lt;dbl&gt;</th><th scope=col>&lt;dbl&gt;</th></tr>\n",
       "</thead>\n",
       "<tbody>\n",
       "\t<tr><th scope=row>1</th><td>s1</td><td>1.54453e-05</td><td>0.000161789</td></tr>\n",
       "\t<tr><th scope=row>2</th><td>s2</td><td>1.55057e-05</td><td>0.000161538</td></tr>\n",
       "\t<tr><th scope=row>3</th><td>s3</td><td>1.55319e-05</td><td>0.000162056</td></tr>\n",
       "\t<tr><th scope=row>4</th><td>s4</td><td>1.56252e-05</td><td>0.000162293</td></tr>\n",
       "\t<tr><th scope=row>5</th><td>s5</td><td>1.54444e-05</td><td>0.000161426</td></tr>\n",
       "\t<tr><th scope=row>6</th><td>s6</td><td>1.54334e-05</td><td>0.000161981</td></tr>\n",
       "</tbody>\n",
       "</table>\n"
      ],
      "text/latex": [
       "A data.frame: 6 × 3\n",
       "\\begin{tabular}{r|lll}\n",
       "  & Donor & PRS\\_CrossD & PRS\\_SCZ\\\\\n",
       "  & <chr> & <dbl> & <dbl>\\\\\n",
       "\\hline\n",
       "\t1 & s1 & 1.54453e-05 & 0.000161789\\\\\n",
       "\t2 & s2 & 1.55057e-05 & 0.000161538\\\\\n",
       "\t3 & s3 & 1.55319e-05 & 0.000162056\\\\\n",
       "\t4 & s4 & 1.56252e-05 & 0.000162293\\\\\n",
       "\t5 & s5 & 1.54444e-05 & 0.000161426\\\\\n",
       "\t6 & s6 & 1.54334e-05 & 0.000161981\\\\\n",
       "\\end{tabular}\n"
      ],
      "text/markdown": [
       "\n",
       "A data.frame: 6 × 3\n",
       "\n",
       "| <!--/--> | Donor &lt;chr&gt; | PRS_CrossD &lt;dbl&gt; | PRS_SCZ &lt;dbl&gt; |\n",
       "|---|---|---|---|\n",
       "| 1 | s1 | 1.54453e-05 | 0.000161789 |\n",
       "| 2 | s2 | 1.55057e-05 | 0.000161538 |\n",
       "| 3 | s3 | 1.55319e-05 | 0.000162056 |\n",
       "| 4 | s4 | 1.56252e-05 | 0.000162293 |\n",
       "| 5 | s5 | 1.54444e-05 | 0.000161426 |\n",
       "| 6 | s6 | 1.54334e-05 | 0.000161981 |\n",
       "\n"
      ],
      "text/plain": [
       "  Donor PRS_CrossD  PRS_SCZ    \n",
       "1 s1    1.54453e-05 0.000161789\n",
       "2 s2    1.55057e-05 0.000161538\n",
       "3 s3    1.55319e-05 0.000162056\n",
       "4 s4    1.56252e-05 0.000162293\n",
       "5 s5    1.54444e-05 0.000161426\n",
       "6 s6    1.54334e-05 0.000161981"
      ]
     },
     "metadata": {},
     "output_type": "display_data"
    }
   ],
   "source": [
    "# polygenic risk scores\n",
    "\n",
    "PRS <- merge(PRS_scores_N87[['CrossDisorder']][,c('individual', 'SCORE1_AVG')], PRS_scores_N87[['SCZ']][,c('individual', 'SCORE1_AVG')], by='individual')\n",
    "\n",
    "#rename columns\n",
    "colnames(PRS) <- c('individual', 'PRS_CrossD', 'PRS_SCZ')\n",
    "\n",
    "#add anonymous donor label\n",
    "library(readxl)\n",
    "anonymous_donor_label <- read_excel('../datasets/anonymous_donor_label.xlsx')\n",
    "PRS <- merge(anonymous_donor_label, PRS, by='individual')\n",
    "\n",
    "#remove individual identifier\n",
    "PRS$individual <- NULL\n",
    "\n",
    "head(PRS)"
   ]
  },
  {
   "cell_type": "code",
   "execution_count": 11,
   "id": "5d3afb24-1690-44a7-8297-e62541dde79f",
   "metadata": {
    "execution": {
     "iopub.execute_input": "2024-03-15T14:14:11.462155Z",
     "iopub.status.busy": "2024-03-15T14:14:11.460708Z",
     "iopub.status.idle": "2024-03-15T14:14:11.484297Z",
     "shell.execute_reply": "2024-03-15T14:14:11.482582Z"
    }
   },
   "outputs": [],
   "source": [
    "library(writexl)\n",
    "#write_xlsx(PRS, '../results/cohort_descrip/PRS_CrossD_SCZ_anonymous_donor_label.xlsx', col_names = TRUE)"
   ]
  },
  {
   "cell_type": "markdown",
   "id": "89ce686b-b879-4bed-b425-28ea6c91c704",
   "metadata": {},
   "source": [
    "# SessionInfo"
   ]
  },
  {
   "cell_type": "code",
   "execution_count": 12,
   "id": "e6dbbe5e-088e-47be-aa61-23e2672c37c1",
   "metadata": {
    "execution": {
     "iopub.execute_input": "2024-03-15T14:14:11.488362Z",
     "iopub.status.busy": "2024-03-15T14:14:11.486926Z",
     "iopub.status.idle": "2024-03-15T14:14:11.527677Z",
     "shell.execute_reply": "2024-03-15T14:14:11.525958Z"
    }
   },
   "outputs": [
    {
     "data": {
      "text/plain": [
       "R version 4.3.1 (2023-06-16)\n",
       "Platform: x86_64-conda-linux-gnu (64-bit)\n",
       "Running under: CentOS Linux 7 (Core)\n",
       "\n",
       "Matrix products: default\n",
       "BLAS/LAPACK: /psycl/u/afroe/conda-envs/dreamlet_duplicated/lib/libopenblasp-r0.3.24.so;  LAPACK version 3.11.0\n",
       "\n",
       "locale:\n",
       " [1] LC_CTYPE=en_US.UTF-8       LC_NUMERIC=C              \n",
       " [3] LC_TIME=en_US.UTF-8        LC_COLLATE=en_US.UTF-8    \n",
       " [5] LC_MONETARY=en_US.UTF-8    LC_MESSAGES=en_US.UTF-8   \n",
       " [7] LC_PAPER=en_US.UTF-8       LC_NAME=C                 \n",
       " [9] LC_ADDRESS=C               LC_TELEPHONE=C            \n",
       "[11] LC_MEASUREMENT=en_US.UTF-8 LC_IDENTIFICATION=C       \n",
       "\n",
       "time zone: Europe/Berlin\n",
       "tzcode source: system (glibc)\n",
       "\n",
       "attached base packages:\n",
       "[1] stats     graphics  grDevices utils     datasets  methods   base     \n",
       "\n",
       "other attached packages:\n",
       " [1] writexl_1.4.2   readxl_1.4.3    plyr_1.8.9      cowplot_1.1.1  \n",
       " [5] car_3.1-2       carData_3.0-5   ggpubr_0.6.0    lubridate_1.9.3\n",
       " [9] forcats_1.0.0   stringr_1.5.1   dplyr_1.1.4     purrr_1.0.2    \n",
       "[13] readr_2.1.4     tidyr_1.3.0     tibble_3.2.1    ggplot2_3.4.4  \n",
       "[17] tidyverse_2.0.0\n",
       "\n",
       "loaded via a namespace (and not attached):\n",
       " [1] utf8_1.2.4        generics_0.1.3    rstatix_0.7.2     stringi_1.8.3    \n",
       " [5] hms_1.1.3         digest_0.6.33     magrittr_2.0.3    evaluate_0.23    \n",
       " [9] grid_4.3.1        timechange_0.2.0  pbdZMQ_0.3-10     fastmap_1.1.1    \n",
       "[13] cellranger_1.1.0  jsonlite_1.8.7    backports_1.4.1   fansi_1.0.6      \n",
       "[17] scales_1.3.0      textshaping_0.3.7 abind_1.4-5       cli_3.6.2        \n",
       "[21] rlang_1.1.2       crayon_1.5.2      munsell_0.5.0     base64enc_0.1-3  \n",
       "[25] withr_2.5.2       repr_1.1.6        tools_4.3.1       tzdb_0.4.0       \n",
       "[29] uuid_1.1-1        ggsignif_0.6.4    colorspace_2.1-0  broom_1.0.5      \n",
       "[33] IRdisplay_1.1     vctrs_0.6.5       R6_2.5.1          lifecycle_1.0.4  \n",
       "[37] ragg_1.2.5        pkgconfig_2.0.3   pillar_1.9.0      gtable_0.3.4     \n",
       "[41] glue_1.6.2        Rcpp_1.0.11       systemfonts_1.0.5 tidyselect_1.2.0 \n",
       "[45] IRkernel_1.3.2    farver_2.1.1      htmltools_0.5.7   labeling_0.4.3   \n",
       "[49] Cairo_1.6-1       compiler_4.3.1   "
      ]
     },
     "metadata": {},
     "output_type": "display_data"
    }
   ],
   "source": [
    "sessionInfo()"
   ]
  }
 ],
 "metadata": {
  "kernelspec": {
   "display_name": "R",
   "language": "R",
   "name": "ir"
  },
  "language_info": {
   "codemirror_mode": "r",
   "file_extension": ".r",
   "mimetype": "text/x-r-source",
   "name": "R",
   "pygments_lexer": "r",
   "version": "4.3.1"
  }
 },
 "nbformat": 4,
 "nbformat_minor": 5
}
