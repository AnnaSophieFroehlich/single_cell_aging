{
 "cells": [
  {
   "cell_type": "markdown",
   "id": "d0d1007b-8c00-47dd-b49a-268f2abb9cbf",
   "metadata": {},
   "source": [
    "<b> <font size=\"+2.5\"> Enrichment of age-associated genes <br> in genes dysregulated in Alzheimer‘s disease\n",
    " </b> </font> <br>"
   ]
  },
  {
   "cell_type": "markdown",
   "id": "123255f6-2059-4a8e-af3f-6c71438c887a",
   "metadata": {},
   "source": [
    "Date: 20231129 <br>\n",
    "Authors: ASF"
   ]
  },
  {
   "cell_type": "markdown",
   "id": "e121bb50-5bde-4e23-9ddc-a011da353bc8",
   "metadata": {},
   "source": [
    "# Load libraries"
   ]
  },
  {
   "cell_type": "code",
   "execution_count": 1,
   "id": "08a89d0d-9e52-4cdb-a9d3-990ac1da5f53",
   "metadata": {
    "execution": {
     "iopub.execute_input": "2024-01-26T18:16:21.698300Z",
     "iopub.status.busy": "2024-01-26T18:16:21.693942Z",
     "iopub.status.idle": "2024-01-26T18:16:22.664215Z",
     "shell.execute_reply": "2024-01-26T18:16:22.662002Z"
    }
   },
   "outputs": [],
   "source": [
    "suppressPackageStartupMessages({\n",
    "library(tidyverse)\n",
    "library(readr)\n",
    "library(readxl)\n",
    "library(GeneOverlap)\n",
    "library(cowplot)\n",
    "})"
   ]
  },
  {
   "cell_type": "markdown",
   "id": "10033b0d-8265-4766-90a7-6002e877fd59",
   "metadata": {},
   "source": [
    "# Read in age-associated genes in major cell types"
   ]
  },
  {
   "cell_type": "code",
   "execution_count": 2,
   "id": "4b08385e-9831-4e9f-891c-7d656dce1618",
   "metadata": {
    "execution": {
     "iopub.execute_input": "2024-01-26T18:16:23.742703Z",
     "iopub.status.busy": "2024-01-26T18:16:23.680937Z",
     "iopub.status.idle": "2024-01-26T18:16:24.641849Z",
     "shell.execute_reply": "2024-01-26T18:16:24.640172Z"
    }
   },
   "outputs": [
    {
     "data": {
      "text/html": [
       "<style>\n",
       ".list-inline {list-style: none; margin:0; padding: 0}\n",
       ".list-inline>li {display: inline-block}\n",
       ".list-inline>li:not(:last-child)::after {content: \"\\00b7\"; padding: 0 .5ex}\n",
       "</style>\n",
       "<ol class=list-inline><li>'Astrocytes'</li><li>'Endothelial'</li><li>'Exc_Neurons'</li><li>'In_Neurons'</li><li>'Microglia'</li><li>'Oligodendrocyte'</li><li>'OPC'</li></ol>\n"
      ],
      "text/latex": [
       "\\begin{enumerate*}\n",
       "\\item 'Astrocytes'\n",
       "\\item 'Endothelial'\n",
       "\\item 'Exc\\_Neurons'\n",
       "\\item 'In\\_Neurons'\n",
       "\\item 'Microglia'\n",
       "\\item 'Oligodendrocyte'\n",
       "\\item 'OPC'\n",
       "\\end{enumerate*}\n"
      ],
      "text/markdown": [
       "1. 'Astrocytes'\n",
       "2. 'Endothelial'\n",
       "3. 'Exc_Neurons'\n",
       "4. 'In_Neurons'\n",
       "5. 'Microglia'\n",
       "6. 'Oligodendrocyte'\n",
       "7. 'OPC'\n",
       "\n",
       "\n"
      ],
      "text/plain": [
       "[1] \"Astrocytes\"      \"Endothelial\"     \"Exc_Neurons\"     \"In_Neurons\"     \n",
       "[5] \"Microglia\"       \"Oligodendrocyte\" \"OPC\"            "
      ]
     },
     "metadata": {},
     "output_type": "display_data"
    }
   ],
   "source": [
    "# Read in Age DE genes\n",
    "\n",
    "# cell types\n",
    "cts <- c('Astrocytes', 'Endothelial','Exc_Neurons', 'In_Neurons', 'Microglia', \"Oligodendrocyte\", 'OPC')\n",
    "\n",
    "DE_results_Age_MJ <- list()\n",
    "for (celltype in cts){\n",
    "  DE_results_Age_MJ[[celltype]] <- as.data.frame(read_excel('../results/dreamlet_tables/final_celltypes_N87/DE_results_Age_major_celltypes_20231123.xlsx', sheet = celltype))\n",
    "}\n",
    "names(DE_results_Age_MJ)\n",
    "\n",
    "# get significant DE genes\n",
    "\n",
    "DE_genes_Age_sig_MJ <- list()\n",
    "for (celltype in cts){\n",
    "    DE_genes_Age_sig_MJ[[celltype]] <- DE_results_Age_MJ[[celltype]][DE_results_Age_MJ[[celltype]]$adj.P.Val < 0.1,]\n",
    "}\n",
    "\n",
    "\n",
    "# split genes in up and downregulated\n",
    "\n",
    "up <- list()\n",
    "for (celltype in names(DE_genes_Age_sig_MJ)){\n",
    "  up[[celltype]] <- dplyr::filter(DE_genes_Age_sig_MJ[[celltype]], logFC > 0)\n",
    "}\n",
    "\n",
    "down <- list()\n",
    "for (celltype in names(DE_genes_Age_sig_MJ)){\n",
    "  down[[celltype]] <- dplyr::filter(DE_genes_Age_sig_MJ[[celltype]], logFC < 0)\n",
    "}\n"
   ]
  },
  {
   "cell_type": "markdown",
   "id": "5dc5af5d-bb8c-405d-847a-311c34eec088",
   "metadata": {},
   "source": [
    "# Mathys et al. 2019"
   ]
  },
  {
   "cell_type": "markdown",
   "id": "6a662ea1-bd20-485c-90c3-d5b439083abf",
   "metadata": {},
   "source": [
    "## Read in Alzheimer associated genes"
   ]
  },
  {
   "cell_type": "markdown",
   "id": "6b844aae-0949-4b59-8f2b-c60a236e8dba",
   "metadata": {},
   "source": [
    "overlap of Age DE genes with genes associated with Alzheimer (Mathys et al. 2019 Nature) <br>\n",
    "Mathys et al. 2019 10.1038/s41586-019-1195-2 <br>\n",
    "48 individuals (24 vs 24); 80 660 cells, PFC"
   ]
  },
  {
   "cell_type": "code",
   "execution_count": 3,
   "id": "03284dee-8dbd-4172-9269-c77ab65786df",
   "metadata": {
    "collapsed": true,
    "execution": {
     "iopub.execute_input": "2024-01-26T18:16:26.704080Z",
     "iopub.status.busy": "2024-01-26T18:16:26.701364Z",
     "iopub.status.idle": "2024-01-26T18:16:29.501085Z",
     "shell.execute_reply": "2024-01-26T18:16:29.499310Z"
    },
    "jupyter": {
     "outputs_hidden": true
    },
    "scrolled": true
   },
   "outputs": [
    {
     "name": "stderr",
     "output_type": "stream",
     "text": [
      "\u001b[1m\u001b[22mNew names:\n",
      "\u001b[36m•\u001b[39m `` -> `...1`\n",
      "\u001b[36m•\u001b[39m `` -> `...2`\n",
      "\u001b[36m•\u001b[39m `` -> `...3`\n",
      "\u001b[36m•\u001b[39m `` -> `...4`\n",
      "\u001b[36m•\u001b[39m `` -> `...5`\n",
      "\u001b[36m•\u001b[39m `` -> `...6`\n",
      "\u001b[36m•\u001b[39m `` -> `...7`\n",
      "\u001b[36m•\u001b[39m `` -> `...8`\n",
      "\u001b[36m•\u001b[39m `` -> `...9`\n",
      "\u001b[1m\u001b[22mNew names:\n",
      "\u001b[36m•\u001b[39m `` -> `...1`\n",
      "\u001b[36m•\u001b[39m `` -> `...2`\n",
      "\u001b[36m•\u001b[39m `` -> `...3`\n",
      "\u001b[36m•\u001b[39m `` -> `...4`\n",
      "\u001b[36m•\u001b[39m `` -> `...5`\n",
      "\u001b[36m•\u001b[39m `` -> `...6`\n",
      "\u001b[36m•\u001b[39m `` -> `...7`\n",
      "\u001b[36m•\u001b[39m `` -> `...8`\n",
      "\u001b[36m•\u001b[39m `` -> `...9`\n",
      "\u001b[1m\u001b[22mNew names:\n",
      "\u001b[36m•\u001b[39m `` -> `...1`\n",
      "\u001b[36m•\u001b[39m `` -> `...2`\n",
      "\u001b[36m•\u001b[39m `` -> `...3`\n",
      "\u001b[36m•\u001b[39m `` -> `...4`\n",
      "\u001b[36m•\u001b[39m `` -> `...5`\n",
      "\u001b[36m•\u001b[39m `` -> `...6`\n",
      "\u001b[36m•\u001b[39m `` -> `...7`\n",
      "\u001b[36m•\u001b[39m `` -> `...8`\n",
      "\u001b[36m•\u001b[39m `` -> `...9`\n",
      "\u001b[1m\u001b[22mNew names:\n",
      "\u001b[36m•\u001b[39m `` -> `...1`\n",
      "\u001b[36m•\u001b[39m `` -> `...2`\n",
      "\u001b[36m•\u001b[39m `` -> `...3`\n",
      "\u001b[36m•\u001b[39m `` -> `...4`\n",
      "\u001b[36m•\u001b[39m `` -> `...5`\n",
      "\u001b[36m•\u001b[39m `` -> `...6`\n",
      "\u001b[36m•\u001b[39m `` -> `...7`\n",
      "\u001b[36m•\u001b[39m `` -> `...8`\n",
      "\u001b[36m•\u001b[39m `` -> `...9`\n",
      "\u001b[1m\u001b[22mNew names:\n",
      "\u001b[36m•\u001b[39m `` -> `...1`\n",
      "\u001b[36m•\u001b[39m `` -> `...2`\n",
      "\u001b[36m•\u001b[39m `` -> `...3`\n",
      "\u001b[36m•\u001b[39m `` -> `...4`\n",
      "\u001b[36m•\u001b[39m `` -> `...5`\n",
      "\u001b[36m•\u001b[39m `` -> `...6`\n",
      "\u001b[36m•\u001b[39m `` -> `...7`\n",
      "\u001b[36m•\u001b[39m `` -> `...8`\n",
      "\u001b[36m•\u001b[39m `` -> `...9`\n",
      "\u001b[1m\u001b[22mNew names:\n",
      "\u001b[36m•\u001b[39m `` -> `...1`\n",
      "\u001b[36m•\u001b[39m `` -> `...2`\n",
      "\u001b[36m•\u001b[39m `` -> `...3`\n",
      "\u001b[36m•\u001b[39m `` -> `...4`\n",
      "\u001b[36m•\u001b[39m `` -> `...5`\n",
      "\u001b[36m•\u001b[39m `` -> `...6`\n",
      "\u001b[36m•\u001b[39m `` -> `...7`\n",
      "\u001b[36m•\u001b[39m `` -> `...8`\n",
      "\u001b[36m•\u001b[39m `` -> `...9`\n"
     ]
    }
   ],
   "source": [
    "# Read in DE genes from Alzheimer paper\n",
    "\n",
    "#cell types identified by Mathys et al.\n",
    "celltypes <- c('Ast', 'Ex', 'In', 'Mic','Oli', 'Opc')\n",
    "\n",
    "#Alzheimer genes from paper: Mathys et al 2019\n",
    "DE_genes_Alzheimer <- list()\n",
    "for (celltype in celltypes){\n",
    "    tmp <- as.data.frame(read_excel('../external_datasets/Mathys_et_al._41586_2019_1195_MOESM4_ESM.xlsx', \n",
    "                                  sheet = celltype, range = cell_cols(\"A:I\"), col_names = FALSE))\n",
    "    #delete first two rows that have no content\n",
    "    tmp <- tmp[-c(1,2),]\n",
    "    #assign colnames to all columns\n",
    "    colnames(tmp) <- c('gene_name', \"IndModel.adj.pvals\", \"no.pathology.mean\", \t\"pathology.mean\",\t\"IndModel.FC\",\t\"MixedModel.z\",\t\"MixedModel.p\",\t\"DEGs.Ind.Model\",\t\"DEGs.Ind.Mix.models\")\n",
    "    DE_genes_Alzheimer[[celltype]] <- tmp\n",
    "}\n",
    "names(DE_genes_Alzheimer) <-  celltypes"
   ]
  },
  {
   "cell_type": "code",
   "execution_count": 4,
   "id": "a82332df-edc5-41cb-90a1-4ff195c16d61",
   "metadata": {
    "execution": {
     "iopub.execute_input": "2024-01-26T18:16:30.635354Z",
     "iopub.status.busy": "2024-01-26T18:16:30.632633Z",
     "iopub.status.idle": "2024-01-26T18:16:30.683509Z",
     "shell.execute_reply": "2024-01-26T18:16:30.681030Z"
    }
   },
   "outputs": [
    {
     "data": {
      "text/html": [
       "<table class=\"dataframe\">\n",
       "<caption>A data.frame: 6 × 9</caption>\n",
       "<thead>\n",
       "\t<tr><th></th><th scope=col>gene_name</th><th scope=col>IndModel.adj.pvals</th><th scope=col>no.pathology.mean</th><th scope=col>pathology.mean</th><th scope=col>IndModel.FC</th><th scope=col>MixedModel.z</th><th scope=col>MixedModel.p</th><th scope=col>DEGs.Ind.Model</th><th scope=col>DEGs.Ind.Mix.models</th></tr>\n",
       "\t<tr><th></th><th scope=col>&lt;chr&gt;</th><th scope=col>&lt;chr&gt;</th><th scope=col>&lt;chr&gt;</th><th scope=col>&lt;chr&gt;</th><th scope=col>&lt;chr&gt;</th><th scope=col>&lt;chr&gt;</th><th scope=col>&lt;chr&gt;</th><th scope=col>&lt;chr&gt;</th><th scope=col>&lt;chr&gt;</th></tr>\n",
       "</thead>\n",
       "<tbody>\n",
       "\t<tr><th scope=row>3</th><td>RASGEF1B</td><td>0                      </td><td>3.1951384210868898</td><td>5.9505152070116196 </td><td>0.89713615158239102 </td><td>6.1275347920584    </td><td>8.9251087190383497E-10</td><td>TRUE</td><td>TRUE</td></tr>\n",
       "\t<tr><th scope=row>4</th><td>NGFRAP1 </td><td>0                      </td><td>1.83726153907559  </td><td>1.16045025538053   </td><td>-0.66287233205260099</td><td>-11.221531807310701</td><td>3.19684477759478E-29  </td><td>TRUE</td><td>TRUE</td></tr>\n",
       "\t<tr><th scope=row>5</th><td>LINGO1  </td><td>6.2595060615051804E-298</td><td>2.8849468423254399</td><td>4.3815829868230596 </td><td>0.60290744747813196 </td><td>5.6896865267508101 </td><td>1.2727279673621401E-8 </td><td>TRUE</td><td>TRUE</td></tr>\n",
       "\t<tr><th scope=row>6</th><td>BEX1    </td><td>8.2033469870993297E-283</td><td>1.58253116272897  </td><td>1.0398264770176899 </td><td>-0.60589111302433296</td><td>-9.9531627858964704</td><td>2.4429327210228801E-23</td><td>TRUE</td><td>TRUE</td></tr>\n",
       "\t<tr><th scope=row>7</th><td>SLC26A3 </td><td>2.1218091022269499E-276</td><td>1.75069733038384  </td><td>3.2622015233621799 </td><td>0.89791622292712203 </td><td>6.5402288396296502 </td><td>6.1424771957474497E-11</td><td>TRUE</td><td>TRUE</td></tr>\n",
       "\t<tr><th scope=row>8</th><td>TUBB2A  </td><td>1.98587291493313E-258  </td><td>1.1836832654151801</td><td>0.75661423062115096</td><td>-0.64565327425678598</td><td>-5.2379397278438402</td><td>1.6237906976684501E-7 </td><td>TRUE</td><td>TRUE</td></tr>\n",
       "</tbody>\n",
       "</table>\n"
      ],
      "text/latex": [
       "A data.frame: 6 × 9\n",
       "\\begin{tabular}{r|lllllllll}\n",
       "  & gene\\_name & IndModel.adj.pvals & no.pathology.mean & pathology.mean & IndModel.FC & MixedModel.z & MixedModel.p & DEGs.Ind.Model & DEGs.Ind.Mix.models\\\\\n",
       "  & <chr> & <chr> & <chr> & <chr> & <chr> & <chr> & <chr> & <chr> & <chr>\\\\\n",
       "\\hline\n",
       "\t3 & RASGEF1B & 0                       & 3.1951384210868898 & 5.9505152070116196  & 0.89713615158239102  & 6.1275347920584     & 8.9251087190383497E-10 & TRUE & TRUE\\\\\n",
       "\t4 & NGFRAP1  & 0                       & 1.83726153907559   & 1.16045025538053    & -0.66287233205260099 & -11.221531807310701 & 3.19684477759478E-29   & TRUE & TRUE\\\\\n",
       "\t5 & LINGO1   & 6.2595060615051804E-298 & 2.8849468423254399 & 4.3815829868230596  & 0.60290744747813196  & 5.6896865267508101  & 1.2727279673621401E-8  & TRUE & TRUE\\\\\n",
       "\t6 & BEX1     & 8.2033469870993297E-283 & 1.58253116272897   & 1.0398264770176899  & -0.60589111302433296 & -9.9531627858964704 & 2.4429327210228801E-23 & TRUE & TRUE\\\\\n",
       "\t7 & SLC26A3  & 2.1218091022269499E-276 & 1.75069733038384   & 3.2622015233621799  & 0.89791622292712203  & 6.5402288396296502  & 6.1424771957474497E-11 & TRUE & TRUE\\\\\n",
       "\t8 & TUBB2A   & 1.98587291493313E-258   & 1.1836832654151801 & 0.75661423062115096 & -0.64565327425678598 & -5.2379397278438402 & 1.6237906976684501E-7  & TRUE & TRUE\\\\\n",
       "\\end{tabular}\n"
      ],
      "text/markdown": [
       "\n",
       "A data.frame: 6 × 9\n",
       "\n",
       "| <!--/--> | gene_name &lt;chr&gt; | IndModel.adj.pvals &lt;chr&gt; | no.pathology.mean &lt;chr&gt; | pathology.mean &lt;chr&gt; | IndModel.FC &lt;chr&gt; | MixedModel.z &lt;chr&gt; | MixedModel.p &lt;chr&gt; | DEGs.Ind.Model &lt;chr&gt; | DEGs.Ind.Mix.models &lt;chr&gt; |\n",
       "|---|---|---|---|---|---|---|---|---|---|\n",
       "| 3 | RASGEF1B | 0                       | 3.1951384210868898 | 5.9505152070116196  | 0.89713615158239102  | 6.1275347920584     | 8.9251087190383497E-10 | TRUE | TRUE |\n",
       "| 4 | NGFRAP1  | 0                       | 1.83726153907559   | 1.16045025538053    | -0.66287233205260099 | -11.221531807310701 | 3.19684477759478E-29   | TRUE | TRUE |\n",
       "| 5 | LINGO1   | 6.2595060615051804E-298 | 2.8849468423254399 | 4.3815829868230596  | 0.60290744747813196  | 5.6896865267508101  | 1.2727279673621401E-8  | TRUE | TRUE |\n",
       "| 6 | BEX1     | 8.2033469870993297E-283 | 1.58253116272897   | 1.0398264770176899  | -0.60589111302433296 | -9.9531627858964704 | 2.4429327210228801E-23 | TRUE | TRUE |\n",
       "| 7 | SLC26A3  | 2.1218091022269499E-276 | 1.75069733038384   | 3.2622015233621799  | 0.89791622292712203  | 6.5402288396296502  | 6.1424771957474497E-11 | TRUE | TRUE |\n",
       "| 8 | TUBB2A   | 1.98587291493313E-258   | 1.1836832654151801 | 0.75661423062115096 | -0.64565327425678598 | -5.2379397278438402 | 1.6237906976684501E-7  | TRUE | TRUE |\n",
       "\n"
      ],
      "text/plain": [
       "  gene_name IndModel.adj.pvals      no.pathology.mean  pathology.mean     \n",
       "3 RASGEF1B  0                       3.1951384210868898 5.9505152070116196 \n",
       "4 NGFRAP1   0                       1.83726153907559   1.16045025538053   \n",
       "5 LINGO1    6.2595060615051804E-298 2.8849468423254399 4.3815829868230596 \n",
       "6 BEX1      8.2033469870993297E-283 1.58253116272897   1.0398264770176899 \n",
       "7 SLC26A3   2.1218091022269499E-276 1.75069733038384   3.2622015233621799 \n",
       "8 TUBB2A    1.98587291493313E-258   1.1836832654151801 0.75661423062115096\n",
       "  IndModel.FC          MixedModel.z        MixedModel.p          \n",
       "3 0.89713615158239102  6.1275347920584     8.9251087190383497E-10\n",
       "4 -0.66287233205260099 -11.221531807310701 3.19684477759478E-29  \n",
       "5 0.60290744747813196  5.6896865267508101  1.2727279673621401E-8 \n",
       "6 -0.60589111302433296 -9.9531627858964704 2.4429327210228801E-23\n",
       "7 0.89791622292712203  6.5402288396296502  6.1424771957474497E-11\n",
       "8 -0.64565327425678598 -5.2379397278438402 1.6237906976684501E-7 \n",
       "  DEGs.Ind.Model DEGs.Ind.Mix.models\n",
       "3 TRUE           TRUE               \n",
       "4 TRUE           TRUE               \n",
       "5 TRUE           TRUE               \n",
       "6 TRUE           TRUE               \n",
       "7 TRUE           TRUE               \n",
       "8 TRUE           TRUE               "
      ]
     },
     "metadata": {},
     "output_type": "display_data"
    }
   ],
   "source": [
    "View(head(DE_genes_Alzheimer[['Ex']]))"
   ]
  },
  {
   "cell_type": "code",
   "execution_count": 5,
   "id": "af1fda66-3a94-4f42-a813-932473ca6fe9",
   "metadata": {
    "execution": {
     "iopub.execute_input": "2024-01-26T18:16:33.965034Z",
     "iopub.status.busy": "2024-01-26T18:16:33.962360Z",
     "iopub.status.idle": "2024-01-26T18:16:34.054798Z",
     "shell.execute_reply": "2024-01-26T18:16:34.052776Z"
    }
   },
   "outputs": [
    {
     "name": "stdout",
     "output_type": "stream",
     "text": [
      "[1] \"Ast: upregulated genes: 37; downregulated genes: 32\"\n",
      "[1] \"Ex: upregulated genes: 191; downregulated genes: 565\"\n",
      "[1] \"In: upregulated genes: 3; downregulated genes: 51\"\n",
      "[1] \"Mic: upregulated genes: 22; downregulated genes: 13\"\n",
      "[1] \"Oli: upregulated genes: 102; downregulated genes: 71\"\n",
      "[1] \"Opc: upregulated genes: 10; downregulated genes: 18\"\n"
     ]
    }
   ],
   "source": [
    "# select significant AD genes based on DEGs.Ind.Mix.models == TRUE\n",
    "# DEGs.Ind.Model: logical indication of whether a gene meets the criteria fdr-adjusted p-value < 0.01 and absolute log2 fold change > 0.25 \n",
    "# in Fig.1. they show: DEG counts for each cell type (two-sided Wilcoxon rank-sum test, FDR < 0.01, log2(mean gene expression in AD-pathology/mean gene expression in no-pathology) > 0.25, Poisson mixed-model FDR < 0.05).\n",
    "\n",
    "\n",
    "sig_DE_genes_Alzheimer <- list()\n",
    "for (celltype in celltypes){\n",
    "  sig_DE_genes_Alzheimer[[celltype]] <- DE_genes_Alzheimer[[celltype]][DE_genes_Alzheimer[[celltype]]$DEGs.Ind.Mix.models == TRUE,]\n",
    "}\n",
    "\n",
    "#split the DE genes in up- & downregulated\n",
    "sig_DE_genes_Alzheimer_up <- list()\n",
    "for (celltype in celltypes){\n",
    "  sig_DE_genes_Alzheimer_up[[celltype]] <- dplyr::filter(sig_DE_genes_Alzheimer[[celltype]], IndModel.FC > 0)\n",
    "\n",
    "}\n",
    "\n",
    "sig_DE_genes_Alzheimer_down <- list()\n",
    "for (celltype in celltypes){\n",
    "  sig_DE_genes_Alzheimer_down[[celltype]] <- dplyr::filter(sig_DE_genes_Alzheimer[[celltype]], IndModel.FC < 0)\n",
    "}\n",
    "\n",
    "# number of DE genes match the numbers reported in their Fig 1b\n",
    "for (celltype in celltypes){\n",
    "    up_tmp <- dim(sig_DE_genes_Alzheimer_up[[celltype]])[1]\n",
    "    down_tmp <- dim(sig_DE_genes_Alzheimer_down[[celltype]])[1]\n",
    "    print(paste0(celltype, ': upregulated genes: ', up_tmp, \n",
    "                 '; downregulated genes: ', down_tmp))\n",
    "}"
   ]
  },
  {
   "cell_type": "markdown",
   "id": "0c2b51ce-53f0-4772-9524-1bae3260463b",
   "metadata": {},
   "source": [
    "## Perform overlap"
   ]
  },
  {
   "cell_type": "markdown",
   "id": "03d519b5-98f9-4d45-82fb-87e49f34ef15",
   "metadata": {},
   "source": [
    "### upregulated genes"
   ]
  },
  {
   "cell_type": "code",
   "execution_count": 6,
   "id": "1ff192ca-405f-4b9f-8063-dd40cf49ab0d",
   "metadata": {
    "execution": {
     "iopub.execute_input": "2024-01-26T18:16:36.491026Z",
     "iopub.status.busy": "2024-01-26T18:16:36.488398Z",
     "iopub.status.idle": "2024-01-26T18:16:36.646962Z",
     "shell.execute_reply": "2024-01-26T18:16:36.645216Z"
    }
   },
   "outputs": [
    {
     "data": {
      "text/html": [
       "<table class=\"dataframe\">\n",
       "<caption>A data.frame: 6 × 9</caption>\n",
       "<thead>\n",
       "\t<tr><th></th><th scope=col>celltype_Fröhlich</th><th scope=col>celltype_Mathys</th><th scope=col>AD DE genes Mathys et al.</th><th scope=col>Age DE genes Fröhlich et al.</th><th scope=col>n overlap genes</th><th scope=col>Genome size</th><th scope=col>overlap p-value</th><th scope=col>Odds Ratio</th><th scope=col>p.adjust_FDR</th></tr>\n",
       "\t<tr><th></th><th scope=col>&lt;chr&gt;</th><th scope=col>&lt;chr&gt;</th><th scope=col>&lt;int&gt;</th><th scope=col>&lt;int&gt;</th><th scope=col>&lt;int&gt;</th><th scope=col>&lt;int&gt;</th><th scope=col>&lt;dbl&gt;</th><th scope=col>&lt;dbl&gt;</th><th scope=col>&lt;dbl&gt;</th></tr>\n",
       "</thead>\n",
       "<tbody>\n",
       "\t<tr><th scope=row>Astrocytes</th><td>Astrocytes     </td><td>Ast</td><td> 34</td><td>159</td><td> 9</td><td>11401</td><td>6.190404e-10</td><td>26.857208</td><td>3.714242e-09</td></tr>\n",
       "\t<tr><th scope=row>Exc_Neurons</th><td>Exc_Neurons    </td><td>Ex </td><td>179</td><td>961</td><td>13</td><td>19733</td><td>9.824940e-02</td><td> 1.536957</td><td>1.178993e-01</td></tr>\n",
       "\t<tr><th scope=row>In_Neurons</th><td>In_Neurons     </td><td>In </td><td>  3</td><td>388</td><td> 0</td><td>16239</td><td>1.000000e+00</td><td> 0.000000</td><td>1.000000e+00</td></tr>\n",
       "\t<tr><th scope=row>Microglia</th><td>Microglia      </td><td>Mic</td><td> 19</td><td>118</td><td> 2</td><td> 5233</td><td>6.718130e-02</td><td> 5.166533</td><td>1.178993e-01</td></tr>\n",
       "\t<tr><th scope=row>Oligodendrocyte</th><td>Oligodendrocyte</td><td>Oli</td><td> 91</td><td>195</td><td>10</td><td> 8881</td><td>2.835798e-05</td><td> 5.739706</td><td>8.507395e-05</td></tr>\n",
       "\t<tr><th scope=row>OPC</th><td>OPC            </td><td>Opc</td><td>  7</td><td>136</td><td> 1</td><td> 9462</td><td>9.640627e-02</td><td>11.493477</td><td>1.178993e-01</td></tr>\n",
       "</tbody>\n",
       "</table>\n"
      ],
      "text/latex": [
       "A data.frame: 6 × 9\n",
       "\\begin{tabular}{r|lllllllll}\n",
       "  & celltype\\_Fröhlich & celltype\\_Mathys & AD DE genes Mathys et al. & Age DE genes Fröhlich et al. & n overlap genes & Genome size & overlap p-value & Odds Ratio & p.adjust\\_FDR\\\\\n",
       "  & <chr> & <chr> & <int> & <int> & <int> & <int> & <dbl> & <dbl> & <dbl>\\\\\n",
       "\\hline\n",
       "\tAstrocytes & Astrocytes      & Ast &  34 & 159 &  9 & 11401 & 6.190404e-10 & 26.857208 & 3.714242e-09\\\\\n",
       "\tExc\\_Neurons & Exc\\_Neurons     & Ex  & 179 & 961 & 13 & 19733 & 9.824940e-02 &  1.536957 & 1.178993e-01\\\\\n",
       "\tIn\\_Neurons & In\\_Neurons      & In  &   3 & 388 &  0 & 16239 & 1.000000e+00 &  0.000000 & 1.000000e+00\\\\\n",
       "\tMicroglia & Microglia       & Mic &  19 & 118 &  2 &  5233 & 6.718130e-02 &  5.166533 & 1.178993e-01\\\\\n",
       "\tOligodendrocyte & Oligodendrocyte & Oli &  91 & 195 & 10 &  8881 & 2.835798e-05 &  5.739706 & 8.507395e-05\\\\\n",
       "\tOPC & OPC             & Opc &   7 & 136 &  1 &  9462 & 9.640627e-02 & 11.493477 & 1.178993e-01\\\\\n",
       "\\end{tabular}\n"
      ],
      "text/markdown": [
       "\n",
       "A data.frame: 6 × 9\n",
       "\n",
       "| <!--/--> | celltype_Fröhlich &lt;chr&gt; | celltype_Mathys &lt;chr&gt; | AD DE genes Mathys et al. &lt;int&gt; | Age DE genes Fröhlich et al. &lt;int&gt; | n overlap genes &lt;int&gt; | Genome size &lt;int&gt; | overlap p-value &lt;dbl&gt; | Odds Ratio &lt;dbl&gt; | p.adjust_FDR &lt;dbl&gt; |\n",
       "|---|---|---|---|---|---|---|---|---|---|\n",
       "| Astrocytes | Astrocytes      | Ast |  34 | 159 |  9 | 11401 | 6.190404e-10 | 26.857208 | 3.714242e-09 |\n",
       "| Exc_Neurons | Exc_Neurons     | Ex  | 179 | 961 | 13 | 19733 | 9.824940e-02 |  1.536957 | 1.178993e-01 |\n",
       "| In_Neurons | In_Neurons      | In  |   3 | 388 |  0 | 16239 | 1.000000e+00 |  0.000000 | 1.000000e+00 |\n",
       "| Microglia | Microglia       | Mic |  19 | 118 |  2 |  5233 | 6.718130e-02 |  5.166533 | 1.178993e-01 |\n",
       "| Oligodendrocyte | Oligodendrocyte | Oli |  91 | 195 | 10 |  8881 | 2.835798e-05 |  5.739706 | 8.507395e-05 |\n",
       "| OPC | OPC             | Opc |   7 | 136 |  1 |  9462 | 9.640627e-02 | 11.493477 | 1.178993e-01 |\n",
       "\n"
      ],
      "text/plain": [
       "                celltype_Fröhlich celltype_Mathys AD DE genes Mathys et al.\n",
       "Astrocytes      Astrocytes        Ast              34                      \n",
       "Exc_Neurons     Exc_Neurons       Ex              179                      \n",
       "In_Neurons      In_Neurons        In                3                      \n",
       "Microglia       Microglia         Mic              19                      \n",
       "Oligodendrocyte Oligodendrocyte   Oli              91                      \n",
       "OPC             OPC               Opc               7                      \n",
       "                Age DE genes Fröhlich et al. n overlap genes Genome size\n",
       "Astrocytes      159                           9              11401      \n",
       "Exc_Neurons     961                          13              19733      \n",
       "In_Neurons      388                           0              16239      \n",
       "Microglia       118                           2               5233      \n",
       "Oligodendrocyte 195                          10               8881      \n",
       "OPC             136                           1               9462      \n",
       "                overlap p-value Odds Ratio p.adjust_FDR\n",
       "Astrocytes      6.190404e-10    26.857208  3.714242e-09\n",
       "Exc_Neurons     9.824940e-02     1.536957  1.178993e-01\n",
       "In_Neurons      1.000000e+00     0.000000  1.000000e+00\n",
       "Microglia       6.718130e-02     5.166533  1.178993e-01\n",
       "Oligodendrocyte 2.835798e-05     5.739706  8.507395e-05\n",
       "OPC             9.640627e-02    11.493477  1.178993e-01"
      ]
     },
     "metadata": {},
     "output_type": "display_data"
    }
   ],
   "source": [
    "#cell type names matching\n",
    "cts_Mathys <- c('Ast', 'Ex', 'In', 'Mic','Oli', 'Opc')\n",
    "names(cts_Mathys) <- c('Astrocytes','Exc_Neurons', 'In_Neurons', 'Microglia', \"Oligodendrocyte\", 'OPC')\n",
    "\n",
    "\n",
    "##### upregulated genes:\n",
    "Mathys_overlap_test_up <- list()\n",
    "\n",
    "idx <- 0\n",
    "for (ct in cts_Mathys){\n",
    "    idx <- idx +1\n",
    "    celltype <- names(cts_Mathys)[idx]\n",
    "    sig_DE_genes_Alzheimer_up_filtered <- sig_DE_genes_Alzheimer_up[[ct]][sig_DE_genes_Alzheimer_up[[ct]]$gene_name %in% DE_results_Age_MJ[[celltype]]$ID,] # remove genes not expressed in my dataset from the Mathys genes \n",
    "    overlap <-  newGeneOverlap(sig_DE_genes_Alzheimer_up_filtered$gene_name, up[[celltype]]$ID,genome.size=length(DE_results_Age_MJ[[celltype]]$ID))\n",
    "    Mathys_overlap_test_up[[celltype]] <- testGeneOverlap(overlap) }\n",
    "\n",
    "\n",
    "Mathys_overlap_test_up_table <- as.data.frame(matrix(ncol=8, nrow=length(cts_Mathys)))\n",
    "colnames(Mathys_overlap_test_up_table) <- c('celltype_Fröhlich', 'celltype_Mathys', 'AD DE genes Mathys et al.', 'Age DE genes Fröhlich et al.', 'n overlap genes', 'Genome size', 'overlap p-value', 'Odds Ratio' )\n",
    "rownames(Mathys_overlap_test_up_table) <- names(cts_Mathys)\n",
    "\n",
    "idx <- 0\n",
    "for (celltype in names(cts_Mathys)){\n",
    "    idx <- idx +1\n",
    "    Mathys_overlap_test_up_table[celltype,]$`celltype_Fröhlich` <- celltype\n",
    "    Mathys_overlap_test_up_table[celltype,]$`celltype_Mathys` <- cts_Mathys[idx]\n",
    "    Mathys_overlap_test_up_table[celltype,]$`AD DE genes Mathys et al.` <- length(Mathys_overlap_test_up[[celltype]]@listA)\n",
    "    Mathys_overlap_test_up_table[celltype,]$`Age DE genes Fröhlich et al.` <- length(Mathys_overlap_test_up[[celltype]]@listB)\n",
    "    Mathys_overlap_test_up_table[celltype,]$`n overlap genes` <- length(Mathys_overlap_test_up[[celltype]]@intersection)\n",
    "    Mathys_overlap_test_up_table[celltype,]$`Genome size` <- Mathys_overlap_test_up[[celltype]]@genome.size\n",
    "    Mathys_overlap_test_up_table[celltype,]$`overlap p-value` <- Mathys_overlap_test_up[[celltype]]@pval\n",
    "    Mathys_overlap_test_up_table[celltype,]$`Odds Ratio` <- Mathys_overlap_test_up[[celltype]]@odds.ratio\n",
    "}\n",
    "\n",
    "# calculate the fdr adjusted p-value\n",
    "Mathys_overlap_test_up_table$p.adjust_FDR <- p.adjust(Mathys_overlap_test_up_table$`overlap p-value`, \n",
    "                                                      method = 'fdr', n = length(Mathys_overlap_test_up_table$`overlap p-value`))\n",
    "\n",
    "Mathys_overlap_test_up_table\n"
   ]
  },
  {
   "cell_type": "code",
   "execution_count": 7,
   "id": "e080b19d-3ec9-4e79-8710-db19299f5060",
   "metadata": {
    "execution": {
     "iopub.execute_input": "2024-01-26T18:16:38.792558Z",
     "iopub.status.busy": "2024-01-26T18:16:38.789927Z",
     "iopub.status.idle": "2024-01-26T18:16:38.875671Z",
     "shell.execute_reply": "2024-01-26T18:16:38.873599Z"
    }
   },
   "outputs": [
    {
     "data": {
      "text/html": [
       "<table class=\"dataframe\">\n",
       "<caption>A data.frame: 9 × 1</caption>\n",
       "<thead>\n",
       "\t<tr><th scope=col>intersection_genes_Age_AD_up</th></tr>\n",
       "\t<tr><th scope=col>&lt;chr&gt;</th></tr>\n",
       "</thead>\n",
       "<tbody>\n",
       "\t<tr><td>GFAP   </td></tr>\n",
       "\t<tr><td>CSF1   </td></tr>\n",
       "\t<tr><td>VCAN   </td></tr>\n",
       "\t<tr><td>PLEC   </td></tr>\n",
       "\t<tr><td>MRAS   </td></tr>\n",
       "\t<tr><td>AHNAK  </td></tr>\n",
       "\t<tr><td>PLEKHA5</td></tr>\n",
       "\t<tr><td>ITGB4  </td></tr>\n",
       "\t<tr><td>SYNM   </td></tr>\n",
       "</tbody>\n",
       "</table>\n"
      ],
      "text/latex": [
       "A data.frame: 9 × 1\n",
       "\\begin{tabular}{l}\n",
       " intersection\\_genes\\_Age\\_AD\\_up\\\\\n",
       " <chr>\\\\\n",
       "\\hline\n",
       "\t GFAP   \\\\\n",
       "\t CSF1   \\\\\n",
       "\t VCAN   \\\\\n",
       "\t PLEC   \\\\\n",
       "\t MRAS   \\\\\n",
       "\t AHNAK  \\\\\n",
       "\t PLEKHA5\\\\\n",
       "\t ITGB4  \\\\\n",
       "\t SYNM   \\\\\n",
       "\\end{tabular}\n"
      ],
      "text/markdown": [
       "\n",
       "A data.frame: 9 × 1\n",
       "\n",
       "| intersection_genes_Age_AD_up &lt;chr&gt; |\n",
       "|---|\n",
       "| GFAP    |\n",
       "| CSF1    |\n",
       "| VCAN    |\n",
       "| PLEC    |\n",
       "| MRAS    |\n",
       "| AHNAK   |\n",
       "| PLEKHA5 |\n",
       "| ITGB4   |\n",
       "| SYNM    |\n",
       "\n"
      ],
      "text/plain": [
       "  intersection_genes_Age_AD_up\n",
       "1 GFAP                        \n",
       "2 CSF1                        \n",
       "3 VCAN                        \n",
       "4 PLEC                        \n",
       "5 MRAS                        \n",
       "6 AHNAK                       \n",
       "7 PLEKHA5                     \n",
       "8 ITGB4                       \n",
       "9 SYNM                        "
      ]
     },
     "metadata": {},
     "output_type": "display_data"
    }
   ],
   "source": [
    "Mathys_Age_intersection_genes_up <- list()\n",
    "\n",
    "idx <- 0\n",
    "for (ct in cts_Mathys){\n",
    "    idx <- idx +1\n",
    "    celltype <- names(cts_Mathys)[idx]\n",
    "    Mathys_Age_intersection_genes_up[[celltype]] <- as.data.frame(intersect(sig_DE_genes_Alzheimer_up[[ct]]$gene_name, up[[celltype]]$ID))\n",
    "    colnames(Mathys_Age_intersection_genes_up[[celltype]]) <- 'intersection_genes_Age_AD_up'\n",
    "}\n",
    "Mathys_Age_intersection_genes_up[['Astrocytes']]\n",
    "\n",
    "# save\n",
    "library(writexl)\n",
    "write_xlsx(Mathys_Age_intersection_genes_up, '../results/dreamlet_tables/major_celltypes/Mathys_Age_intersection_genes_up.xlsx')"
   ]
  },
  {
   "cell_type": "markdown",
   "id": "04c7e676-a196-4125-ba08-de79674ad687",
   "metadata": {},
   "source": [
    "### downregulated genes"
   ]
  },
  {
   "cell_type": "code",
   "execution_count": 8,
   "id": "601bc7eb-d784-4c2f-b0ca-fc143b0e558d",
   "metadata": {
    "execution": {
     "iopub.execute_input": "2024-01-26T18:16:42.103981Z",
     "iopub.status.busy": "2024-01-26T18:16:42.101245Z",
     "iopub.status.idle": "2024-01-26T18:16:42.245154Z",
     "shell.execute_reply": "2024-01-26T18:16:42.243573Z"
    }
   },
   "outputs": [
    {
     "data": {
      "text/html": [
       "<table class=\"dataframe\">\n",
       "<caption>A data.frame: 6 × 9</caption>\n",
       "<thead>\n",
       "\t<tr><th></th><th scope=col>celltype_Fröhlich</th><th scope=col>celltype_Mathys</th><th scope=col>AD DE genes Mathys et al.</th><th scope=col>Age DE genes Fröhlich et al.</th><th scope=col>n overlap genes</th><th scope=col>Genome size</th><th scope=col>overlap p-value</th><th scope=col>Odds Ratio</th><th scope=col>p.adjust_FDR</th></tr>\n",
       "\t<tr><th></th><th scope=col>&lt;chr&gt;</th><th scope=col>&lt;chr&gt;</th><th scope=col>&lt;int&gt;</th><th scope=col>&lt;int&gt;</th><th scope=col>&lt;int&gt;</th><th scope=col>&lt;int&gt;</th><th scope=col>&lt;dbl&gt;</th><th scope=col>&lt;dbl&gt;</th><th scope=col>&lt;dbl&gt;</th></tr>\n",
       "</thead>\n",
       "<tbody>\n",
       "\t<tr><th scope=row>Astrocytes</th><td>Astrocytes     </td><td>Ast</td><td> 29</td><td> 342</td><td> 5</td><td>11401</td><td>0.001547629</td><td>6.818861</td><td>0.009285773</td></tr>\n",
       "\t<tr><th scope=row>Exc_Neurons</th><td>Exc_Neurons    </td><td>Ex </td><td>527</td><td>1295</td><td>47</td><td>19733</td><td>0.020135310</td><td>1.408926</td><td>0.040270620</td></tr>\n",
       "\t<tr><th scope=row>In_Neurons</th><td>In_Neurons     </td><td>In </td><td> 45</td><td> 911</td><td> 7</td><td>16239</td><td>0.011994380</td><td>3.115308</td><td>0.035983141</td></tr>\n",
       "\t<tr><th scope=row>Microglia</th><td>Microglia      </td><td>Mic</td><td> 11</td><td> 105</td><td> 0</td><td> 5233</td><td>1.000000000</td><td>0.000000</td><td>1.000000000</td></tr>\n",
       "\t<tr><th scope=row>Oligodendrocyte</th><td>Oligodendrocyte</td><td>Oli</td><td> 68</td><td> 165</td><td> 4</td><td> 8881</td><td>0.037357134</td><td>3.357832</td><td>0.056035701</td></tr>\n",
       "\t<tr><th scope=row>OPC</th><td>OPC            </td><td>Opc</td><td> 16</td><td> 289</td><td> 2</td><td> 9462</td><td>0.084215935</td><td>4.557393</td><td>0.101059121</td></tr>\n",
       "</tbody>\n",
       "</table>\n"
      ],
      "text/latex": [
       "A data.frame: 6 × 9\n",
       "\\begin{tabular}{r|lllllllll}\n",
       "  & celltype\\_Fröhlich & celltype\\_Mathys & AD DE genes Mathys et al. & Age DE genes Fröhlich et al. & n overlap genes & Genome size & overlap p-value & Odds Ratio & p.adjust\\_FDR\\\\\n",
       "  & <chr> & <chr> & <int> & <int> & <int> & <int> & <dbl> & <dbl> & <dbl>\\\\\n",
       "\\hline\n",
       "\tAstrocytes & Astrocytes      & Ast &  29 &  342 &  5 & 11401 & 0.001547629 & 6.818861 & 0.009285773\\\\\n",
       "\tExc\\_Neurons & Exc\\_Neurons     & Ex  & 527 & 1295 & 47 & 19733 & 0.020135310 & 1.408926 & 0.040270620\\\\\n",
       "\tIn\\_Neurons & In\\_Neurons      & In  &  45 &  911 &  7 & 16239 & 0.011994380 & 3.115308 & 0.035983141\\\\\n",
       "\tMicroglia & Microglia       & Mic &  11 &  105 &  0 &  5233 & 1.000000000 & 0.000000 & 1.000000000\\\\\n",
       "\tOligodendrocyte & Oligodendrocyte & Oli &  68 &  165 &  4 &  8881 & 0.037357134 & 3.357832 & 0.056035701\\\\\n",
       "\tOPC & OPC             & Opc &  16 &  289 &  2 &  9462 & 0.084215935 & 4.557393 & 0.101059121\\\\\n",
       "\\end{tabular}\n"
      ],
      "text/markdown": [
       "\n",
       "A data.frame: 6 × 9\n",
       "\n",
       "| <!--/--> | celltype_Fröhlich &lt;chr&gt; | celltype_Mathys &lt;chr&gt; | AD DE genes Mathys et al. &lt;int&gt; | Age DE genes Fröhlich et al. &lt;int&gt; | n overlap genes &lt;int&gt; | Genome size &lt;int&gt; | overlap p-value &lt;dbl&gt; | Odds Ratio &lt;dbl&gt; | p.adjust_FDR &lt;dbl&gt; |\n",
       "|---|---|---|---|---|---|---|---|---|---|\n",
       "| Astrocytes | Astrocytes      | Ast |  29 |  342 |  5 | 11401 | 0.001547629 | 6.818861 | 0.009285773 |\n",
       "| Exc_Neurons | Exc_Neurons     | Ex  | 527 | 1295 | 47 | 19733 | 0.020135310 | 1.408926 | 0.040270620 |\n",
       "| In_Neurons | In_Neurons      | In  |  45 |  911 |  7 | 16239 | 0.011994380 | 3.115308 | 0.035983141 |\n",
       "| Microglia | Microglia       | Mic |  11 |  105 |  0 |  5233 | 1.000000000 | 0.000000 | 1.000000000 |\n",
       "| Oligodendrocyte | Oligodendrocyte | Oli |  68 |  165 |  4 |  8881 | 0.037357134 | 3.357832 | 0.056035701 |\n",
       "| OPC | OPC             | Opc |  16 |  289 |  2 |  9462 | 0.084215935 | 4.557393 | 0.101059121 |\n",
       "\n"
      ],
      "text/plain": [
       "                celltype_Fröhlich celltype_Mathys AD DE genes Mathys et al.\n",
       "Astrocytes      Astrocytes        Ast              29                      \n",
       "Exc_Neurons     Exc_Neurons       Ex              527                      \n",
       "In_Neurons      In_Neurons        In               45                      \n",
       "Microglia       Microglia         Mic              11                      \n",
       "Oligodendrocyte Oligodendrocyte   Oli              68                      \n",
       "OPC             OPC               Opc              16                      \n",
       "                Age DE genes Fröhlich et al. n overlap genes Genome size\n",
       "Astrocytes       342                          5              11401      \n",
       "Exc_Neurons     1295                         47              19733      \n",
       "In_Neurons       911                          7              16239      \n",
       "Microglia        105                          0               5233      \n",
       "Oligodendrocyte  165                          4               8881      \n",
       "OPC              289                          2               9462      \n",
       "                overlap p-value Odds Ratio p.adjust_FDR\n",
       "Astrocytes      0.001547629     6.818861   0.009285773 \n",
       "Exc_Neurons     0.020135310     1.408926   0.040270620 \n",
       "In_Neurons      0.011994380     3.115308   0.035983141 \n",
       "Microglia       1.000000000     0.000000   1.000000000 \n",
       "Oligodendrocyte 0.037357134     3.357832   0.056035701 \n",
       "OPC             0.084215935     4.557393   0.101059121 "
      ]
     },
     "metadata": {},
     "output_type": "display_data"
    }
   ],
   "source": [
    "##### downregulated genes:\n",
    "Mathys_overlap_test_down <- list()\n",
    "\n",
    "idx <- 0\n",
    "for (ct in cts_Mathys){\n",
    "    idx <- idx +1\n",
    "    celltype <- names(cts_Mathys)[idx]\n",
    "    sig_DE_genes_Alzheimer_down_filtered <- sig_DE_genes_Alzheimer_down[[ct]][sig_DE_genes_Alzheimer_down[[ct]]$gene_name %in% DE_results_Age_MJ[[celltype]]$ID,] # remove genes not expressed in my dataset from the Mathys genes \n",
    "    overlap <-  newGeneOverlap(sig_DE_genes_Alzheimer_down_filtered$gene_name, down[[celltype]]$ID,genome.size=length(DE_results_Age_MJ[[celltype]]$ID))\n",
    "    Mathys_overlap_test_down[[celltype]] <- testGeneOverlap(overlap) }\n",
    "\n",
    "Mathys_overlap_test_down_table <- as.data.frame(matrix(ncol=8, nrow=length(cts_Mathys)))\n",
    "colnames(Mathys_overlap_test_down_table) <- c('celltype_Fröhlich', 'celltype_Mathys', 'AD DE genes Mathys et al.', 'Age DE genes Fröhlich et al.', 'n overlap genes', 'Genome size', 'overlap p-value', 'Odds Ratio' )\n",
    "rownames(Mathys_overlap_test_down_table) <- names(cts_Mathys)\n",
    "\n",
    "idx <- 0\n",
    "for (celltype in names(cts_Mathys)){\n",
    "    idx <- idx +1\n",
    "  Mathys_overlap_test_down_table[celltype,]$`celltype_Fröhlich` <- celltype\n",
    "    Mathys_overlap_test_down_table[celltype,]$`celltype_Mathys` <- cts_Mathys[idx]\n",
    "  Mathys_overlap_test_down_table[celltype,]$`AD DE genes Mathys et al.` <- length(Mathys_overlap_test_down[[celltype]]@listA)\n",
    "  Mathys_overlap_test_down_table[celltype,]$`Age DE genes Fröhlich et al.` <- length(Mathys_overlap_test_down[[celltype]]@listB)\n",
    "  Mathys_overlap_test_down_table[celltype,]$`n overlap genes` <- length(Mathys_overlap_test_down[[celltype]]@intersection)\n",
    "  Mathys_overlap_test_down_table[celltype,]$`Genome size` <- Mathys_overlap_test_down[[celltype]]@genome.size\n",
    "  Mathys_overlap_test_down_table[celltype,]$`overlap p-value` <- Mathys_overlap_test_down[[celltype]]@pval\n",
    "  Mathys_overlap_test_down_table[celltype,]$`Odds Ratio` <- Mathys_overlap_test_down[[celltype]]@odds.ratio\n",
    "}\n",
    "\n",
    "# calculate the fdr adjusted p-value\n",
    "Mathys_overlap_test_down_table$p.adjust_FDR <- p.adjust(Mathys_overlap_test_down_table$`overlap p-value`, \n",
    "                                                      method = 'fdr', n = length(Mathys_overlap_test_down_table$`overlap p-value`))\n",
    "\n",
    "Mathys_overlap_test_down_table"
   ]
  },
  {
   "cell_type": "code",
   "execution_count": 9,
   "id": "d28e8a8a-1b7c-4a5a-9bcb-7953dbe35e2e",
   "metadata": {
    "execution": {
     "iopub.execute_input": "2024-01-26T18:16:50.933112Z",
     "iopub.status.busy": "2024-01-26T18:16:50.930365Z",
     "iopub.status.idle": "2024-01-26T18:16:51.000501Z",
     "shell.execute_reply": "2024-01-26T18:16:50.998138Z"
    }
   },
   "outputs": [
    {
     "data": {
      "text/html": [
       "<table class=\"dataframe\">\n",
       "<caption>A data.frame: 5 × 1</caption>\n",
       "<thead>\n",
       "\t<tr><th scope=col>intersection_genes_Age_AD_down</th></tr>\n",
       "\t<tr><th scope=col>&lt;chr&gt;</th></tr>\n",
       "</thead>\n",
       "<tbody>\n",
       "\t<tr><td>PREX2 </td></tr>\n",
       "\t<tr><td>GRM3  </td></tr>\n",
       "\t<tr><td>GRIA2 </td></tr>\n",
       "\t<tr><td>DIO2  </td></tr>\n",
       "\t<tr><td>FRMD4A</td></tr>\n",
       "</tbody>\n",
       "</table>\n"
      ],
      "text/latex": [
       "A data.frame: 5 × 1\n",
       "\\begin{tabular}{l}\n",
       " intersection\\_genes\\_Age\\_AD\\_down\\\\\n",
       " <chr>\\\\\n",
       "\\hline\n",
       "\t PREX2 \\\\\n",
       "\t GRM3  \\\\\n",
       "\t GRIA2 \\\\\n",
       "\t DIO2  \\\\\n",
       "\t FRMD4A\\\\\n",
       "\\end{tabular}\n"
      ],
      "text/markdown": [
       "\n",
       "A data.frame: 5 × 1\n",
       "\n",
       "| intersection_genes_Age_AD_down &lt;chr&gt; |\n",
       "|---|\n",
       "| PREX2  |\n",
       "| GRM3   |\n",
       "| GRIA2  |\n",
       "| DIO2   |\n",
       "| FRMD4A |\n",
       "\n"
      ],
      "text/plain": [
       "  intersection_genes_Age_AD_down\n",
       "1 PREX2                         \n",
       "2 GRM3                          \n",
       "3 GRIA2                         \n",
       "4 DIO2                          \n",
       "5 FRMD4A                        "
      ]
     },
     "metadata": {},
     "output_type": "display_data"
    }
   ],
   "source": [
    "Mathys_Age_intersection_genes_down <- list()\n",
    "\n",
    "idx <- 0\n",
    "for (ct in cts_Mathys){\n",
    "    idx <- idx +1\n",
    "    celltype <- names(cts_Mathys)[idx]\n",
    "    Mathys_Age_intersection_genes_down[[celltype]] <- as.data.frame(intersect(sig_DE_genes_Alzheimer_down[[ct]]$gene_name, down[[celltype]]$ID))\n",
    "    colnames(Mathys_Age_intersection_genes_down[[celltype]]) <- 'intersection_genes_Age_AD_down'\n",
    "}\n",
    "Mathys_Age_intersection_genes_down[['Astrocytes']]\n",
    "\n",
    "# save\n",
    "library(writexl)\n",
    "write_xlsx(Mathys_Age_intersection_genes_down, '../results/dreamlet_tables/major_celltypes/Mathys_Age_intersection_genes_down.xlsx')"
   ]
  },
  {
   "cell_type": "markdown",
   "id": "2510c1ec-e7fb-4206-8186-30093b56c7cd",
   "metadata": {},
   "source": [
    "### heatmap overlap results"
   ]
  },
  {
   "cell_type": "markdown",
   "id": "bea6bf6f-49b9-4512-ab27-3dcf25a21fd8",
   "metadata": {},
   "source": [
    "\"#ff6e40\", #ffccbc up colors <br>\n",
    "\"#1e3d59\" #99bcdc down colors"
   ]
  },
  {
   "cell_type": "code",
   "execution_count": 10,
   "id": "e9f260b2-a4f0-476b-855f-cbc8575b0927",
   "metadata": {
    "execution": {
     "iopub.execute_input": "2024-01-26T18:16:54.314129Z",
     "iopub.status.busy": "2024-01-26T18:16:54.311531Z",
     "iopub.status.idle": "2024-01-26T18:16:54.724617Z",
     "shell.execute_reply": "2024-01-26T18:16:54.722985Z"
    }
   },
   "outputs": [
    {
     "data": {
      "image/png": "[encoded data removed]",
      "text/plain": [
       "plot without title"
      ]
     },
     "metadata": {
      "image/png": {
       "height": 180,
       "width": 180
      }
     },
     "output_type": "display_data"
    }
   ],
   "source": [
    "options(repr.plot.width=3, repr.plot.height=3)\n",
    "ggplot(Mathys_overlap_test_up_table, aes(`celltype_Mathys`, 1, fill= `Odds Ratio`, label = ifelse(`p.adjust_FDR` < 0.05, \"*\", \"\"))) + \n",
    "  geom_tile() + theme_classic() + geom_text(vjust = 1, hjust = 0.5) +\n",
    "  #scale_fill_gradient(low = \"#ffccbc\", high = \"#ff6e40\") +\n",
    "scale_fill_gradient(low= '#FFFFE6', high='#FDE725')+\n",
    "  xlab(\"Cell Types discovery dataset\") + theme(axis.text.x = element_text(angle = 90, vjust = 1, hjust=0, color=\"black\", \n",
    "                                                                          size=8), axis.title.x=element_blank(),\n",
    "                                               axis.text.y=element_blank(),axis.title.y=element_blank(), \n",
    "                                               axis.ticks.y=element_blank(), axis.line.y=element_blank(), \n",
    "                                               legend.title = element_text(face='bold')) + scale_x_discrete(position = \"top\") +\n",
    "annotate(geom = \"text\", x = 1.1 + 1.01 * (0:5) , y = -0.2, angle=90, label =Mathys_overlap_test_up_table$`celltype_Fröhlich`, size = 2.9,\n",
    "         vjust=0, hjust=0) + geom_hline(yintercept=0.45) \n",
    "\n",
    "#ggsave('../figures/Mathys_Age_FDR0.1_AD_overlap_up_heatmap.pdf', plot = last_plot(), width = 2.3, height =3)"
   ]
  },
  {
   "cell_type": "code",
   "execution_count": 11,
   "id": "2dde6593-9961-4467-b605-763d2d10e84f",
   "metadata": {
    "execution": {
     "iopub.execute_input": "2024-01-26T18:17:00.919284Z",
     "iopub.status.busy": "2024-01-26T18:17:00.916535Z",
     "iopub.status.idle": "2024-01-26T18:17:01.352143Z",
     "shell.execute_reply": "2024-01-26T18:17:01.350634Z"
    }
   },
   "outputs": [
    {
     "data": {
      "image/png": "[encoded data removed]",
      "text/plain": [
       "plot without title"
      ]
     },
     "metadata": {
      "image/png": {
       "height": 180,
       "width": 180
      }
     },
     "output_type": "display_data"
    }
   ],
   "source": [
    "options(repr.plot.width=3, repr.plot.height=3)\n",
    "ggplot(Mathys_overlap_test_down_table, aes(celltype_Mathys, 1, fill= `Odds Ratio`, label = ifelse(`p.adjust_FDR` < 0.05, \"*\", \"\"))) + \n",
    "  geom_tile() + theme_classic() + geom_text(vjust = 1, hjust = 0.5) +\n",
    "  #scale_fill_viridis(option='cividis') +\n",
    "#scale_fill_gradient2(low = '#2B3A67', mid = \"#FFC482\", high = \"#e26d5c\") +\n",
    "  #scale_fill_gradient(low = \"#99bcdc\", high = \"#1e3d59\") +\n",
    "scale_fill_gradient(low = '#D7F5B7', high= '#4AC16D')+\n",
    "  xlab(\"Cell Types discovery dataset\") + theme(axis.text.x = element_text(angle = 90, vjust = 1, hjust=0, color=\"black\", \n",
    "                                                                          size=8), axis.title.x=element_blank(),\n",
    "                                               axis.text.y=element_blank(),axis.title.y=element_blank(), \n",
    "                                               axis.ticks.y=element_blank(), axis.line.y=element_blank(), \n",
    "                                               legend.title = element_text(face='bold')) + scale_x_discrete(position = \"top\") +\n",
    "annotate(geom = \"text\", x = 1.1 + 1.01 * (0:5) , y = -0.2, angle=90, label = Mathys_overlap_test_down_table$`celltype_Fröhlich`, size = 2.9,\n",
    "         vjust=0, hjust=0) + geom_hline(yintercept=0.45) \n",
    "\n",
    "#ggsave('../figures/Mathys_Age_FDR0.1_AD_overlap_down_heatmap.pdf', plot = last_plot(), width = 2.3, height =3)"
   ]
  },
  {
   "cell_type": "markdown",
   "id": "ecad80ed-2a16-47ef-9d7a-290294ac0bdd",
   "metadata": {},
   "source": [
    "### correlation of effect sizes"
   ]
  },
  {
   "cell_type": "code",
   "execution_count": 12,
   "id": "1402ce14-e7bb-47f8-b186-5fb0a1bcf593",
   "metadata": {
    "execution": {
     "iopub.execute_input": "2024-01-26T18:17:15.717137Z",
     "iopub.status.busy": "2024-01-26T18:17:15.714367Z",
     "iopub.status.idle": "2024-01-26T18:17:15.841125Z",
     "shell.execute_reply": "2024-01-26T18:17:15.838776Z"
    }
   },
   "outputs": [
    {
     "data": {
      "text/html": [
       "<table class=\"dataframe\">\n",
       "<caption>A data.frame: 6 × 6</caption>\n",
       "<thead>\n",
       "\t<tr><th scope=col>celltype_Fröhlich</th><th scope=col>celltype_Mathys</th><th scope=col>n_genes</th><th scope=col>Rho</th><th scope=col>p-val</th><th scope=col>adj.P.Val</th></tr>\n",
       "\t<tr><th scope=col>&lt;chr&gt;</th><th scope=col>&lt;chr&gt;</th><th scope=col>&lt;int&gt;</th><th scope=col>&lt;dbl&gt;</th><th scope=col>&lt;dbl&gt;</th><th scope=col>&lt;dbl&gt;</th></tr>\n",
       "</thead>\n",
       "<tbody>\n",
       "\t<tr><td>Astrocytes     </td><td>Ast</td><td>15</td><td>0.8178571</td><td>0.0002971013</td><td>0.0008913040</td></tr>\n",
       "\t<tr><td>Exc_Neurons    </td><td>Ex </td><td>83</td><td>0.4108979</td><td>0.0001305564</td><td>0.0007833382</td></tr>\n",
       "\t<tr><td>In_Neurons     </td><td>In </td><td> 8</td><td>0.1904762</td><td>0.6645833333</td><td>0.7975000000</td></tr>\n",
       "\t<tr><td>Microglia      </td><td>Mic</td><td> 3</td><td>1.0000000</td><td>0.3333333333</td><td>0.5000000000</td></tr>\n",
       "\t<tr><td>Oligodendrocyte</td><td>Oli</td><td>16</td><td>0.7735294</td><td>0.0006830219</td><td>0.0013660438</td></tr>\n",
       "\t<tr><td>OPC            </td><td>Opc</td><td> 5</td><td>0.1000000</td><td>0.9500000000</td><td>0.9500000000</td></tr>\n",
       "</tbody>\n",
       "</table>\n"
      ],
      "text/latex": [
       "A data.frame: 6 × 6\n",
       "\\begin{tabular}{llllll}\n",
       " celltype\\_Fröhlich & celltype\\_Mathys & n\\_genes & Rho & p-val & adj.P.Val\\\\\n",
       " <chr> & <chr> & <int> & <dbl> & <dbl> & <dbl>\\\\\n",
       "\\hline\n",
       "\t Astrocytes      & Ast & 15 & 0.8178571 & 0.0002971013 & 0.0008913040\\\\\n",
       "\t Exc\\_Neurons     & Ex  & 83 & 0.4108979 & 0.0001305564 & 0.0007833382\\\\\n",
       "\t In\\_Neurons      & In  &  8 & 0.1904762 & 0.6645833333 & 0.7975000000\\\\\n",
       "\t Microglia       & Mic &  3 & 1.0000000 & 0.3333333333 & 0.5000000000\\\\\n",
       "\t Oligodendrocyte & Oli & 16 & 0.7735294 & 0.0006830219 & 0.0013660438\\\\\n",
       "\t OPC             & Opc &  5 & 0.1000000 & 0.9500000000 & 0.9500000000\\\\\n",
       "\\end{tabular}\n"
      ],
      "text/markdown": [
       "\n",
       "A data.frame: 6 × 6\n",
       "\n",
       "| celltype_Fröhlich &lt;chr&gt; | celltype_Mathys &lt;chr&gt; | n_genes &lt;int&gt; | Rho &lt;dbl&gt; | p-val &lt;dbl&gt; | adj.P.Val &lt;dbl&gt; |\n",
       "|---|---|---|---|---|---|\n",
       "| Astrocytes      | Ast | 15 | 0.8178571 | 0.0002971013 | 0.0008913040 |\n",
       "| Exc_Neurons     | Ex  | 83 | 0.4108979 | 0.0001305564 | 0.0007833382 |\n",
       "| In_Neurons      | In  |  8 | 0.1904762 | 0.6645833333 | 0.7975000000 |\n",
       "| Microglia       | Mic |  3 | 1.0000000 | 0.3333333333 | 0.5000000000 |\n",
       "| Oligodendrocyte | Oli | 16 | 0.7735294 | 0.0006830219 | 0.0013660438 |\n",
       "| OPC             | Opc |  5 | 0.1000000 | 0.9500000000 | 0.9500000000 |\n",
       "\n"
      ],
      "text/plain": [
       "  celltype_Fröhlich celltype_Mathys n_genes Rho       p-val        adj.P.Val   \n",
       "1 Astrocytes        Ast             15      0.8178571 0.0002971013 0.0008913040\n",
       "2 Exc_Neurons       Ex              83      0.4108979 0.0001305564 0.0007833382\n",
       "3 In_Neurons        In               8      0.1904762 0.6645833333 0.7975000000\n",
       "4 Microglia         Mic              3      1.0000000 0.3333333333 0.5000000000\n",
       "5 Oligodendrocyte   Oli             16      0.7735294 0.0006830219 0.0013660438\n",
       "6 OPC               Opc              5      0.1000000 0.9500000000 0.9500000000"
      ]
     },
     "metadata": {},
     "output_type": "display_data"
    }
   ],
   "source": [
    "# Mathys et al. \n",
    "# IndModel.FC refers to log2 fold change of pathology mean value (AD) relative to no-pathology mean value (controls)\n",
    "\n",
    "Mathys_spearman <- as.data.frame(matrix(ncol=5, nrow=length(cts_Mathys)))\n",
    "colnames(Mathys_spearman) <- c('celltype_Fröhlich', 'celltype_Mathys', 'n_genes',\n",
    "                                              'Rho', 'p-val')\n",
    "\n",
    "merged <- list()\n",
    "idx <- 0\n",
    "for (ct in cts_Mathys){\n",
    "    idx <- idx +1\n",
    "    celltype <- names(cts_Mathys)[idx]\n",
    "    tmp <- sig_DE_genes_Alzheimer[[ct]]\n",
    "    colnames(tmp)[which(names(tmp) == 'gene_name')] <- 'ID'\n",
    "    tmp2 <- merge(tmp, DE_genes_Age_sig_MJ[[celltype]], by='ID')\n",
    "    if (dim(tmp2)[1] >1){\n",
    "        merged[[celltype]] <- cor.test(as.numeric(tmp2$IndModel.FC), tmp2$logFC, method=c(\"spearman\"))\n",
    "        Mathys_spearman$celltype_Fröhlich[idx] <- celltype\n",
    "        Mathys_spearman$celltype_Mathys[idx] <- ct \n",
    "        Mathys_spearman$n_genes[idx] <- length(tmp2$ID)\n",
    "        Mathys_spearman$Rho[idx] <- merged[[celltype]]$estimate\n",
    "        Mathys_spearman$`p-val`[idx] <- merged[[celltype]]$p.value\n",
    "    }\n",
    "\n",
    "} \n",
    "\n",
    "#adjust for multiple testing\n",
    "Mathys_spearman$adj.P.Val <- p.adjust(Mathys_spearman$`p-val`, method='fdr', n=length(Mathys_spearman$`p-val`))\n",
    "\n",
    "Mathys_spearman"
   ]
  },
  {
   "cell_type": "code",
   "execution_count": 13,
   "id": "8a76cc59-7ac7-495b-8079-1a26a6cd8fdf",
   "metadata": {
    "execution": {
     "iopub.execute_input": "2024-01-26T18:17:18.385931Z",
     "iopub.status.busy": "2024-01-26T18:17:18.383304Z",
     "iopub.status.idle": "2024-01-26T18:17:18.695594Z",
     "shell.execute_reply": "2024-01-26T18:17:18.694025Z"
    }
   },
   "outputs": [
    {
     "data": {
      "image/png": "[encoded data removed]",
      "text/plain": [
       "plot without title"
      ]
     },
     "metadata": {
      "image/png": {
       "height": 180,
       "width": 180
      }
     },
     "output_type": "display_data"
    }
   ],
   "source": [
    "options(repr.plot.width=3, repr.plot.height=3)\n",
    "ggplot(Mathys_spearman, aes(celltype_Mathys, 1, fill= Rho, label = ifelse(`adj.P.Val` < 0.05, \"*\", \"\"))) + \n",
    "  geom_tile() + theme_classic() + geom_text(vjust = 1, hjust = 0.5) +\n",
    "  scale_fill_gradient(low = '#ACDDF4', high= '#365C8D') +\n",
    "  xlab(\"Cell Types discovery dataset\") + theme(axis.text.x = element_text(angle = 90, vjust = 1, hjust=0, color=\"black\", \n",
    "                                                                          size=8), axis.title.x=element_blank(),\n",
    "                                               axis.text.y=element_blank(),axis.title.y=element_blank(), \n",
    "                                               axis.ticks.y=element_blank(), axis.line.y=element_blank(), \n",
    "                                               legend.title = element_text(face='bold')) + scale_x_discrete(position = \"top\") +\n",
    "annotate(geom = \"text\", x = 1.1 + 1.01 * (0:5) , y = -0.31, angle=90, label =Mathys_spearman$`celltype_Fröhlich`, size = 2.9,\n",
    "         vjust=0, hjust=0) + geom_hline(yintercept=0.45) \n",
    "\n",
    "\n",
    "#ggsave('../figures/Mathys_Age_FDR0.1_AD_Spearman_corr_heatmap.pdf', plot = last_plot(), width =2.045, height =3)"
   ]
  },
  {
   "cell_type": "code",
   "execution_count": 14,
   "id": "9d1b61d8-ef29-4870-bb43-74368a0a3855",
   "metadata": {
    "execution": {
     "iopub.execute_input": "2024-01-26T18:17:21.875753Z",
     "iopub.status.busy": "2024-01-26T18:17:21.872891Z",
     "iopub.status.idle": "2024-01-26T18:17:21.916777Z",
     "shell.execute_reply": "2024-01-26T18:17:21.914300Z"
    }
   },
   "outputs": [
    {
     "name": "stdout",
     "output_type": "stream",
     "text": [
      "[1] \"Astrocytes: There is/are 1 overlapping gene(s) with opposite logFC\"\n",
      "[1] \"Exc_Neurons: There is/are 23 overlapping gene(s) with opposite logFC\"\n",
      "[1] \"In_Neurons: There is/are 1 overlapping gene(s) with opposite logFC\"\n",
      "[1] \"Microglia: There is/are 1 overlapping gene(s) with opposite logFC\"\n",
      "[1] \"Oligodendrocyte: There is/are 2 overlapping gene(s) with opposite logFC\"\n",
      "[1] \"OPC: There is/are 2 overlapping gene(s) with opposite logFC\"\n"
     ]
    }
   ],
   "source": [
    "idx <- 0\n",
    "for (celltype in cts_Mathys){\n",
    "    idx <- idx+1\n",
    "    ct <- names(cts_Mathys)[idx]\n",
    "    n_overlap_total <- Mathys_overlap_test_up_table[ct,5] + Mathys_overlap_test_down_table[ct,5] \n",
    "    n_overlap_independent_of_directionality <- length(intersect(DE_genes_Age_sig_MJ[[ct]]$ID, sig_DE_genes_Alzheimer[[celltype]]$gene_name))\n",
    "    y <- n_overlap_independent_of_directionality - n_overlap_total\n",
    "    # are there any genes that overlap but have opposite logFC?\n",
    "    print( paste0(ct, ': There is/are ', y, ' overlapping gene(s) with opposite logFC'))}"
   ]
  },
  {
   "cell_type": "markdown",
   "id": "a65ea131-555a-48e0-bc81-14a9aee11a52",
   "metadata": {},
   "source": [
    "# Lau et al. 2020"
   ]
  },
  {
   "cell_type": "markdown",
   "id": "81228bfb-4d56-4dab-8d94-3f3c3a5343df",
   "metadata": {},
   "source": [
    "## Read in Alzheimer associated genes"
   ]
  },
  {
   "cell_type": "markdown",
   "id": "44dd3318-da96-445a-85a6-338086b5b902",
   "metadata": {},
   "source": [
    "overlap of Age DE genes with genes identified with Alzheimer (Lau et al. 2020, PNAS 2020) <br>\n",
    "Lau et al. https://doi.org/10.1073/pnas.2008762117  <br>\n",
    "169,496 nuclei: 90,713 and 78,783 nuclei from 12 AD and 9 Ctrls, PFC(BA6, BA8, and BA9)"
   ]
  },
  {
   "cell_type": "code",
   "execution_count": 15,
   "id": "a9892867-b2ba-4bb1-a222-18cacf057677",
   "metadata": {
    "execution": {
     "iopub.execute_input": "2024-01-26T18:17:26.783833Z",
     "iopub.status.busy": "2024-01-26T18:17:26.780911Z",
     "iopub.status.idle": "2024-01-26T18:17:27.152230Z",
     "shell.execute_reply": "2024-01-26T18:17:27.150268Z"
    }
   },
   "outputs": [],
   "source": [
    "#cell types identified by Lau et al.\n",
    "celltypes <- c('Astro', 'Endo', 'Excit', \"Inhit\", \"Mic\", \"Oligo\")\n",
    "\n",
    "#READ IN excel file of diff expressed genes (each sheet contains one celltype)\n",
    "#Alzheimer genes from paper: Lau et al 2020\n",
    "DE_genes_AD_Lau<- list()\n",
    "for (celltype in celltypes){\n",
    "  DE_genes_AD_Lau[[celltype]] <- as.data.frame(read_excel(\"../external_datasets/Lau_et_al.pnas.2008762117.sd03.xlsx\", sheet=celltype))\n",
    "}\n",
    "names(DE_genes_AD_Lau) <-  celltypes\n",
    "\n",
    "# get significant DE genes\n",
    "# cut off used in Lau et al. FDR 10% FC >= 0.1\n",
    "DE_genes_AD_Lau_sig <- list()\n",
    "for (celltype in celltypes){\n",
    "    DE_genes_AD_Lau_sig[[celltype]] <- dplyr::filter(DE_genes_AD_Lau[[celltype]], abs(AD_vs_NC_log2fc) >= 0.1 & Adjusted_p_value <= 0.1)\n",
    "}\n",
    "\n",
    "#  split the DE genes in up- & downregulated\n",
    "\n",
    "AD_Lau_up <- list()\n",
    "for (celltype in celltypes){\n",
    "  AD_Lau_up[[celltype]] <- dplyr::filter(DE_genes_AD_Lau_sig[[celltype]], AD_vs_NC_log2fc >0)\n",
    "}\n",
    "\n",
    "AD_Lau_down <- list()\n",
    "for (celltype in celltypes){\n",
    "  AD_Lau_down[[celltype]] <- dplyr::filter(DE_genes_AD_Lau_sig[[celltype]], AD_vs_NC_log2fc < 0)\n",
    "}"
   ]
  },
  {
   "cell_type": "code",
   "execution_count": 16,
   "id": "71d328a7-fbb9-479f-8120-6938a3f62053",
   "metadata": {
    "execution": {
     "iopub.execute_input": "2024-01-26T18:17:28.911746Z",
     "iopub.status.busy": "2024-01-26T18:17:28.909062Z",
     "iopub.status.idle": "2024-01-26T18:17:28.946259Z",
     "shell.execute_reply": "2024-01-26T18:17:28.943334Z"
    }
   },
   "outputs": [
    {
     "name": "stdout",
     "output_type": "stream",
     "text": [
      "[1] \"Astro: upregulated genes: 152; downregulated genes: 399\"\n",
      "[1] \"Endo: upregulated genes: 267; downregulated genes: 32\"\n",
      "[1] \"Excit: upregulated genes: 201; downregulated genes: 146\"\n",
      "[1] \"Inhit: upregulated genes: 32; downregulated genes: 93\"\n",
      "[1] \"Mic: upregulated genes: 111; downregulated genes: 229\"\n",
      "[1] \"Oligo: upregulated genes: 151; downregulated genes: 377\"\n"
     ]
    }
   ],
   "source": [
    "# number of DE genes match the numbers reported\n",
    "for (celltype in celltypes){\n",
    "    up_tmp <- dim(AD_Lau_up[[celltype]])[1]\n",
    "    down_tmp <- dim(AD_Lau_down[[celltype]])[1]\n",
    "    print(paste0(celltype, ': upregulated genes: ', up_tmp, \n",
    "                 '; downregulated genes: ', down_tmp))\n",
    "}"
   ]
  },
  {
   "cell_type": "markdown",
   "id": "20422b72-4e34-4cc0-8d01-47bb655ce252",
   "metadata": {},
   "source": [
    "## Perform overlap"
   ]
  },
  {
   "cell_type": "markdown",
   "id": "fae54270-4c5b-4148-965c-5f539e3b1a45",
   "metadata": {},
   "source": [
    "### upregulated genes"
   ]
  },
  {
   "cell_type": "code",
   "execution_count": 17,
   "id": "f4b83735-d85e-4450-9f06-0f0e5ea6fadf",
   "metadata": {
    "execution": {
     "iopub.execute_input": "2024-01-26T18:17:31.690749Z",
     "iopub.status.busy": "2024-01-26T18:17:31.687826Z",
     "iopub.status.idle": "2024-01-26T18:17:31.840159Z",
     "shell.execute_reply": "2024-01-26T18:17:31.838490Z"
    }
   },
   "outputs": [
    {
     "data": {
      "text/html": [
       "<table class=\"dataframe\">\n",
       "<caption>A data.frame: 6 × 9</caption>\n",
       "<thead>\n",
       "\t<tr><th></th><th scope=col>celltype_Fröhlich</th><th scope=col>celltype_Lau</th><th scope=col>AD DE genes Lau et al.</th><th scope=col>Age DE genes Fröhlich et al.</th><th scope=col>n overlap genes</th><th scope=col>Genome size</th><th scope=col>overlap p-value</th><th scope=col>Odds Ratio</th><th scope=col>p.adjust_FDR</th></tr>\n",
       "\t<tr><th></th><th scope=col>&lt;chr&gt;</th><th scope=col>&lt;chr&gt;</th><th scope=col>&lt;int&gt;</th><th scope=col>&lt;int&gt;</th><th scope=col>&lt;int&gt;</th><th scope=col>&lt;int&gt;</th><th scope=col>&lt;dbl&gt;</th><th scope=col>&lt;dbl&gt;</th><th scope=col>&lt;dbl&gt;</th></tr>\n",
       "</thead>\n",
       "<tbody>\n",
       "\t<tr><th scope=row>Astrocytes</th><td>Astrocytes     </td><td>Astro</td><td>143</td><td>159</td><td>19</td><td>11401</td><td>8.969743e-14</td><td>12.1627894</td><td>2.690923e-13</td></tr>\n",
       "\t<tr><th scope=row>Endothelial</th><td>Endothelial    </td><td>Endo </td><td>137</td><td> 23</td><td> 0</td><td> 2714</td><td>1.000000e+00</td><td> 0.0000000</td><td>1.000000e+00</td></tr>\n",
       "\t<tr><th scope=row>Exc_Neurons</th><td>Exc_Neurons    </td><td>Excit</td><td>190</td><td>961</td><td> 6</td><td>19733</td><td>9.055814e-01</td><td> 0.6346939</td><td>1.000000e+00</td></tr>\n",
       "\t<tr><th scope=row>In_Neurons</th><td>In_Neurons     </td><td>Inhit</td><td> 26</td><td>388</td><td> 1</td><td>16239</td><td>4.670101e-01</td><td> 1.6356848</td><td>7.005151e-01</td></tr>\n",
       "\t<tr><th scope=row>Microglia</th><td>Microglia      </td><td>Mic  </td><td> 93</td><td>118</td><td>16</td><td> 5233</td><td>1.427726e-10</td><td>10.2476747</td><td>2.855452e-10</td></tr>\n",
       "\t<tr><th scope=row>Oligodendrocyte</th><td>Oligodendrocyte</td><td>Oligo</td><td>139</td><td>195</td><td>23</td><td> 8881</td><td>2.353063e-14</td><td> 9.8711248</td><td>1.411838e-13</td></tr>\n",
       "</tbody>\n",
       "</table>\n"
      ],
      "text/latex": [
       "A data.frame: 6 × 9\n",
       "\\begin{tabular}{r|lllllllll}\n",
       "  & celltype\\_Fröhlich & celltype\\_Lau & AD DE genes Lau et al. & Age DE genes Fröhlich et al. & n overlap genes & Genome size & overlap p-value & Odds Ratio & p.adjust\\_FDR\\\\\n",
       "  & <chr> & <chr> & <int> & <int> & <int> & <int> & <dbl> & <dbl> & <dbl>\\\\\n",
       "\\hline\n",
       "\tAstrocytes & Astrocytes      & Astro & 143 & 159 & 19 & 11401 & 8.969743e-14 & 12.1627894 & 2.690923e-13\\\\\n",
       "\tEndothelial & Endothelial     & Endo  & 137 &  23 &  0 &  2714 & 1.000000e+00 &  0.0000000 & 1.000000e+00\\\\\n",
       "\tExc\\_Neurons & Exc\\_Neurons     & Excit & 190 & 961 &  6 & 19733 & 9.055814e-01 &  0.6346939 & 1.000000e+00\\\\\n",
       "\tIn\\_Neurons & In\\_Neurons      & Inhit &  26 & 388 &  1 & 16239 & 4.670101e-01 &  1.6356848 & 7.005151e-01\\\\\n",
       "\tMicroglia & Microglia       & Mic   &  93 & 118 & 16 &  5233 & 1.427726e-10 & 10.2476747 & 2.855452e-10\\\\\n",
       "\tOligodendrocyte & Oligodendrocyte & Oligo & 139 & 195 & 23 &  8881 & 2.353063e-14 &  9.8711248 & 1.411838e-13\\\\\n",
       "\\end{tabular}\n"
      ],
      "text/markdown": [
       "\n",
       "A data.frame: 6 × 9\n",
       "\n",
       "| <!--/--> | celltype_Fröhlich &lt;chr&gt; | celltype_Lau &lt;chr&gt; | AD DE genes Lau et al. &lt;int&gt; | Age DE genes Fröhlich et al. &lt;int&gt; | n overlap genes &lt;int&gt; | Genome size &lt;int&gt; | overlap p-value &lt;dbl&gt; | Odds Ratio &lt;dbl&gt; | p.adjust_FDR &lt;dbl&gt; |\n",
       "|---|---|---|---|---|---|---|---|---|---|\n",
       "| Astrocytes | Astrocytes      | Astro | 143 | 159 | 19 | 11401 | 8.969743e-14 | 12.1627894 | 2.690923e-13 |\n",
       "| Endothelial | Endothelial     | Endo  | 137 |  23 |  0 |  2714 | 1.000000e+00 |  0.0000000 | 1.000000e+00 |\n",
       "| Exc_Neurons | Exc_Neurons     | Excit | 190 | 961 |  6 | 19733 | 9.055814e-01 |  0.6346939 | 1.000000e+00 |\n",
       "| In_Neurons | In_Neurons      | Inhit |  26 | 388 |  1 | 16239 | 4.670101e-01 |  1.6356848 | 7.005151e-01 |\n",
       "| Microglia | Microglia       | Mic   |  93 | 118 | 16 |  5233 | 1.427726e-10 | 10.2476747 | 2.855452e-10 |\n",
       "| Oligodendrocyte | Oligodendrocyte | Oligo | 139 | 195 | 23 |  8881 | 2.353063e-14 |  9.8711248 | 1.411838e-13 |\n",
       "\n"
      ],
      "text/plain": [
       "                celltype_Fröhlich celltype_Lau AD DE genes Lau et al.\n",
       "Astrocytes      Astrocytes        Astro        143                   \n",
       "Endothelial     Endothelial       Endo         137                   \n",
       "Exc_Neurons     Exc_Neurons       Excit        190                   \n",
       "In_Neurons      In_Neurons        Inhit         26                   \n",
       "Microglia       Microglia         Mic           93                   \n",
       "Oligodendrocyte Oligodendrocyte   Oligo        139                   \n",
       "                Age DE genes Fröhlich et al. n overlap genes Genome size\n",
       "Astrocytes      159                          19              11401      \n",
       "Endothelial      23                           0               2714      \n",
       "Exc_Neurons     961                           6              19733      \n",
       "In_Neurons      388                           1              16239      \n",
       "Microglia       118                          16               5233      \n",
       "Oligodendrocyte 195                          23               8881      \n",
       "                overlap p-value Odds Ratio p.adjust_FDR\n",
       "Astrocytes      8.969743e-14    12.1627894 2.690923e-13\n",
       "Endothelial     1.000000e+00     0.0000000 1.000000e+00\n",
       "Exc_Neurons     9.055814e-01     0.6346939 1.000000e+00\n",
       "In_Neurons      4.670101e-01     1.6356848 7.005151e-01\n",
       "Microglia       1.427726e-10    10.2476747 2.855452e-10\n",
       "Oligodendrocyte 2.353063e-14     9.8711248 1.411838e-13"
      ]
     },
     "metadata": {},
     "output_type": "display_data"
    }
   ],
   "source": [
    "#cell type names matching\n",
    "cts_Lau <- c('Astro', 'Endo', 'Excit', \"Inhit\", \"Mic\", \"Oligo\")\n",
    "names(cts_Lau) <- c('Astrocytes','Endothelial', 'Exc_Neurons', 'In_Neurons', 'Microglia', \"Oligodendrocyte\")\n",
    "\n",
    "##### upregulated genes:\n",
    "Lau_overlap_test_up <- list()\n",
    "\n",
    "idx <- 0\n",
    "for (ct in cts_Lau){\n",
    "    idx <- idx +1\n",
    "    celltype <- names(cts_Lau)[idx]\n",
    "    AD_Lau_up_filtered <- AD_Lau_up[[ct]][AD_Lau_up[[ct]]$Gene %in% DE_results_Age_MJ[[celltype]]$ID,] # remove genes not expressed in my dataset from the Lau genes \n",
    "    overlap <-  newGeneOverlap(AD_Lau_up_filtered$Gene, up[[celltype]]$ID,genome.size=length(DE_results_Age_MJ[[celltype]]$ID))\n",
    "    Lau_overlap_test_up[[celltype]] <- testGeneOverlap(overlap)\n",
    "}\n",
    "\n",
    "Lau_overlap_test_up_table <- as.data.frame(matrix(ncol=8, nrow=length(cts_Lau)))\n",
    "colnames(Lau_overlap_test_up_table) <- c('celltype_Fröhlich', 'celltype_Lau', 'AD DE genes Lau et al.', 'Age DE genes Fröhlich et al.', 'n overlap genes', 'Genome size', 'overlap p-value', 'Odds Ratio' )\n",
    "rownames(Lau_overlap_test_up_table) <- names(cts_Lau)\n",
    "\n",
    "idx <- 0\n",
    "for (celltype in names(cts_Lau)){\n",
    "    idx <- idx +1\n",
    "    Lau_overlap_test_up_table[celltype,]$`celltype_Fröhlich` <- celltype\n",
    "    Lau_overlap_test_up_table[celltype,]$celltype_Lau <- cts_Lau[idx]\n",
    "    Lau_overlap_test_up_table[celltype,]$`AD DE genes Lau et al.` <- length(Lau_overlap_test_up[[celltype]]@listA)\n",
    "    Lau_overlap_test_up_table[celltype,]$`Age DE genes Fröhlich et al.` <- length(Lau_overlap_test_up[[celltype]]@listB)\n",
    "    Lau_overlap_test_up_table[celltype,]$`n overlap genes` <- length(Lau_overlap_test_up[[celltype]]@intersection)\n",
    "    Lau_overlap_test_up_table[celltype,]$`Genome size` <- Lau_overlap_test_up[[celltype]]@genome.size\n",
    "    Lau_overlap_test_up_table[celltype,]$`overlap p-value` <- Lau_overlap_test_up[[celltype]]@pval\n",
    "    Lau_overlap_test_up_table[celltype,]$`Odds Ratio` <- Lau_overlap_test_up[[celltype]]@odds.ratio\n",
    "}\n",
    "\n",
    "# calculate the fdr adjusted p-value\n",
    "Lau_overlap_test_up_table$p.adjust_FDR <- p.adjust(Lau_overlap_test_up_table$`overlap p-value`, \n",
    "                                                      method = 'fdr', n = length(Lau_overlap_test_up_table$`overlap p-value`))\n",
    "\n",
    "Lau_overlap_test_up_table"
   ]
  },
  {
   "cell_type": "code",
   "execution_count": 18,
   "id": "ad5856cb-ebb2-42f4-b2e7-b44e0ced4266",
   "metadata": {
    "execution": {
     "iopub.execute_input": "2024-01-26T18:17:38.953668Z",
     "iopub.status.busy": "2024-01-26T18:17:38.950853Z",
     "iopub.status.idle": "2024-01-26T18:17:39.050719Z",
     "shell.execute_reply": "2024-01-26T18:17:39.048606Z"
    }
   },
   "outputs": [
    {
     "data": {
      "text/html": [
       "<table class=\"dataframe\">\n",
       "<caption>A data.frame: 6 × 1</caption>\n",
       "<thead>\n",
       "\t<tr><th></th><th scope=col>intersection_genes_Age_AD_up</th></tr>\n",
       "\t<tr><th></th><th scope=col>&lt;chr&gt;</th></tr>\n",
       "</thead>\n",
       "<tbody>\n",
       "\t<tr><th scope=row>1</th><td>MT1F   </td></tr>\n",
       "\t<tr><th scope=row>2</th><td>COL21A1</td></tr>\n",
       "\t<tr><th scope=row>3</th><td>MRAS   </td></tr>\n",
       "\t<tr><th scope=row>4</th><td>NEAT1  </td></tr>\n",
       "\t<tr><th scope=row>5</th><td>PNPLA6 </td></tr>\n",
       "\t<tr><th scope=row>6</th><td>IL17RB </td></tr>\n",
       "</tbody>\n",
       "</table>\n"
      ],
      "text/latex": [
       "A data.frame: 6 × 1\n",
       "\\begin{tabular}{r|l}\n",
       "  & intersection\\_genes\\_Age\\_AD\\_up\\\\\n",
       "  & <chr>\\\\\n",
       "\\hline\n",
       "\t1 & MT1F   \\\\\n",
       "\t2 & COL21A1\\\\\n",
       "\t3 & MRAS   \\\\\n",
       "\t4 & NEAT1  \\\\\n",
       "\t5 & PNPLA6 \\\\\n",
       "\t6 & IL17RB \\\\\n",
       "\\end{tabular}\n"
      ],
      "text/markdown": [
       "\n",
       "A data.frame: 6 × 1\n",
       "\n",
       "| <!--/--> | intersection_genes_Age_AD_up &lt;chr&gt; |\n",
       "|---|---|\n",
       "| 1 | MT1F    |\n",
       "| 2 | COL21A1 |\n",
       "| 3 | MRAS    |\n",
       "| 4 | NEAT1   |\n",
       "| 5 | PNPLA6  |\n",
       "| 6 | IL17RB  |\n",
       "\n"
      ],
      "text/plain": [
       "  intersection_genes_Age_AD_up\n",
       "1 MT1F                        \n",
       "2 COL21A1                     \n",
       "3 MRAS                        \n",
       "4 NEAT1                       \n",
       "5 PNPLA6                      \n",
       "6 IL17RB                      "
      ]
     },
     "metadata": {},
     "output_type": "display_data"
    }
   ],
   "source": [
    "Lau_Age_intersection_genes_up <- list()\n",
    "\n",
    "idx <- 0\n",
    "for (ct in cts_Lau){\n",
    "    idx <- idx +1\n",
    "    celltype <- names(cts_Lau)[idx]\n",
    "    Lau_Age_intersection_genes_up[[celltype]] <- as.data.frame(intersect(AD_Lau_up[[ct]]$Gene, up[[celltype]]$ID))\n",
    "    colnames(Lau_Age_intersection_genes_up[[celltype]]) <- 'intersection_genes_Age_AD_up'\n",
    "}\n",
    "head(Lau_Age_intersection_genes_up[['Astrocytes']])\n",
    "\n",
    "# save\n",
    "library(writexl)\n",
    "write_xlsx(Lau_Age_intersection_genes_up, '../results/dreamlet_tables/major_celltypes/Lau_Age_intersection_genes_up.xlsx')"
   ]
  },
  {
   "cell_type": "markdown",
   "id": "36083d21-e191-41e0-9ab4-cfdbd253076c",
   "metadata": {},
   "source": [
    "### downregulated genes"
   ]
  },
  {
   "cell_type": "code",
   "execution_count": 19,
   "id": "287db4af-f23f-48e1-94a3-5e72884d9ac3",
   "metadata": {
    "execution": {
     "iopub.execute_input": "2024-01-26T18:17:42.002962Z",
     "iopub.status.busy": "2024-01-26T18:17:42.000226Z",
     "iopub.status.idle": "2024-01-26T18:17:42.151441Z",
     "shell.execute_reply": "2024-01-26T18:17:42.149685Z"
    }
   },
   "outputs": [
    {
     "data": {
      "text/html": [
       "<table class=\"dataframe\">\n",
       "<caption>A data.frame: 6 × 9</caption>\n",
       "<thead>\n",
       "\t<tr><th></th><th scope=col>celltype_Fröhlich</th><th scope=col>celltype_Lau</th><th scope=col>AD DE genes Lau et al.</th><th scope=col>Age DE genes Fröhlich et al.</th><th scope=col>n overlap genes</th><th scope=col>Genome size</th><th scope=col>overlap p-value</th><th scope=col>Odds Ratio</th><th scope=col>p.adjust_FDR</th></tr>\n",
       "\t<tr><th></th><th scope=col>&lt;chr&gt;</th><th scope=col>&lt;chr&gt;</th><th scope=col>&lt;int&gt;</th><th scope=col>&lt;int&gt;</th><th scope=col>&lt;int&gt;</th><th scope=col>&lt;int&gt;</th><th scope=col>&lt;dbl&gt;</th><th scope=col>&lt;dbl&gt;</th><th scope=col>&lt;dbl&gt;</th></tr>\n",
       "</thead>\n",
       "<tbody>\n",
       "\t<tr><th scope=row>Astrocytes</th><td>Astrocytes     </td><td>Astro</td><td>381</td><td> 342</td><td>32</td><td>11401</td><td>1.325808e-07</td><td>3.167199</td><td>2.651615e-07</td></tr>\n",
       "\t<tr><th scope=row>Endothelial</th><td>Endothelial    </td><td>Endo </td><td> 17</td><td>  61</td><td> 1</td><td> 2714</td><td>3.213225e-01</td><td>2.745048</td><td>3.506548e-01</td></tr>\n",
       "\t<tr><th scope=row>Exc_Neurons</th><td>Exc_Neurons    </td><td>Excit</td><td>140</td><td>1295</td><td>35</td><td>19733</td><td>3.663414e-12</td><td>4.849253</td><td>1.099024e-11</td></tr>\n",
       "\t<tr><th scope=row>In_Neurons</th><td>In_Neurons     </td><td>Inhit</td><td> 91</td><td> 911</td><td>26</td><td>16239</td><td>2.577432e-12</td><td>6.896170</td><td>1.099024e-11</td></tr>\n",
       "\t<tr><th scope=row>Microglia</th><td>Microglia      </td><td>Mic  </td><td>199</td><td> 105</td><td> 7</td><td> 5233</td><td>1.037396e-01</td><td>1.836125</td><td>1.556094e-01</td></tr>\n",
       "\t<tr><th scope=row>Oligodendrocyte</th><td>Oligodendrocyte</td><td>Oligo</td><td>359</td><td> 165</td><td> 8</td><td> 8881</td><td>3.506548e-01</td><td>1.214334</td><td>3.506548e-01</td></tr>\n",
       "</tbody>\n",
       "</table>\n"
      ],
      "text/latex": [
       "A data.frame: 6 × 9\n",
       "\\begin{tabular}{r|lllllllll}\n",
       "  & celltype\\_Fröhlich & celltype\\_Lau & AD DE genes Lau et al. & Age DE genes Fröhlich et al. & n overlap genes & Genome size & overlap p-value & Odds Ratio & p.adjust\\_FDR\\\\\n",
       "  & <chr> & <chr> & <int> & <int> & <int> & <int> & <dbl> & <dbl> & <dbl>\\\\\n",
       "\\hline\n",
       "\tAstrocytes & Astrocytes      & Astro & 381 &  342 & 32 & 11401 & 1.325808e-07 & 3.167199 & 2.651615e-07\\\\\n",
       "\tEndothelial & Endothelial     & Endo  &  17 &   61 &  1 &  2714 & 3.213225e-01 & 2.745048 & 3.506548e-01\\\\\n",
       "\tExc\\_Neurons & Exc\\_Neurons     & Excit & 140 & 1295 & 35 & 19733 & 3.663414e-12 & 4.849253 & 1.099024e-11\\\\\n",
       "\tIn\\_Neurons & In\\_Neurons      & Inhit &  91 &  911 & 26 & 16239 & 2.577432e-12 & 6.896170 & 1.099024e-11\\\\\n",
       "\tMicroglia & Microglia       & Mic   & 199 &  105 &  7 &  5233 & 1.037396e-01 & 1.836125 & 1.556094e-01\\\\\n",
       "\tOligodendrocyte & Oligodendrocyte & Oligo & 359 &  165 &  8 &  8881 & 3.506548e-01 & 1.214334 & 3.506548e-01\\\\\n",
       "\\end{tabular}\n"
      ],
      "text/markdown": [
       "\n",
       "A data.frame: 6 × 9\n",
       "\n",
       "| <!--/--> | celltype_Fröhlich &lt;chr&gt; | celltype_Lau &lt;chr&gt; | AD DE genes Lau et al. &lt;int&gt; | Age DE genes Fröhlich et al. &lt;int&gt; | n overlap genes &lt;int&gt; | Genome size &lt;int&gt; | overlap p-value &lt;dbl&gt; | Odds Ratio &lt;dbl&gt; | p.adjust_FDR &lt;dbl&gt; |\n",
       "|---|---|---|---|---|---|---|---|---|---|\n",
       "| Astrocytes | Astrocytes      | Astro | 381 |  342 | 32 | 11401 | 1.325808e-07 | 3.167199 | 2.651615e-07 |\n",
       "| Endothelial | Endothelial     | Endo  |  17 |   61 |  1 |  2714 | 3.213225e-01 | 2.745048 | 3.506548e-01 |\n",
       "| Exc_Neurons | Exc_Neurons     | Excit | 140 | 1295 | 35 | 19733 | 3.663414e-12 | 4.849253 | 1.099024e-11 |\n",
       "| In_Neurons | In_Neurons      | Inhit |  91 |  911 | 26 | 16239 | 2.577432e-12 | 6.896170 | 1.099024e-11 |\n",
       "| Microglia | Microglia       | Mic   | 199 |  105 |  7 |  5233 | 1.037396e-01 | 1.836125 | 1.556094e-01 |\n",
       "| Oligodendrocyte | Oligodendrocyte | Oligo | 359 |  165 |  8 |  8881 | 3.506548e-01 | 1.214334 | 3.506548e-01 |\n",
       "\n"
      ],
      "text/plain": [
       "                celltype_Fröhlich celltype_Lau AD DE genes Lau et al.\n",
       "Astrocytes      Astrocytes        Astro        381                   \n",
       "Endothelial     Endothelial       Endo          17                   \n",
       "Exc_Neurons     Exc_Neurons       Excit        140                   \n",
       "In_Neurons      In_Neurons        Inhit         91                   \n",
       "Microglia       Microglia         Mic          199                   \n",
       "Oligodendrocyte Oligodendrocyte   Oligo        359                   \n",
       "                Age DE genes Fröhlich et al. n overlap genes Genome size\n",
       "Astrocytes       342                         32              11401      \n",
       "Endothelial       61                          1               2714      \n",
       "Exc_Neurons     1295                         35              19733      \n",
       "In_Neurons       911                         26              16239      \n",
       "Microglia        105                          7               5233      \n",
       "Oligodendrocyte  165                          8               8881      \n",
       "                overlap p-value Odds Ratio p.adjust_FDR\n",
       "Astrocytes      1.325808e-07    3.167199   2.651615e-07\n",
       "Endothelial     3.213225e-01    2.745048   3.506548e-01\n",
       "Exc_Neurons     3.663414e-12    4.849253   1.099024e-11\n",
       "In_Neurons      2.577432e-12    6.896170   1.099024e-11\n",
       "Microglia       1.037396e-01    1.836125   1.556094e-01\n",
       "Oligodendrocyte 3.506548e-01    1.214334   3.506548e-01"
      ]
     },
     "metadata": {},
     "output_type": "display_data"
    }
   ],
   "source": [
    "##### downregulated genes:\n",
    "Lau_overlap_test_down <- list()\n",
    "\n",
    "idx <- 0\n",
    "for (ct in cts_Lau){\n",
    "    idx <- idx +1\n",
    "    celltype <- names(cts_Lau)[idx]\n",
    "    AD_Lau_down_filtered <- AD_Lau_down[[ct]][AD_Lau_down[[ct]]$Gene %in% DE_results_Age_MJ[[celltype]]$ID,] # remove genes not expressed in my dataset from the Lau genes \n",
    "    overlap <-  newGeneOverlap(AD_Lau_down_filtered$Gene, down[[celltype]]$ID,genome.size=length(DE_results_Age_MJ[[celltype]]$ID))\n",
    "    Lau_overlap_test_down[[celltype]] <- testGeneOverlap(overlap)\n",
    "}\n",
    "\n",
    "Lau_overlap_test_down_table <- as.data.frame(matrix(ncol=8, nrow=length(cts_Lau)))\n",
    "colnames(Lau_overlap_test_down_table) <- c('celltype_Fröhlich', 'celltype_Lau', 'AD DE genes Lau et al.', 'Age DE genes Fröhlich et al.', 'n overlap genes', 'Genome size', 'overlap p-value', 'Odds Ratio' )\n",
    "rownames(Lau_overlap_test_down_table) <- names(cts_Lau)\n",
    "\n",
    "idx <- 0\n",
    "for (celltype in names(cts_Lau)){\n",
    "    idx <- idx +1\n",
    "    Lau_overlap_test_down_table[celltype,]$`celltype_Fröhlich` <- celltype\n",
    "    Lau_overlap_test_down_table[celltype,]$`celltype_Lau` <- cts_Lau[idx]\n",
    "    Lau_overlap_test_down_table[celltype,]$`AD DE genes Lau et al.` <- length(Lau_overlap_test_down[[celltype]]@listA)\n",
    "    Lau_overlap_test_down_table[celltype,]$`Age DE genes Fröhlich et al.` <- length(Lau_overlap_test_down[[celltype]]@listB)\n",
    "    Lau_overlap_test_down_table[celltype,]$`n overlap genes` <- length(Lau_overlap_test_down[[celltype]]@intersection)\n",
    "    Lau_overlap_test_down_table[celltype,]$`Genome size` <- Lau_overlap_test_down[[celltype]]@genome.size\n",
    "    Lau_overlap_test_down_table[celltype,]$`overlap p-value` <- Lau_overlap_test_down[[celltype]]@pval\n",
    "    Lau_overlap_test_down_table[celltype,]$`Odds Ratio` <- Lau_overlap_test_down[[celltype]]@odds.ratio\n",
    "}\n",
    "\n",
    "# calculate the fdr adjusted p-value\n",
    "Lau_overlap_test_down_table$p.adjust_FDR <- p.adjust(Lau_overlap_test_down_table$`overlap p-value`, \n",
    "                                                      method = 'fdr', n = length(Lau_overlap_test_down_table$`overlap p-value`))\n",
    "\n",
    "Lau_overlap_test_down_table"
   ]
  },
  {
   "cell_type": "code",
   "execution_count": 20,
   "id": "e9aae62c-98d4-4e44-b3c8-fe7d402fd083",
   "metadata": {
    "execution": {
     "iopub.execute_input": "2024-01-26T18:17:45.567153Z",
     "iopub.status.busy": "2024-01-26T18:17:45.564555Z",
     "iopub.status.idle": "2024-01-26T18:17:45.634114Z",
     "shell.execute_reply": "2024-01-26T18:17:45.631847Z"
    }
   },
   "outputs": [
    {
     "data": {
      "text/html": [
       "<table class=\"dataframe\">\n",
       "<caption>A data.frame: 6 × 1</caption>\n",
       "<thead>\n",
       "\t<tr><th></th><th scope=col>intersection_genes_Age_AD_down</th></tr>\n",
       "\t<tr><th></th><th scope=col>&lt;chr&gt;</th></tr>\n",
       "</thead>\n",
       "<tbody>\n",
       "\t<tr><th scope=row>1</th><td>CHN1   </td></tr>\n",
       "\t<tr><th scope=row>2</th><td>FAM162A</td></tr>\n",
       "\t<tr><th scope=row>3</th><td>LRRC4C </td></tr>\n",
       "\t<tr><th scope=row>4</th><td>MMD2   </td></tr>\n",
       "\t<tr><th scope=row>5</th><td>EFR3B  </td></tr>\n",
       "\t<tr><th scope=row>6</th><td>BICC1  </td></tr>\n",
       "</tbody>\n",
       "</table>\n"
      ],
      "text/latex": [
       "A data.frame: 6 × 1\n",
       "\\begin{tabular}{r|l}\n",
       "  & intersection\\_genes\\_Age\\_AD\\_down\\\\\n",
       "  & <chr>\\\\\n",
       "\\hline\n",
       "\t1 & CHN1   \\\\\n",
       "\t2 & FAM162A\\\\\n",
       "\t3 & LRRC4C \\\\\n",
       "\t4 & MMD2   \\\\\n",
       "\t5 & EFR3B  \\\\\n",
       "\t6 & BICC1  \\\\\n",
       "\\end{tabular}\n"
      ],
      "text/markdown": [
       "\n",
       "A data.frame: 6 × 1\n",
       "\n",
       "| <!--/--> | intersection_genes_Age_AD_down &lt;chr&gt; |\n",
       "|---|---|\n",
       "| 1 | CHN1    |\n",
       "| 2 | FAM162A |\n",
       "| 3 | LRRC4C  |\n",
       "| 4 | MMD2    |\n",
       "| 5 | EFR3B   |\n",
       "| 6 | BICC1   |\n",
       "\n"
      ],
      "text/plain": [
       "  intersection_genes_Age_AD_down\n",
       "1 CHN1                          \n",
       "2 FAM162A                       \n",
       "3 LRRC4C                        \n",
       "4 MMD2                          \n",
       "5 EFR3B                         \n",
       "6 BICC1                         "
      ]
     },
     "metadata": {},
     "output_type": "display_data"
    }
   ],
   "source": [
    "Lau_Age_intersection_genes_down <- list()\n",
    "\n",
    "idx <- 0\n",
    "for (ct in cts_Lau){\n",
    "    idx <- idx +1\n",
    "    celltype <- names(cts_Lau)[idx]\n",
    "    Lau_Age_intersection_genes_down[[celltype]] <- as.data.frame(intersect(AD_Lau_down[[ct]]$Gene, down[[celltype]]$ID))\n",
    "    colnames(Lau_Age_intersection_genes_down[[celltype]]) <- 'intersection_genes_Age_AD_down'\n",
    "}\n",
    "head(Lau_Age_intersection_genes_down[['Astrocytes']])\n",
    "\n",
    "# save\n",
    "library(writexl)\n",
    "write_xlsx(Lau_Age_intersection_genes_down, '../results/dreamlet_tables/major_celltypes/Lau_Age_intersection_genes_down.xlsx')"
   ]
  },
  {
   "cell_type": "markdown",
   "id": "d610cdd2-5550-44d7-a416-874882858e1f",
   "metadata": {},
   "source": [
    "### heatmap overlap results"
   ]
  },
  {
   "cell_type": "code",
   "execution_count": 21,
   "id": "cb0463fa-16ae-4c6a-a1a9-eff79a699ad8",
   "metadata": {
    "execution": {
     "iopub.execute_input": "2024-01-26T18:17:48.015496Z",
     "iopub.status.busy": "2024-01-26T18:17:48.012751Z",
     "iopub.status.idle": "2024-01-26T18:17:48.328019Z",
     "shell.execute_reply": "2024-01-26T18:17:48.326337Z"
    }
   },
   "outputs": [
    {
     "data": {
      "image/png": "[encoded data removed]",
      "text/plain": [
       "plot without title"
      ]
     },
     "metadata": {
      "image/png": {
       "height": 180,
       "width": 180
      }
     },
     "output_type": "display_data"
    }
   ],
   "source": [
    "options(repr.plot.width=3, repr.plot.height=3)\n",
    "ggplot(Lau_overlap_test_up_table, aes(celltype_Lau, 1, fill= `Odds Ratio`, label = ifelse(`p.adjust_FDR` < 0.05, \"*\", \"\"))) + \n",
    "  geom_tile() + theme_classic() + geom_text(vjust = 1, hjust = 0.5) +\n",
    "  scale_fill_gradient(low= '#FFFFE6', high='#FDE725')+\n",
    "  xlab(\"Cell Types discovery dataset\") + theme(axis.text.x = element_text(angle = 90, vjust = 1, hjust=0, color=\"black\", \n",
    "                                                                          size=8), axis.title.x=element_blank(),\n",
    "                                               axis.text.y=element_blank(),axis.title.y=element_blank(), \n",
    "                                               axis.ticks.y=element_blank(), axis.line.y=element_blank(), \n",
    "                                               legend.title = element_text(face='bold')) + scale_x_discrete(position = \"top\") +\n",
    "annotate(geom = \"text\", x = 1.1 + 1.01 * (0:5) , y = -0.2, angle=90, label = Lau_overlap_test_up_table$`celltype_Fröhlich`, size = 2.9,\n",
    "         vjust=0, hjust=0) + geom_hline(yintercept=0.45) \n",
    "\n",
    "#ggsave('../figures/Lau_Age_FDR0.1_AD_overlap_up_heatmap.pdf', plot = last_plot(), width = 2.3, height =3)"
   ]
  },
  {
   "cell_type": "code",
   "execution_count": 22,
   "id": "27551cbb-c7bc-420f-8664-02cccb15ce85",
   "metadata": {
    "execution": {
     "iopub.execute_input": "2024-01-26T18:17:50.738566Z",
     "iopub.status.busy": "2024-01-26T18:17:50.735933Z",
     "iopub.status.idle": "2024-01-26T18:17:51.054476Z",
     "shell.execute_reply": "2024-01-26T18:17:51.052658Z"
    }
   },
   "outputs": [
    {
     "data": {
      "image/png": "[encoded data removed]",
      "text/plain": [
       "plot without title"
      ]
     },
     "metadata": {
      "image/png": {
       "height": 180,
       "width": 180
      }
     },
     "output_type": "display_data"
    }
   ],
   "source": [
    "options(repr.plot.width=3, repr.plot.height=3)\n",
    "ggplot(Lau_overlap_test_down_table, aes(celltype_Lau, 1, fill= `Odds Ratio`, label = ifelse(`p.adjust_FDR` < 0.05, \"*\", \"\"))) + \n",
    "  geom_tile() + theme_classic() + geom_text(vjust = 1, hjust = 0.5) +\n",
    "  #scale_fill_viridis(option='cividis') +\n",
    "#scale_fill_gradient2(low = '#2B3A67', mid = \"#FFC482\", high = \"#e26d5c\") +\n",
    "  scale_fill_gradient(low = '#D7F5B7', high= '#4AC16D') +\n",
    "  xlab(\"Cell Types discovery dataset\") + theme(axis.text.x = element_text(angle = 90, vjust = 1, hjust=0, color=\"black\", \n",
    "                                                                          size=8), axis.title.x=element_blank(),\n",
    "                                               axis.text.y=element_blank(),axis.title.y=element_blank(), \n",
    "                                               axis.ticks.y=element_blank(), axis.line.y=element_blank(), \n",
    "                                               legend.title = element_text(face='bold')) + scale_x_discrete(position = \"top\") +\n",
    "annotate(geom = \"text\", x = 1.1 + 1.01 * (0:5) , y = -0.2, angle=90, label = Lau_overlap_test_down_table$`celltype_Fröhlich`, size = 2.9,\n",
    "         vjust=0, hjust=0) + geom_hline(yintercept=0.45) \n",
    "\n",
    "#ggsave('../figures/Lau_Age_FDR0.1_AD_overlap_down_heatmap.pdf', plot = last_plot(), width = 2.3, height =3)"
   ]
  },
  {
   "cell_type": "markdown",
   "id": "79eb06c6-ebd5-4ed6-8613-763cf53d0428",
   "metadata": {},
   "source": [
    "### correlation of effect sizes"
   ]
  },
  {
   "cell_type": "code",
   "execution_count": 23,
   "id": "50655642-8022-4b7e-b839-178078144471",
   "metadata": {
    "execution": {
     "iopub.execute_input": "2024-01-26T18:17:54.611436Z",
     "iopub.status.busy": "2024-01-26T18:17:54.608806Z",
     "iopub.status.idle": "2024-01-26T18:17:54.731222Z",
     "shell.execute_reply": "2024-01-26T18:17:54.729528Z"
    }
   },
   "outputs": [
    {
     "data": {
      "text/html": [
       "<table class=\"dataframe\">\n",
       "<caption>A data.frame: 6 × 6</caption>\n",
       "<thead>\n",
       "\t<tr><th scope=col>celltype_Fröhlich</th><th scope=col>celltype_Lau</th><th scope=col>n_genes</th><th scope=col>Rho</th><th scope=col>p-val</th><th scope=col>adj.P.Val</th></tr>\n",
       "\t<tr><th scope=col>&lt;chr&gt;</th><th scope=col>&lt;chr&gt;</th><th scope=col>&lt;int&gt;</th><th scope=col>&lt;dbl&gt;</th><th scope=col>&lt;dbl&gt;</th><th scope=col>&lt;dbl&gt;</th></tr>\n",
       "</thead>\n",
       "<tbody>\n",
       "\t<tr><td>Astrocytes     </td><td>Astro</td><td>60</td><td> 0.4994165</td><td>6.117957e-05</td><td>0.0003670774</td></tr>\n",
       "\t<tr><td>Endothelial    </td><td>Endo </td><td> 8</td><td>-0.5000000</td><td>2.161706e-01</td><td>0.2161706349</td></tr>\n",
       "\t<tr><td>Exc_Neurons    </td><td>Excit</td><td>67</td><td> 0.3625190</td><td>2.722233e-03</td><td>0.0054444667</td></tr>\n",
       "\t<tr><td>In_Neurons     </td><td>Inhit</td><td>29</td><td> 0.3699507</td><td>4.900292e-02</td><td>0.0588035072</td></tr>\n",
       "\t<tr><td>Microglia      </td><td>Mic  </td><td>31</td><td> 0.5435484</td><td>1.849908e-03</td><td>0.0054444667</td></tr>\n",
       "\t<tr><td>Oligodendrocyte</td><td>Oligo</td><td>41</td><td> 0.3329268</td><td>3.395540e-02</td><td>0.0509331020</td></tr>\n",
       "</tbody>\n",
       "</table>\n"
      ],
      "text/latex": [
       "A data.frame: 6 × 6\n",
       "\\begin{tabular}{llllll}\n",
       " celltype\\_Fröhlich & celltype\\_Lau & n\\_genes & Rho & p-val & adj.P.Val\\\\\n",
       " <chr> & <chr> & <int> & <dbl> & <dbl> & <dbl>\\\\\n",
       "\\hline\n",
       "\t Astrocytes      & Astro & 60 &  0.4994165 & 6.117957e-05 & 0.0003670774\\\\\n",
       "\t Endothelial     & Endo  &  8 & -0.5000000 & 2.161706e-01 & 0.2161706349\\\\\n",
       "\t Exc\\_Neurons     & Excit & 67 &  0.3625190 & 2.722233e-03 & 0.0054444667\\\\\n",
       "\t In\\_Neurons      & Inhit & 29 &  0.3699507 & 4.900292e-02 & 0.0588035072\\\\\n",
       "\t Microglia       & Mic   & 31 &  0.5435484 & 1.849908e-03 & 0.0054444667\\\\\n",
       "\t Oligodendrocyte & Oligo & 41 &  0.3329268 & 3.395540e-02 & 0.0509331020\\\\\n",
       "\\end{tabular}\n"
      ],
      "text/markdown": [
       "\n",
       "A data.frame: 6 × 6\n",
       "\n",
       "| celltype_Fröhlich &lt;chr&gt; | celltype_Lau &lt;chr&gt; | n_genes &lt;int&gt; | Rho &lt;dbl&gt; | p-val &lt;dbl&gt; | adj.P.Val &lt;dbl&gt; |\n",
       "|---|---|---|---|---|---|\n",
       "| Astrocytes      | Astro | 60 |  0.4994165 | 6.117957e-05 | 0.0003670774 |\n",
       "| Endothelial     | Endo  |  8 | -0.5000000 | 2.161706e-01 | 0.2161706349 |\n",
       "| Exc_Neurons     | Excit | 67 |  0.3625190 | 2.722233e-03 | 0.0054444667 |\n",
       "| In_Neurons      | Inhit | 29 |  0.3699507 | 4.900292e-02 | 0.0588035072 |\n",
       "| Microglia       | Mic   | 31 |  0.5435484 | 1.849908e-03 | 0.0054444667 |\n",
       "| Oligodendrocyte | Oligo | 41 |  0.3329268 | 3.395540e-02 | 0.0509331020 |\n",
       "\n"
      ],
      "text/plain": [
       "  celltype_Fröhlich celltype_Lau n_genes Rho        p-val        adj.P.Val   \n",
       "1 Astrocytes        Astro        60       0.4994165 6.117957e-05 0.0003670774\n",
       "2 Endothelial       Endo          8      -0.5000000 2.161706e-01 0.2161706349\n",
       "3 Exc_Neurons       Excit        67       0.3625190 2.722233e-03 0.0054444667\n",
       "4 In_Neurons        Inhit        29       0.3699507 4.900292e-02 0.0588035072\n",
       "5 Microglia         Mic          31       0.5435484 1.849908e-03 0.0054444667\n",
       "6 Oligodendrocyte   Oligo        41       0.3329268 3.395540e-02 0.0509331020"
      ]
     },
     "metadata": {},
     "output_type": "display_data"
    }
   ],
   "source": [
    "#Lau et al. \n",
    "#AD_vs_NC_log2fc refers to log2FC between controls and AD\n",
    "\n",
    "Lau_spearman <- as.data.frame(matrix(ncol=5, nrow=length(cts_Lau)))\n",
    "colnames(Lau_spearman) <- c('celltype_Fröhlich', 'celltype_Lau', 'n_genes',\n",
    "                                              'Rho', 'p-val')\n",
    "\n",
    "merged <- list()\n",
    "idx <- 0\n",
    "for (ct in cts_Lau){\n",
    "    idx <- idx +1\n",
    "    celltype <- names(cts_Lau)[idx]\n",
    "    tmp <- DE_genes_AD_Lau_sig[[ct]]\n",
    "    colnames(tmp)[which(names(tmp) == 'Gene')] <- 'ID'\n",
    "    tmp2 <- merge(tmp, DE_genes_Age_sig_MJ[[celltype]], by='ID')\n",
    "    if (dim(tmp2)[1] >1){\n",
    "        merged[[celltype]] <- cor.test(as.numeric(tmp2$AD_vs_NC_log2fc), tmp2$logFC, method=c(\"spearman\"))\n",
    "        Lau_spearman$celltype_Fröhlich[idx] <- celltype\n",
    "        Lau_spearman$celltype_Lau[idx] <- ct \n",
    "        Lau_spearman$n_genes[idx] <- length(tmp2$ID)\n",
    "        Lau_spearman$Rho[idx] <- merged[[celltype]]$estimate\n",
    "        Lau_spearman$`p-val`[idx] <- merged[[celltype]]$p.value\n",
    "    }\n",
    "\n",
    "} \n",
    "\n",
    "#adjust for multiple testing\n",
    "Lau_spearman$adj.P.Val <- p.adjust(Lau_spearman$`p-val`, method='fdr', n=length(Lau_spearman$`p-val`))\n",
    "\n",
    "Lau_spearman"
   ]
  },
  {
   "cell_type": "code",
   "execution_count": 24,
   "id": "18c72c40-1150-47fb-ad88-bcce87a134e8",
   "metadata": {
    "execution": {
     "iopub.execute_input": "2024-01-26T18:17:57.476472Z",
     "iopub.status.busy": "2024-01-26T18:17:57.473805Z",
     "iopub.status.idle": "2024-01-26T18:17:57.791392Z",
     "shell.execute_reply": "2024-01-26T18:17:57.789831Z"
    }
   },
   "outputs": [
    {
     "data": {
      "image/png": "[encoded data removed]",
      "text/plain": [
       "plot without title"
      ]
     },
     "metadata": {
      "image/png": {
       "height": 180,
       "width": 180
      }
     },
     "output_type": "display_data"
    }
   ],
   "source": [
    "options(repr.plot.width=3, repr.plot.height=3)\n",
    "ggplot(Lau_spearman, aes(celltype_Lau, 1, fill= Rho, label = ifelse(`adj.P.Val` < 0.05, \"*\", \"\"))) + \n",
    "  geom_tile() + theme_classic() + geom_text(vjust = 1, hjust = 0.5) +\n",
    "  scale_fill_gradient(low = '#ACDDF4', high= '#365C8D') +\n",
    "  xlab(\"Cell Types discovery dataset\") + theme(axis.text.x = element_text(angle = 90, vjust = 1, hjust=0, color=\"black\", \n",
    "                                                                          size=8), axis.title.x=element_blank(),\n",
    "                                               axis.text.y=element_blank(),axis.title.y=element_blank(), \n",
    "                                               axis.ticks.y=element_blank(), axis.line.y=element_blank(), \n",
    "                                               legend.title = element_text(face='bold')) + scale_x_discrete(position = \"top\") +\n",
    "annotate(geom = \"text\", x = 1.1 + 1.01 * (0:5) , y = -0.31, angle=90, label =Lau_spearman$`celltype_Fröhlich`, size = 2.9,\n",
    "         vjust=0, hjust=0) + geom_hline(yintercept=0.45) \n",
    "\n",
    "\n",
    "#ggsave('../figures/Lau_Age_FDR0.1_AD_Spearman_corr_heatmap.pdf', plot = last_plot(), width =2.12, height =3)"
   ]
  },
  {
   "cell_type": "code",
   "execution_count": 25,
   "id": "947b5f43-4935-4a52-90ff-41c86f0d943d",
   "metadata": {
    "execution": {
     "iopub.execute_input": "2024-01-26T18:18:00.113418Z",
     "iopub.status.busy": "2024-01-26T18:18:00.110773Z",
     "iopub.status.idle": "2024-01-26T18:18:00.154889Z",
     "shell.execute_reply": "2024-01-26T18:18:00.152425Z"
    }
   },
   "outputs": [
    {
     "name": "stdout",
     "output_type": "stream",
     "text": [
      "[1] \"Astrocytes: There is/are 9 overlapping gene(s) with opposite logFC\"\n",
      "[1] \"Endothelial: There is/are 7 overlapping gene(s) with opposite logFC\"\n",
      "[1] \"Exc_Neurons: There is/are 26 overlapping gene(s) with opposite logFC\"\n",
      "[1] \"In_Neurons: There is/are 2 overlapping gene(s) with opposite logFC\"\n",
      "[1] \"Microglia: There is/are 8 overlapping gene(s) with opposite logFC\"\n",
      "[1] \"Oligodendrocyte: There is/are 10 overlapping gene(s) with opposite logFC\"\n"
     ]
    }
   ],
   "source": [
    "idx <- 0\n",
    "for (celltype in cts_Lau){\n",
    "    idx <- idx+1\n",
    "    ct <- names(cts_Lau)[idx]\n",
    "    n_overlap_total <- Lau_overlap_test_up_table[ct,5] + Lau_overlap_test_down_table[ct,5] \n",
    "    n_overlap_independent_of_directionality <- length(intersect(DE_genes_Age_sig_MJ[[ct]]$ID, DE_genes_AD_Lau_sig[[celltype]]$Gene))\n",
    "    y <- n_overlap_independent_of_directionality - n_overlap_total\n",
    "    # are there any genes that overlap but have opposite logFC?\n",
    "    print( paste0(ct, ': There is/are ', y, ' overlapping gene(s) with opposite logFC'))}"
   ]
  },
  {
   "cell_type": "markdown",
   "id": "8e7bff08-106a-48aa-961e-36a83be8c740",
   "metadata": {},
   "source": [
    "# overlap of DE Age genes with AD genes of both datasets"
   ]
  },
  {
   "cell_type": "code",
   "execution_count": 26,
   "id": "ed09a9c6-f1ea-499e-807c-81a22386f071",
   "metadata": {
    "execution": {
     "iopub.execute_input": "2024-01-26T18:18:27.262995Z",
     "iopub.status.busy": "2024-01-26T18:18:27.260228Z",
     "iopub.status.idle": "2024-01-26T18:18:27.341976Z",
     "shell.execute_reply": "2024-01-26T18:18:27.339749Z"
    }
   },
   "outputs": [
    {
     "data": {
      "text/html": [
       "<style>\n",
       ".list-inline {list-style: none; margin:0; padding: 0}\n",
       ".list-inline>li {display: inline-block}\n",
       ".list-inline>li:not(:last-child)::after {content: \"\\00b7\"; padding: 0 .5ex}\n",
       "</style>\n",
       "<ol class=list-inline><li>'HRH3'</li><li>'ADAMTS2'</li><li>'ELK1'</li><li>'SNPH'</li></ol>\n"
      ],
      "text/latex": [
       "\\begin{enumerate*}\n",
       "\\item 'HRH3'\n",
       "\\item 'ADAMTS2'\n",
       "\\item 'ELK1'\n",
       "\\item 'SNPH'\n",
       "\\end{enumerate*}\n"
      ],
      "text/markdown": [
       "1. 'HRH3'\n",
       "2. 'ADAMTS2'\n",
       "3. 'ELK1'\n",
       "4. 'SNPH'\n",
       "\n",
       "\n"
      ],
      "text/plain": [
       "[1] \"HRH3\"    \"ADAMTS2\" \"ELK1\"    \"SNPH\"   "
      ]
     },
     "metadata": {},
     "output_type": "display_data"
    },
    {
     "data": {
      "text/html": [],
      "text/latex": [],
      "text/markdown": [],
      "text/plain": [
       "character(0)"
      ]
     },
     "metadata": {},
     "output_type": "display_data"
    },
    {
     "data": {
      "text/html": [
       "<style>\n",
       ".list-inline {list-style: none; margin:0; padding: 0}\n",
       ".list-inline>li {display: inline-block}\n",
       ".list-inline>li:not(:last-child)::after {content: \"\\00b7\"; padding: 0 .5ex}\n",
       "</style>\n",
       "<ol class=list-inline><li>'PLEKHA5'</li><li>'SYNM'</li><li>'PLEC'</li><li>'AHNAK'</li><li>'MRAS'</li><li>'VCAN'</li></ol>\n"
      ],
      "text/latex": [
       "\\begin{enumerate*}\n",
       "\\item 'PLEKHA5'\n",
       "\\item 'SYNM'\n",
       "\\item 'PLEC'\n",
       "\\item 'AHNAK'\n",
       "\\item 'MRAS'\n",
       "\\item 'VCAN'\n",
       "\\end{enumerate*}\n"
      ],
      "text/markdown": [
       "1. 'PLEKHA5'\n",
       "2. 'SYNM'\n",
       "3. 'PLEC'\n",
       "4. 'AHNAK'\n",
       "5. 'MRAS'\n",
       "6. 'VCAN'\n",
       "\n",
       "\n"
      ],
      "text/plain": [
       "[1] \"PLEKHA5\" \"SYNM\"    \"PLEC\"    \"AHNAK\"   \"MRAS\"    \"VCAN\"   "
      ]
     },
     "metadata": {},
     "output_type": "display_data"
    },
    {
     "data": {
      "text/html": [
       "'MYO1E'"
      ],
      "text/latex": [
       "'MYO1E'"
      ],
      "text/markdown": [
       "'MYO1E'"
      ],
      "text/plain": [
       "[1] \"MYO1E\""
      ]
     },
     "metadata": {},
     "output_type": "display_data"
    },
    {
     "data": {
      "text/html": [
       "<style>\n",
       ".list-inline {list-style: none; margin:0; padding: 0}\n",
       ".list-inline>li {display: inline-block}\n",
       ".list-inline>li:not(:last-child)::after {content: \"\\00b7\"; padding: 0 .5ex}\n",
       "</style>\n",
       "<ol class=list-inline><li>'SLC6A15'</li><li>'MID1IP1'</li><li>'SUN2'</li></ol>\n"
      ],
      "text/latex": [
       "\\begin{enumerate*}\n",
       "\\item 'SLC6A15'\n",
       "\\item 'MID1IP1'\n",
       "\\item 'SUN2'\n",
       "\\end{enumerate*}\n"
      ],
      "text/markdown": [
       "1. 'SLC6A15'\n",
       "2. 'MID1IP1'\n",
       "3. 'SUN2'\n",
       "\n",
       "\n"
      ],
      "text/plain": [
       "[1] \"SLC6A15\" \"MID1IP1\" \"SUN2\"   "
      ]
     },
     "metadata": {},
     "output_type": "display_data"
    }
   ],
   "source": [
    "# common upregulated\n",
    "intersect(intersect(up[['Exc_Neurons']]$ID, sig_DE_genes_Alzheimer_up[['Ex']]$gene_name),intersect(up[['Exc_Neurons']]$ID, AD_Lau_up[['Excit']]$Gene))\n",
    "intersect(intersect(up[['In_Neurons']]$ID, sig_DE_genes_Alzheimer_up[['In']]$gene_name),intersect(up[['In_Neurons']]$ID, AD_Lau_up[['Inhit']]$Gene))\n",
    "intersect(intersect(up[['Astrocytes']]$ID, sig_DE_genes_Alzheimer_up[['Ast']]$gene_name),intersect(up[['Astrocytes']]$ID, AD_Lau_up[['Astro']]$Gene))\n",
    "intersect(intersect(up[['Microglia']]$ID, sig_DE_genes_Alzheimer_up[['Mic']]$gene_name),intersect(up[['Microglia']]$ID, AD_Lau_up[['Mic']]$Gene))\n",
    "intersect(intersect(up[['Oligodendrocyte']]$ID, sig_DE_genes_Alzheimer_up[['Oli']]$gene_name),intersect(up[['Oligodendrocyte']]$ID, AD_Lau_up[['Oligo']]$Gene))"
   ]
  },
  {
   "cell_type": "code",
   "execution_count": 27,
   "id": "b95dedbc-1d58-408b-a559-83e059845725",
   "metadata": {
    "execution": {
     "iopub.execute_input": "2024-01-26T18:18:29.181035Z",
     "iopub.status.busy": "2024-01-26T18:18:29.178404Z",
     "iopub.status.idle": "2024-01-26T18:18:29.232858Z",
     "shell.execute_reply": "2024-01-26T18:18:29.230524Z"
    }
   },
   "outputs": [
    {
     "data": {
      "text/html": [
       "<style>\n",
       ".list-inline {list-style: none; margin:0; padding: 0}\n",
       ".list-inline>li {display: inline-block}\n",
       ".list-inline>li:not(:last-child)::after {content: \"\\00b7\"; padding: 0 .5ex}\n",
       "</style>\n",
       "<ol class=list-inline><li>'RTN4'</li><li>'RPH3A'</li><li>'RGS4'</li><li>'SNCG'</li></ol>\n"
      ],
      "text/latex": [
       "\\begin{enumerate*}\n",
       "\\item 'RTN4'\n",
       "\\item 'RPH3A'\n",
       "\\item 'RGS4'\n",
       "\\item 'SNCG'\n",
       "\\end{enumerate*}\n"
      ],
      "text/markdown": [
       "1. 'RTN4'\n",
       "2. 'RPH3A'\n",
       "3. 'RGS4'\n",
       "4. 'SNCG'\n",
       "\n",
       "\n"
      ],
      "text/plain": [
       "[1] \"RTN4\"  \"RPH3A\" \"RGS4\"  \"SNCG\" "
      ]
     },
     "metadata": {},
     "output_type": "display_data"
    },
    {
     "data": {
      "text/html": [
       "<style>\n",
       ".list-inline {list-style: none; margin:0; padding: 0}\n",
       ".list-inline>li {display: inline-block}\n",
       ".list-inline>li:not(:last-child)::after {content: \"\\00b7\"; padding: 0 .5ex}\n",
       "</style>\n",
       "<ol class=list-inline><li>'TMSB4X'</li><li>'BEX2'</li></ol>\n"
      ],
      "text/latex": [
       "\\begin{enumerate*}\n",
       "\\item 'TMSB4X'\n",
       "\\item 'BEX2'\n",
       "\\end{enumerate*}\n"
      ],
      "text/markdown": [
       "1. 'TMSB4X'\n",
       "2. 'BEX2'\n",
       "\n",
       "\n"
      ],
      "text/plain": [
       "[1] \"TMSB4X\" \"BEX2\"  "
      ]
     },
     "metadata": {},
     "output_type": "display_data"
    },
    {
     "data": {
      "text/html": [
       "<style>\n",
       ".list-inline {list-style: none; margin:0; padding: 0}\n",
       ".list-inline>li {display: inline-block}\n",
       ".list-inline>li:not(:last-child)::after {content: \"\\00b7\"; padding: 0 .5ex}\n",
       "</style>\n",
       "<ol class=list-inline><li>'GRM3'</li><li>'PREX2'</li><li>'DIO2'</li><li>'GRIA2'</li></ol>\n"
      ],
      "text/latex": [
       "\\begin{enumerate*}\n",
       "\\item 'GRM3'\n",
       "\\item 'PREX2'\n",
       "\\item 'DIO2'\n",
       "\\item 'GRIA2'\n",
       "\\end{enumerate*}\n"
      ],
      "text/markdown": [
       "1. 'GRM3'\n",
       "2. 'PREX2'\n",
       "3. 'DIO2'\n",
       "4. 'GRIA2'\n",
       "\n",
       "\n"
      ],
      "text/plain": [
       "[1] \"GRM3\"  \"PREX2\" \"DIO2\"  \"GRIA2\""
      ]
     },
     "metadata": {},
     "output_type": "display_data"
    },
    {
     "data": {
      "text/html": [],
      "text/latex": [],
      "text/markdown": [],
      "text/plain": [
       "character(0)"
      ]
     },
     "metadata": {},
     "output_type": "display_data"
    },
    {
     "data": {
      "text/html": [
       "<style>\n",
       ".list-inline {list-style: none; margin:0; padding: 0}\n",
       ".list-inline>li {display: inline-block}\n",
       ".list-inline>li:not(:last-child)::after {content: \"\\00b7\"; padding: 0 .5ex}\n",
       "</style>\n",
       "<ol class=list-inline><li>'NRGN'</li><li>'GPM6A'</li></ol>\n"
      ],
      "text/latex": [
       "\\begin{enumerate*}\n",
       "\\item 'NRGN'\n",
       "\\item 'GPM6A'\n",
       "\\end{enumerate*}\n"
      ],
      "text/markdown": [
       "1. 'NRGN'\n",
       "2. 'GPM6A'\n",
       "\n",
       "\n"
      ],
      "text/plain": [
       "[1] \"NRGN\"  \"GPM6A\""
      ]
     },
     "metadata": {},
     "output_type": "display_data"
    }
   ],
   "source": [
    "# common downregulated\n",
    "intersect(intersect(down[['Exc_Neurons']]$ID, sig_DE_genes_Alzheimer_down[['Ex']]$gene_name),intersect(down[['Exc_Neurons']]$ID, AD_Lau_down[['Excit']]$Gene))\n",
    "intersect(intersect(down[['In_Neurons']]$ID, sig_DE_genes_Alzheimer_down[['In']]$gene_name),intersect(down[['In_Neurons']]$ID, AD_Lau_down[['Inhit']]$Gene))\n",
    "intersect(intersect(down[['Astrocytes']]$ID, sig_DE_genes_Alzheimer_down[['Ast']]$gene_name),intersect(down[['Astrocytes']]$ID, AD_Lau_down[['Astro']]$Gene))\n",
    "intersect(intersect(down[['Microglia']]$ID, sig_DE_genes_Alzheimer_down[['Mic']]$gene_name),intersect(down[['Microglia']]$ID, AD_Lau_down[['Mic']]$Gene))\n",
    "intersect(intersect(down[['Oligodendrocyte']]$ID, sig_DE_genes_Alzheimer_down[['Oli']]$gene_name),intersect(down[['Oligodendrocyte']]$ID, AD_Lau_down[['Oligo']]$Gene))"
   ]
  },
  {
   "cell_type": "code",
   "execution_count": 28,
   "id": "8c7ae96e-8df3-49a5-a2b6-55b7eaae706f",
   "metadata": {
    "execution": {
     "iopub.execute_input": "2024-01-26T18:18:33.797902Z",
     "iopub.status.busy": "2024-01-26T18:18:33.795287Z",
     "iopub.status.idle": "2024-01-26T18:18:33.912767Z",
     "shell.execute_reply": "2024-01-26T18:18:33.910850Z"
    }
   },
   "outputs": [
    {
     "name": "stdout",
     "output_type": "stream",
     "text": [
      "[1] \"Age down AD up Astrocytes: \"\n",
      "[1] \"Age up AD down Astrocytes: \"\n",
      "[1] \"Age down AD up Exc_Neurons: LINGO1\" \"Age down AD up Exc_Neurons: KCTD17\"\n",
      "[1] \"Age up AD down Exc_Neurons: \"\n",
      "[1] \"Age down AD up In_Neurons: \"\n",
      "[1] \"Age up AD down In_Neurons: \"\n",
      "[1] \"Age down AD up Microglia: \"\n",
      "[1] \"Age up AD down Microglia: \"\n",
      "[1] \"Age down AD up Oligodendrocyte: LINGO1\"\n",
      "[1] \"Age up AD down Oligodendrocyte: \"\n"
     ]
    }
   ],
   "source": [
    "# for each cell type get genes with opposite regulation\n",
    "\n",
    "Age_down_AD_Lau_up <- list()\n",
    "Age_up_AD_Lau_down <- list()\n",
    "idx <- 0\n",
    "for (celltype in cts_Lau){\n",
    "    idx <- idx+1\n",
    "    ct <- names(cts_Lau)[idx]\n",
    "    Age_down_AD_Lau_up[[ct]] <- intersect(AD_Lau_up[[celltype]]$Gene, down[[ct]]$ID)\n",
    "    Age_up_AD_Lau_down[[ct]] <- intersect(AD_Lau_down[[celltype]]$Gene, up[[ct]]$ID)\n",
    "}\n",
    "#Age_down_AD_Lau_up\n",
    "#Age_up_AD_Lau_down\n",
    "\n",
    "Age_down_AD_Mathys_up <- list()\n",
    "Age_up_AD_Mathys_down <- list()\n",
    "\n",
    "idx <- 0\n",
    "for (celltype in cts_Mathys){\n",
    "    idx <- idx+1\n",
    "    ct <- names(cts_Mathys)[idx]\n",
    "    Age_down_AD_Mathys_up[[ct]] <- intersect(sig_DE_genes_Alzheimer_up[[celltype]]$gene_name, down[[ct]]$ID)\n",
    "    Age_up_AD_Mathys_down[[ct]] <- intersect(sig_DE_genes_Alzheimer_down[[celltype]]$gene_name, up[[ct]]$ID)\n",
    "}\n",
    "#Age_down_AD_Mathys_up\n",
    "#Age_up_AD_Mathys_down\n",
    "\n",
    "common_Age_down_AD_up <- list()\n",
    "common_Age_up_AD_down <- list()\n",
    "for (celltype in names(Age_down_AD_Mathys_up)){\n",
    "    common_Age_down_AD_up[[celltype]] <- intersect(Age_down_AD_Mathys_up[[celltype]],Age_down_AD_Lau_up[[celltype]] )\n",
    "    common_Age_up_AD_down[[celltype]] <- intersect(Age_up_AD_Mathys_down[[celltype]],Age_up_AD_Lau_down[[celltype]] ) \n",
    "}\n",
    "\n",
    "for (celltype in names(common_Age_down_AD_up)){\n",
    "    print(paste0('Age down AD up ',celltype,\": \", common_Age_down_AD_up[[celltype]]))\n",
    "    print(paste0('Age up AD down ', celltype,\": \", common_Age_up_AD_down[[celltype]]))\n",
    "}"
   ]
  },
  {
   "cell_type": "markdown",
   "id": "4ec0df1d-5cc6-4b4d-ba50-69d7f00cc618",
   "metadata": {},
   "source": [
    "## Fig. 6d"
   ]
  },
  {
   "cell_type": "code",
   "execution_count": 9,
   "id": "a86f58b8-31e1-4218-b60d-37f137520f98",
   "metadata": {
    "execution": {
     "iopub.execute_input": "2024-01-20T11:14:40.662060Z",
     "iopub.status.busy": "2024-01-20T11:14:40.659135Z",
     "iopub.status.idle": "2024-01-20T11:14:41.684506Z",
     "shell.execute_reply": "2024-01-20T11:14:41.682869Z"
    }
   },
   "outputs": [
    {
     "data": {
      "image/png": "[encoded data removed]",
      "text/plain": [
       "plot without title"
      ]
     },
     "metadata": {
      "image/png": {
       "height": 300,
       "width": 360
      }
     },
     "output_type": "display_data"
    }
   ],
   "source": [
    "# RPH3A - Ex Neurons\n",
    "tmp <- sig_DE_genes_Alzheimer[['Ex']][sig_DE_genes_Alzheimer[['Ex']]$gene_name == 'RPH3A',]\n",
    "RPH3A_Ex <- as.data.frame(matrix(ncol=3,nrow=2))\n",
    "colnames(RPH3A_Ex) <- c('Group', 'mean_expr', 'log2FC')\n",
    "RPH3A_Ex$Group <- c(\"Controls\", 'AD')\n",
    "RPH3A_Ex$Group <- factor(RPH3A_Ex$Group, levels=c(\"Controls\", 'AD'))\n",
    "RPH3A_Ex$mean_expr[1] <- as.numeric(tmp$no.pathology.mean)\n",
    "RPH3A_Ex$mean_expr[2] <- as.numeric(tmp$pathology.mean)\n",
    "RPH3A_Ex$log2FC <- as.numeric(tmp$IndModel.FC)\n",
    "RPH3A_Ex$IndModel.adj.pvals <- as.numeric(tmp$IndModel.adj.pvals)\n",
    "RPH3A_Ex$MixedModel.p <- as.numeric(tmp$MixedModel.p)\n",
    "\n",
    "figlist <- list()\n",
    "figlist[['RPH3A_Ex']] <- ggplot(RPH3A_Ex,aes(x=Group, y=mean_expr)) +\n",
    "  geom_bar(stat=\"identity\", fill=c('#A3B18A', '#2A3D45')) +theme_classic() +\n",
    "  labs(title = \"RPH3A - Ex Neurons\",\n",
    "       subtitle = paste0('log2FC: ', round(RPH3A_Ex$log2FC[1], digits=3)),\n",
    "       caption = \"Data source: Mathys et al. 2019\") + theme(plot.subtitle = element_text(hjust = 0.5, vjust=-2, size = 11), \n",
    "                                                            plot.title = element_text(face='bold.italic', size = 15, hjust = 0.95), \n",
    "                                                            axis.text.x = element_text(color=\"black\", size=10, face='bold'),\n",
    "                                                            axis.text.y = element_text(color=\"black\", size=11),axis.title.x=element_blank(),\n",
    "                                                            axis.title.y=element_text(face='bold', size=11), plot.caption = element_text(size=8)) + \n",
    "ylab('Mean Expression')\n",
    "\n",
    "\n",
    "# GRM3 - Astrocytes\n",
    "tmp <- sig_DE_genes_Alzheimer[['Ast']][sig_DE_genes_Alzheimer[['Ast']]$gene_name == 'GRM3',]\n",
    "GRM3_Ast <- as.data.frame(matrix(ncol=3,nrow=2))\n",
    "colnames(GRM3_Ast) <- c('Group', 'mean_expr', 'log2FC')\n",
    "GRM3_Ast$Group <- c(\"Controls\", 'AD')\n",
    "GRM3_Ast$Group <- factor(GRM3_Ast$Group, levels=c(\"Controls\", 'AD'))\n",
    "GRM3_Ast$mean_expr[1] <- as.numeric(tmp$no.pathology.mean)\n",
    "GRM3_Ast$mean_expr[2] <- as.numeric(tmp$pathology.mean)\n",
    "GRM3_Ast$log2FC <- as.numeric(tmp$IndModel.FC)\n",
    "GRM3_Ast$IndModel.adj.pvals <- as.numeric(tmp$IndModel.adj.pvals)\n",
    "GRM3_Ast$MixedModel.p <- as.numeric(tmp$MixedModel.p)\n",
    "\n",
    "figlist[['GRM3_Ast']] <- ggplot(GRM3_Ast,aes(x=Group, y=mean_expr)) +\n",
    "  geom_bar(stat=\"identity\", fill=c('#A3B18A', '#2A3D45')) +theme_classic() +\n",
    "  labs(title = \"GRM3 - Astrocytes\",\n",
    "       subtitle = paste0('log2FC: ', round(GRM3_Ast$log2FC[1], digits=3)),\n",
    "       caption = \"Data source: Mathys et al. 2019\") + theme(plot.subtitle = element_text(hjust = 0.5, vjust=-2, size = 11), \n",
    "                                                            plot.title = element_text(face='bold.italic', size = 15, hjust = 0.95), \n",
    "                                                            axis.text.x = element_text(color=\"black\", size=10, face='bold'),\n",
    "                                                            axis.text.y = element_text(color=\"black\", size=11),axis.title.x=element_blank(),\n",
    "                                                            axis.title.y=element_text(face='bold', size=11), plot.caption = element_text(size=8)) + \n",
    "ylab('Mean Expression')\n",
    "\n",
    "options(repr.plot.width=6, repr.plot.height=5)\n",
    "plot_grid(plotlist = figlist, nrow=1)\n",
    "\n",
    "\n",
    "ggsave('../figures/Mathys_AD_barplot_RPH3A_GRM3.pdf', plot = last_plot(), width = 4.5, height =3.5)"
   ]
  },
  {
   "cell_type": "markdown",
   "id": "dcf920c4-64f5-4483-b038-51b1e72c4659",
   "metadata": {},
   "source": [
    "## Fig. 6f"
   ]
  },
  {
   "cell_type": "code",
   "execution_count": null,
   "id": "d551bdb7-5f92-474a-b90d-2201127d7671",
   "metadata": {},
   "outputs": [],
   "source": [
    "# plots opposite FC Age AD"
   ]
  },
  {
   "cell_type": "code",
   "execution_count": 10,
   "id": "4ddf5491-5552-4650-ae4d-f98ffee20e39",
   "metadata": {
    "execution": {
     "iopub.execute_input": "2024-01-20T11:27:14.676066Z",
     "iopub.status.busy": "2024-01-20T11:27:14.673253Z",
     "iopub.status.idle": "2024-01-20T11:27:15.457278Z",
     "shell.execute_reply": "2024-01-20T11:27:15.455606Z"
    }
   },
   "outputs": [
    {
     "data": {
      "image/png": "[encoded data removed]",
      "text/plain": [
       "plot without title"
      ]
     },
     "metadata": {
      "image/png": {
       "height": 300,
       "width": 360
      }
     },
     "output_type": "display_data"
    }
   ],
   "source": [
    "# KCTD17 - Ex Neurons\n",
    "tmp <- sig_DE_genes_Alzheimer[['Ex']][sig_DE_genes_Alzheimer[['Ex']]$gene_name == 'KCTD17',]\n",
    "KCTD17_Ex <- as.data.frame(matrix(ncol=3,nrow=2))\n",
    "colnames(KCTD17_Ex) <- c('Group', 'mean_expr', 'log2FC')\n",
    "KCTD17_Ex$Group <- c(\"Controls\", 'AD')\n",
    "KCTD17_Ex$Group <- factor(KCTD17_Ex$Group, levels=c(\"Controls\", 'AD'))\n",
    "KCTD17_Ex$mean_expr[1] <- as.numeric(tmp$no.pathology.mean)\n",
    "KCTD17_Ex$mean_expr[2] <- as.numeric(tmp$pathology.mean)\n",
    "KCTD17_Ex$log2FC <- as.numeric(tmp$IndModel.FC)\n",
    "KCTD17_Ex$IndModel.adj.pvals <- as.numeric(tmp$IndModel.adj.pvals)\n",
    "KCTD17_Ex$MixedModel.p <- as.numeric(tmp$MixedModel.p)\n",
    "\n",
    "figlist <- list()\n",
    "figlist[['KCTD17_Ex']] <- ggplot(KCTD17_Ex,aes(x=Group, y=mean_expr)) +\n",
    "  geom_bar(stat=\"identity\", fill=c('#A3B18A', '#2A3D45')) +theme_classic() +\n",
    "  labs(title = \"KCTD17 - Ex Neurons\",\n",
    "       subtitle = paste0('log2FC: ', round(KCTD17_Ex$log2FC[1], digits=3)),\n",
    "       caption = \"Data source: Mathys et al. 2019\") + theme(plot.subtitle = element_text(hjust = 0.5, vjust=-2, size = 11), \n",
    "                                                            plot.title = element_text(face='bold.italic', size = 15, hjust = 0.95), \n",
    "                                                            axis.text.x = element_text(color=\"black\", size=10, face='bold'),\n",
    "                                                            axis.text.y = element_text(color=\"black\", size=11),axis.title.x=element_blank(),\n",
    "                                                            axis.title.y=element_text(face='bold', size=11), plot.caption = element_text(size=8)) + \n",
    "ylab('Mean Expression')\n",
    "\n",
    "# LINGO1 - Ex Neurons\n",
    "tmp <- sig_DE_genes_Alzheimer[['Ex']][sig_DE_genes_Alzheimer[['Ex']]$gene_name == 'LINGO1',]\n",
    "LINGO1_Ex <- as.data.frame(matrix(ncol=3,nrow=2))\n",
    "colnames(LINGO1_Ex) <- c('Group', 'mean_expr', 'log2FC')\n",
    "LINGO1_Ex$Group <- c(\"Controls\", 'AD')\n",
    "LINGO1_Ex$Group <- factor(LINGO1_Ex$Group, levels=c(\"Controls\", 'AD'))\n",
    "LINGO1_Ex$mean_expr[1] <- as.numeric(tmp$no.pathology.mean)\n",
    "LINGO1_Ex$mean_expr[2] <- as.numeric(tmp$pathology.mean)\n",
    "LINGO1_Ex$log2FC <- as.numeric(tmp$IndModel.FC)\n",
    "LINGO1_Ex$IndModel.adj.pvals <- as.numeric(tmp$IndModel.adj.pvals)\n",
    "LINGO1_Ex$MixedModel.p <- as.numeric(tmp$MixedModel.p)\n",
    "\n",
    "figlist[['LINGO1_Ex']] <- ggplot(LINGO1_Ex,aes(x=Group, y=mean_expr)) +\n",
    "  geom_bar(stat=\"identity\", fill=c('#A3B18A', '#2A3D45')) +theme_classic() +\n",
    "  labs(title = \"LINGO1 - Ex Neurons\",\n",
    "       subtitle = paste0('log2FC: ', round(LINGO1_Ex$log2FC[1], digits=3)),\n",
    "       caption = \"Data source: Mathys et al. 2019\") + theme(plot.subtitle = element_text(hjust = 0.5, vjust=-2, size = 11), \n",
    "                                                            plot.title = element_text(face='bold.italic', size = 15, hjust = 0.95), \n",
    "                                                            axis.text.x = element_text(color=\"black\", size=10, face='bold'),\n",
    "                                                            axis.text.y = element_text(color=\"black\", size=11),axis.title.x=element_blank(),\n",
    "                                                            axis.title.y=element_text(face='bold', size=11), plot.caption = element_text(size=8)) + \n",
    "ylab('Mean Expression')\n",
    "\n",
    "plot_grid(plotlist = figlist, nrow=1)\n",
    "\n",
    "ggsave('../figures/Mathys_AD_barplot_KCTD17_LINGO1.pdf', plot = last_plot(), width = 4.5, height =3.5)"
   ]
  },
  {
   "cell_type": "markdown",
   "id": "2c9c0382-7f1c-4ee0-8368-c23ad11430f1",
   "metadata": {},
   "source": [
    "# SessionInfo"
   ]
  },
  {
   "cell_type": "code",
   "execution_count": 26,
   "id": "f758467b-26ee-4c3e-bb53-49c16be14c28",
   "metadata": {
    "execution": {
     "iopub.execute_input": "2024-01-17T11:28:22.961475Z",
     "iopub.status.busy": "2024-01-17T11:28:22.958661Z",
     "iopub.status.idle": "2024-01-17T11:28:23.027218Z",
     "shell.execute_reply": "2024-01-17T11:28:23.024808Z"
    }
   },
   "outputs": [
    {
     "data": {
      "text/plain": [
       "R version 4.3.1 (2023-06-16)\n",
       "Platform: x86_64-conda-linux-gnu (64-bit)\n",
       "Running under: CentOS Linux 7 (Core)\n",
       "\n",
       "Matrix products: default\n",
       "BLAS/LAPACK: /psycl/u/afroe/conda-envs/dreamlet_duplicated/lib/libopenblasp-r0.3.24.so;  LAPACK version 3.11.0\n",
       "\n",
       "locale:\n",
       " [1] LC_CTYPE=en_US.UTF-8       LC_NUMERIC=C              \n",
       " [3] LC_TIME=en_US.UTF-8        LC_COLLATE=en_US.UTF-8    \n",
       " [5] LC_MONETARY=en_US.UTF-8    LC_MESSAGES=en_US.UTF-8   \n",
       " [7] LC_PAPER=en_US.UTF-8       LC_NAME=C                 \n",
       " [9] LC_ADDRESS=C               LC_TELEPHONE=C            \n",
       "[11] LC_MEASUREMENT=en_US.UTF-8 LC_IDENTIFICATION=C       \n",
       "\n",
       "time zone: Europe/Berlin\n",
       "tzcode source: system (glibc)\n",
       "\n",
       "attached base packages:\n",
       "[1] stats     graphics  grDevices utils     datasets  methods   base     \n",
       "\n",
       "other attached packages:\n",
       " [1] cowplot_1.1.1      GeneOverlap_1.38.0 readxl_1.4.3       lubridate_1.9.3   \n",
       " [5] forcats_1.0.0      stringr_1.5.1      dplyr_1.1.4        purrr_1.0.2       \n",
       " [9] readr_2.1.4        tidyr_1.3.0        tibble_3.2.1       ggplot2_3.4.4     \n",
       "[13] tidyverse_2.0.0   \n",
       "\n",
       "loaded via a namespace (and not attached):\n",
       " [1] utf8_1.2.4         generics_0.1.3     gplots_3.1.3       bitops_1.0-7      \n",
       " [5] KernSmooth_2.23-22 gtools_3.9.4       stringi_1.8.3      hms_1.1.3         \n",
       " [9] digest_0.6.33      magrittr_2.0.3     caTools_1.18.2     evaluate_0.23     \n",
       "[13] grid_4.3.1         timechange_0.2.0   RColorBrewer_1.1-3 pbdZMQ_0.3-10     \n",
       "[17] fastmap_1.1.1      cellranger_1.1.0   jsonlite_1.8.7     fansi_1.0.6       \n",
       "[21] scales_1.3.0       textshaping_0.3.7  cli_3.6.2          rlang_1.1.2       \n",
       "[25] crayon_1.5.2       munsell_0.5.0      base64enc_0.1-3    withr_2.5.2       \n",
       "[29] repr_1.1.6         tools_4.3.1        tzdb_0.4.0         uuid_1.1-1        \n",
       "[33] colorspace_2.1-0   IRdisplay_1.1      vctrs_0.6.5        R6_2.5.1          \n",
       "[37] lifecycle_1.0.4    ragg_1.2.5         pkgconfig_2.0.3    pillar_1.9.0      \n",
       "[41] gtable_0.3.4       glue_1.6.2         systemfonts_1.0.5  tidyselect_1.2.0  \n",
       "[45] IRkernel_1.3.2     farver_2.1.1       htmltools_0.5.7    labeling_0.4.3    \n",
       "[49] Cairo_1.6-1        compiler_4.3.1    "
      ]
     },
     "metadata": {},
     "output_type": "display_data"
    }
   ],
   "source": [
    "sessionInfo()"
   ]
  },
  {
   "cell_type": "code",
   "execution_count": null,
   "id": "13c56410-5a2c-4946-8853-98bccc0a5378",
   "metadata": {},
   "outputs": [],
   "source": []
  }
 ],
 "metadata": {
  "kernelspec": {
   "display_name": "R",
   "language": "R",
   "name": "ir"
  },
  "language_info": {
   "codemirror_mode": "r",
   "file_extension": ".r",
   "mimetype": "text/x-r-source",
   "name": "R",
   "pygments_lexer": "r",
   "version": "4.3.1"
  }
 },
 "nbformat": 4,
 "nbformat_minor": 5
}
