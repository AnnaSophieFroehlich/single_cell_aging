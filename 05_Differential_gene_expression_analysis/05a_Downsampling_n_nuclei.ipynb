{
 "cells": [
  {
   "cell_type": "markdown",
   "id": "79c54e3c-dbf5-47b2-a89f-29a4c17e8e52",
   "metadata": {
    "execution": {
     "iopub.execute_input": "2024-01-30T10:48:54.273473Z",
     "iopub.status.busy": "2024-01-30T10:48:54.272795Z",
     "iopub.status.idle": "2024-01-30T10:48:54.289477Z",
     "shell.execute_reply": "2024-01-30T10:48:54.287860Z",
     "shell.execute_reply.started": "2024-01-30T10:48:54.273427Z"
    }
   },
   "source": [
    "<b> <font size=\"+2.5\"> Downsampling of number of nuclei\n",
    " </b> </font> <br>"
   ]
  },
  {
   "cell_type": "markdown",
   "id": "1831ca5c-b376-4dd8-b54b-870f8644ff4d",
   "metadata": {},
   "source": [
    "Date: 2023-11-21 <br>\n",
    "Author: ASF"
   ]
  },
  {
   "cell_type": "markdown",
   "id": "4b391471-8e54-4063-a5b6-19c40b2ab42d",
   "metadata": {},
   "source": [
    "# Set-up"
   ]
  },
  {
   "cell_type": "code",
   "execution_count": 1,
   "id": "671b83a3-7a09-4893-a75a-070b994fc350",
   "metadata": {
    "execution": {
     "iopub.execute_input": "2023-11-21T10:12:50.689006Z",
     "iopub.status.busy": "2023-11-21T10:12:50.688565Z",
     "iopub.status.idle": "2023-11-21T10:12:55.331753Z",
     "shell.execute_reply": "2023-11-21T10:12:55.330739Z",
     "shell.execute_reply.started": "2023-11-21T10:12:50.688892Z"
    },
    "tags": []
   },
   "outputs": [],
   "source": [
    "import sys\n",
    "import os\n",
    "import re\n",
    "\n",
    "import numpy as np\n",
    "import pandas as pd\n",
    "import matplotlib.pyplot as plt\n",
    "import seaborn as sns\n",
    "import scipy.sparse\n",
    "\n",
    "import scanpy as sc"
   ]
  },
  {
   "cell_type": "code",
   "execution_count": 2,
   "id": "519409e6-240c-488e-af21-2741df4baae5",
   "metadata": {
    "execution": {
     "iopub.execute_input": "2023-11-21T10:12:56.391146Z",
     "iopub.status.busy": "2023-11-21T10:12:56.390772Z",
     "iopub.status.idle": "2023-11-21T10:12:56.397294Z",
     "shell.execute_reply": "2023-11-21T10:12:56.396139Z",
     "shell.execute_reply.started": "2023-11-21T10:12:56.391098Z"
    },
    "tags": []
   },
   "outputs": [],
   "source": [
    "sc.settings.set_figure_params(dpi=180, dpi_save=300)"
   ]
  },
  {
   "cell_type": "markdown",
   "id": "97b4e728-37a1-47eb-9009-2d56bfe2014e",
   "metadata": {},
   "source": [
    "# Read in adata"
   ]
  },
  {
   "cell_type": "code",
   "execution_count": 3,
   "id": "a9eaa8ed-131e-4d37-907b-69c7e26efbc8",
   "metadata": {
    "execution": {
     "iopub.execute_input": "2023-11-21T10:13:00.018461Z",
     "iopub.status.busy": "2023-11-21T10:13:00.018046Z",
     "iopub.status.idle": "2023-11-21T10:13:54.131855Z",
     "shell.execute_reply": "2023-11-21T10:13:54.130783Z",
     "shell.execute_reply.started": "2023-11-21T10:13:00.018411Z"
    },
    "tags": []
   },
   "outputs": [],
   "source": [
    "adata = sc.read(\"../datasets/adata_celltypes_after_manual_curation_20231120.h5ad\")"
   ]
  },
  {
   "cell_type": "code",
   "execution_count": 4,
   "id": "ff7c5f29-30a3-4f1e-838a-22e7275448f6",
   "metadata": {
    "execution": {
     "iopub.execute_input": "2023-11-21T10:13:54.133438Z",
     "iopub.status.busy": "2023-11-21T10:13:54.133226Z",
     "iopub.status.idle": "2023-11-21T10:13:54.318824Z",
     "shell.execute_reply": "2023-11-21T10:13:54.317942Z",
     "shell.execute_reply.started": "2023-11-21T10:13:54.133410Z"
    },
    "tags": []
   },
   "outputs": [],
   "source": [
    "cells_cross = pd.crosstab(adata.obs['celltypes_final'],adata.obs[\"sample\"])\n",
    "#cells_cross.head()"
   ]
  },
  {
   "cell_type": "code",
   "execution_count": 5,
   "id": "74f5909b-2be3-484d-8873-cabc9d78aff5",
   "metadata": {
    "execution": {
     "iopub.execute_input": "2023-11-21T10:13:54.320298Z",
     "iopub.status.busy": "2023-11-21T10:13:54.320085Z",
     "iopub.status.idle": "2023-11-21T10:13:54.331820Z",
     "shell.execute_reply": "2023-11-21T10:13:54.330951Z",
     "shell.execute_reply.started": "2023-11-21T10:13:54.320273Z"
    },
    "tags": []
   },
   "outputs": [
    {
     "data": {
      "text/plain": [
       "Exc_L2-3           218679\n",
       "Oligodendrocyte     93357\n",
       "Astro_PP            87924\n",
       "OPC                 45435\n",
       "In_VIP              42250\n",
       "Microglia           39154\n",
       "Exc_L4-6_1          36486\n",
       "Exc_L4-6_2          34813\n",
       "In_SST              33791\n",
       "In_PVALB_Ba         31796\n",
       "Astro_FB            25410\n",
       "In_RELN             24191\n",
       "Exc_L4-6_3          14470\n",
       "Endothelial         13567\n",
       "Exc_L3-5            11815\n",
       "In_LAMP5_1           9794\n",
       "Exc_L5-6_1           7541\n",
       "In_PVALB_Ch          6709\n",
       "In_LAMP5_2           5295\n",
       "Exc_L5-6_HTR2C       4139\n",
       "Exc_L5-6_2           1069\n",
       "Name: celltypes_final, dtype: int64"
      ]
     },
     "execution_count": 5,
     "metadata": {},
     "output_type": "execute_result"
    }
   ],
   "source": [
    "# count number of nuclei per celltype\n",
    "ct_counts = adata.obs['celltypes_final'].value_counts()\n",
    "ct_counts"
   ]
  },
  {
   "cell_type": "code",
   "execution_count": 6,
   "id": "e2e19252-7639-47bd-92a6-c01c6a86b4b1",
   "metadata": {
    "execution": {
     "iopub.execute_input": "2023-11-21T10:13:54.333036Z",
     "iopub.status.busy": "2023-11-21T10:13:54.332803Z",
     "iopub.status.idle": "2023-11-21T10:13:54.344567Z",
     "shell.execute_reply": "2023-11-21T10:13:54.343655Z",
     "shell.execute_reply.started": "2023-11-21T10:13:54.333011Z"
    },
    "tags": []
   },
   "outputs": [
    {
     "name": "stdout",
     "output_type": "stream",
     "text": [
      "50% percentile: 25410.0\t 25% percentile: 9794.0\t 15% percentile: 6709.0\t 10% percentile: 5295.0\t 5% percentile: 4139.0\n"
     ]
    }
   ],
   "source": [
    "# get median, 25%, 15%, 10% and 5% percentile\n",
    "per_50 = np.percentile(ct_counts.array, 50)\n",
    "per_25 = np.percentile(ct_counts.array, 25)\n",
    "per_15 = np.percentile(ct_counts.array, 15)\n",
    "per_10 = np.percentile(ct_counts.array, 10)\n",
    "per_5 = np.percentile(ct_counts.array, 5)\n",
    "\n",
    "print('50% percentile: '+str(per_50)+'\\t 25% percentile: '+str(per_25) +\n",
    "      '\\t 15% percentile: '+str(per_15) +'\\t 10% percentile: '+str(per_10) +'\\t 5% percentile: '+str(per_5))"
   ]
  },
  {
   "cell_type": "markdown",
   "id": "32fc5780-bc03-46cd-962f-ed1df843627b",
   "metadata": {},
   "source": [
    "# subsample each celltype to 5000 nuclei"
   ]
  },
  {
   "cell_type": "markdown",
   "id": "6f1857e6-5d99-483f-b288-611173051107",
   "metadata": {},
   "source": [
    "## subsample1"
   ]
  },
  {
   "cell_type": "code",
   "execution_count": 7,
   "id": "44314cda-9d8f-42aa-a23f-098a239d8207",
   "metadata": {
    "execution": {
     "iopub.execute_input": "2023-11-21T10:13:54.345551Z",
     "iopub.status.busy": "2023-11-21T10:13:54.345359Z",
     "iopub.status.idle": "2023-11-21T10:14:25.048333Z",
     "shell.execute_reply": "2023-11-21T10:14:25.047496Z",
     "shell.execute_reply.started": "2023-11-21T10:13:54.345528Z"
    },
    "tags": []
   },
   "outputs": [
    {
     "name": "stderr",
     "output_type": "stream",
     "text": [
      "/u/afroe/conda-envs/sc-env-mar2022/lib/python3.8/site-packages/anndata/_core/anndata.py:1785: FutureWarning: X.dtype being converted to np.float32 from float64. In the next version of anndata (0.9) conversion will not be automatic. Pass dtype explicitly to avoid this warning. Pass `AnnData(X, dtype=X.dtype, ...)` to get the future behavour.\n",
      "  [AnnData(sparse.csr_matrix(a.shape), obs=a.obs) for a in all_adatas],\n"
     ]
    }
   ],
   "source": [
    "# sc.pp.subsample: Subsample to a fraction of the number of observations.\n",
    "target_cells = 5000\n",
    "\n",
    "adatas = [adata[adata.obs['celltypes_final'].isin([clust])] for clust in adata.obs['celltypes_final'].cat.categories]\n",
    "\n",
    "for dat in adatas:\n",
    "    if dat.n_obs > target_cells:\n",
    "        sc.pp.subsample(dat, n_obs=target_cells, random_state=0)\n",
    "\n",
    "adata_downsampled_1 = adatas[0].concatenate(*adatas[1:])"
   ]
  },
  {
   "cell_type": "code",
   "execution_count": 8,
   "id": "f73c2c1f-44a0-4d2f-a718-70fe552b8158",
   "metadata": {
    "execution": {
     "iopub.execute_input": "2023-11-21T10:15:55.969251Z",
     "iopub.status.busy": "2023-11-21T10:15:55.968779Z",
     "iopub.status.idle": "2023-11-21T10:16:05.887078Z",
     "shell.execute_reply": "2023-11-21T10:16:05.886231Z",
     "shell.execute_reply.started": "2023-11-21T10:15:55.969198Z"
    },
    "tags": []
   },
   "outputs": [],
   "source": [
    "adata_downsampled_1.write(\"../datasets/adata_celltypes_after_manual_curation_downsampled_1.h5ad\")"
   ]
  },
  {
   "cell_type": "markdown",
   "id": "ca75f7dc-930c-4290-b724-fc65b3556159",
   "metadata": {},
   "source": [
    "## subsample 2"
   ]
  },
  {
   "cell_type": "code",
   "execution_count": 11,
   "id": "7078e064-b9ae-4531-866a-3cee515755d0",
   "metadata": {
    "execution": {
     "iopub.execute_input": "2023-11-21T10:16:47.587069Z",
     "iopub.status.busy": "2023-11-21T10:16:47.586645Z",
     "iopub.status.idle": "2023-11-21T10:17:20.446477Z",
     "shell.execute_reply": "2023-11-21T10:17:20.445405Z",
     "shell.execute_reply.started": "2023-11-21T10:16:47.587019Z"
    },
    "tags": []
   },
   "outputs": [
    {
     "name": "stderr",
     "output_type": "stream",
     "text": [
      "/u/afroe/conda-envs/sc-env-mar2022/lib/python3.8/site-packages/anndata/_core/anndata.py:1785: FutureWarning: X.dtype being converted to np.float32 from float64. In the next version of anndata (0.9) conversion will not be automatic. Pass dtype explicitly to avoid this warning. Pass `AnnData(X, dtype=X.dtype, ...)` to get the future behavour.\n",
      "  [AnnData(sparse.csr_matrix(a.shape), obs=a.obs) for a in all_adatas],\n"
     ]
    }
   ],
   "source": [
    "# sc.pp.subsample: Subsample to a fraction of the number of observations.\n",
    "target_cells = 5000\n",
    "\n",
    "adatas_2 = [adata[adata.obs['celltypes_final'].isin([clust])] for clust in adata.obs['celltypes_final'].cat.categories]\n",
    "\n",
    "for dat in adatas_2:\n",
    "    if dat.n_obs > target_cells:\n",
    "        sc.pp.subsample(dat, n_obs=target_cells, random_state=1)\n",
    "\n",
    "adata_downsampled_2 = adatas_2[0].concatenate(*adatas_2[1:])"
   ]
  },
  {
   "cell_type": "code",
   "execution_count": 12,
   "id": "243b47b2-5ae0-4053-b968-d894eb31c2ed",
   "metadata": {
    "execution": {
     "iopub.execute_input": "2023-11-21T10:17:20.448051Z",
     "iopub.status.busy": "2023-11-21T10:17:20.447874Z",
     "iopub.status.idle": "2023-11-21T10:17:20.457396Z",
     "shell.execute_reply": "2023-11-21T10:17:20.456773Z",
     "shell.execute_reply.started": "2023-11-21T10:17:20.448027Z"
    },
    "tags": []
   },
   "outputs": [
    {
     "data": {
      "text/plain": [
       "Exc_L2-3           5000\n",
       "In_PVALB_Ch        5000\n",
       "Oligodendrocyte    5000\n",
       "Microglia          5000\n",
       "Endothelial        5000\n",
       "Astro_PP           5000\n",
       "Astro_FB           5000\n",
       "In_VIP             5000\n",
       "In_SST             5000\n",
       "In_RELN            5000\n",
       "In_PVALB_Ba        5000\n",
       "Exc_L3-5           5000\n",
       "In_LAMP5_2         5000\n",
       "In_LAMP5_1         5000\n",
       "Exc_L5-6_1         5000\n",
       "Exc_L4-6_3         5000\n",
       "Exc_L4-6_2         5000\n",
       "Exc_L4-6_1         5000\n",
       "OPC                5000\n",
       "Exc_L5-6_HTR2C     4139\n",
       "Exc_L5-6_2         1069\n",
       "Name: celltypes_final, dtype: int64"
      ]
     },
     "execution_count": 12,
     "metadata": {},
     "output_type": "execute_result"
    }
   ],
   "source": [
    "# count number of nuclei per celltype\n",
    "ct_counts_downsampled_2 = adata_downsampled_2.obs['celltypes_final'].value_counts()\n",
    "ct_counts_downsampled_2"
   ]
  },
  {
   "cell_type": "code",
   "execution_count": 13,
   "id": "1ad7974d-e48c-4054-82d6-8f0e73a02baa",
   "metadata": {
    "execution": {
     "iopub.execute_input": "2023-11-21T10:17:31.373721Z",
     "iopub.status.busy": "2023-11-21T10:17:31.373351Z",
     "iopub.status.idle": "2023-11-21T10:17:40.162027Z",
     "shell.execute_reply": "2023-11-21T10:17:40.160955Z",
     "shell.execute_reply.started": "2023-11-21T10:17:31.373674Z"
    },
    "tags": []
   },
   "outputs": [],
   "source": [
    "adata_downsampled_2.write(\"../datasets/adata_celltypes_after_manual_curation_downsampled_2.h5ad\")"
   ]
  },
  {
   "cell_type": "markdown",
   "id": "d10bf090-8f1d-424a-9d1b-f728988a3509",
   "metadata": {},
   "source": [
    "## subsample 3"
   ]
  },
  {
   "cell_type": "code",
   "execution_count": 14,
   "id": "911db24a-5840-4db2-a1b7-2ebf827c37e6",
   "metadata": {
    "execution": {
     "iopub.execute_input": "2023-11-21T10:17:40.164260Z",
     "iopub.status.busy": "2023-11-21T10:17:40.163892Z",
     "iopub.status.idle": "2023-11-21T10:18:26.110894Z",
     "shell.execute_reply": "2023-11-21T10:18:26.110162Z",
     "shell.execute_reply.started": "2023-11-21T10:17:40.164213Z"
    },
    "tags": []
   },
   "outputs": [
    {
     "name": "stderr",
     "output_type": "stream",
     "text": [
      "/u/afroe/conda-envs/sc-env-mar2022/lib/python3.8/site-packages/anndata/_core/anndata.py:1785: FutureWarning: X.dtype being converted to np.float32 from float64. In the next version of anndata (0.9) conversion will not be automatic. Pass dtype explicitly to avoid this warning. Pass `AnnData(X, dtype=X.dtype, ...)` to get the future behavour.\n",
      "  [AnnData(sparse.csr_matrix(a.shape), obs=a.obs) for a in all_adatas],\n"
     ]
    }
   ],
   "source": [
    "# sc.pp.subsample: Subsample to a fraction of the number of observations.\n",
    "target_cells = 5000\n",
    "\n",
    "adatas_3 = [adata[adata.obs['celltypes_final'].isin([clust])] for clust in adata.obs['celltypes_final'].cat.categories]\n",
    "\n",
    "for dat in adatas_3:\n",
    "    if dat.n_obs > target_cells:\n",
    "        sc.pp.subsample(dat, n_obs=target_cells, random_state=2)\n",
    "\n",
    "adata_downsampled_3 = adatas_3[0].concatenate(*adatas_3[1:])\n",
    "\n",
    "adata_downsampled_3.write(\"../datasets/adata_celltypes_after_manual_curation_downsampled_3.h5ad\")"
   ]
  },
  {
   "cell_type": "markdown",
   "id": "073526a2-b862-4d57-b984-81efe74adb18",
   "metadata": {},
   "source": [
    "## subsample 4"
   ]
  },
  {
   "cell_type": "code",
   "execution_count": 15,
   "id": "bec5e970-b1a4-461c-98a8-2f481dc9d6f4",
   "metadata": {
    "execution": {
     "iopub.execute_input": "2023-11-21T10:18:26.112620Z",
     "iopub.status.busy": "2023-11-21T10:18:26.112418Z",
     "iopub.status.idle": "2023-11-21T10:19:06.887435Z",
     "shell.execute_reply": "2023-11-21T10:19:06.886540Z",
     "shell.execute_reply.started": "2023-11-21T10:18:26.112593Z"
    },
    "tags": []
   },
   "outputs": [
    {
     "name": "stderr",
     "output_type": "stream",
     "text": [
      "/u/afroe/conda-envs/sc-env-mar2022/lib/python3.8/site-packages/anndata/_core/anndata.py:1785: FutureWarning: X.dtype being converted to np.float32 from float64. In the next version of anndata (0.9) conversion will not be automatic. Pass dtype explicitly to avoid this warning. Pass `AnnData(X, dtype=X.dtype, ...)` to get the future behavour.\n",
      "  [AnnData(sparse.csr_matrix(a.shape), obs=a.obs) for a in all_adatas],\n"
     ]
    }
   ],
   "source": [
    "# sc.pp.subsample: Subsample to a fraction of the number of observations.\n",
    "target_cells = 5000\n",
    "\n",
    "adatas_4 = [adata[adata.obs['celltypes_final'].isin([clust])] for clust in adata.obs['celltypes_final'].cat.categories]\n",
    "\n",
    "for dat in adatas_4:\n",
    "    if dat.n_obs > target_cells:\n",
    "        sc.pp.subsample(dat, n_obs=target_cells, random_state=3)\n",
    "\n",
    "adata_downsampled_4 = adatas_4[0].concatenate(*adatas_4[1:])\n",
    "\n",
    "adata_downsampled_4.write(\"../datasets/adata_celltypes_after_manual_curation_downsampled_4.h5ad\")"
   ]
  },
  {
   "cell_type": "markdown",
   "id": "738e5ca0-a52c-4e4d-9ed8-0b1aacb4127b",
   "metadata": {},
   "source": [
    "## subsample 5"
   ]
  },
  {
   "cell_type": "code",
   "execution_count": 16,
   "id": "b9b1a65c-b5cf-4268-a7e7-bcf591d308d5",
   "metadata": {
    "execution": {
     "iopub.execute_input": "2023-11-21T10:19:06.889194Z",
     "iopub.status.busy": "2023-11-21T10:19:06.888941Z",
     "iopub.status.idle": "2023-11-21T10:19:49.183617Z",
     "shell.execute_reply": "2023-11-21T10:19:49.182347Z",
     "shell.execute_reply.started": "2023-11-21T10:19:06.889148Z"
    },
    "tags": []
   },
   "outputs": [
    {
     "name": "stderr",
     "output_type": "stream",
     "text": [
      "/u/afroe/conda-envs/sc-env-mar2022/lib/python3.8/site-packages/anndata/_core/anndata.py:1785: FutureWarning: X.dtype being converted to np.float32 from float64. In the next version of anndata (0.9) conversion will not be automatic. Pass dtype explicitly to avoid this warning. Pass `AnnData(X, dtype=X.dtype, ...)` to get the future behavour.\n",
      "  [AnnData(sparse.csr_matrix(a.shape), obs=a.obs) for a in all_adatas],\n"
     ]
    }
   ],
   "source": [
    "# sc.pp.subsample: Subsample to a fraction of the number of observations.\n",
    "target_cells = 5000\n",
    "\n",
    "adatas_5 = [adata[adata.obs['celltypes_final'].isin([clust])] for clust in adata.obs['celltypes_final'].cat.categories]\n",
    "\n",
    "for dat in adatas_5:\n",
    "    if dat.n_obs > target_cells:\n",
    "        sc.pp.subsample(dat, n_obs=target_cells, random_state=4)\n",
    "\n",
    "adata_downsampled_5 = adatas_5[0].concatenate(*adatas_5[1:])\n",
    "\n",
    "adata_downsampled_5.write(\"../datasets/adata_celltypes_after_manual_curation_downsampled_5.h5ad\")"
   ]
  },
  {
   "cell_type": "markdown",
   "id": "f6ce72f2-1546-4702-88e2-b6bcd739a948",
   "metadata": {},
   "source": [
    "## subsample 6"
   ]
  },
  {
   "cell_type": "code",
   "execution_count": 17,
   "id": "5d127b37-b7ca-4e3b-870d-239ff661d869",
   "metadata": {
    "execution": {
     "iopub.execute_input": "2023-11-21T10:19:49.185992Z",
     "iopub.status.busy": "2023-11-21T10:19:49.185619Z",
     "iopub.status.idle": "2023-11-21T10:20:29.647016Z",
     "shell.execute_reply": "2023-11-21T10:20:29.646086Z",
     "shell.execute_reply.started": "2023-11-21T10:19:49.185948Z"
    },
    "tags": []
   },
   "outputs": [
    {
     "name": "stderr",
     "output_type": "stream",
     "text": [
      "/u/afroe/conda-envs/sc-env-mar2022/lib/python3.8/site-packages/anndata/_core/anndata.py:1785: FutureWarning: X.dtype being converted to np.float32 from float64. In the next version of anndata (0.9) conversion will not be automatic. Pass dtype explicitly to avoid this warning. Pass `AnnData(X, dtype=X.dtype, ...)` to get the future behavour.\n",
      "  [AnnData(sparse.csr_matrix(a.shape), obs=a.obs) for a in all_adatas],\n"
     ]
    }
   ],
   "source": [
    "# sc.pp.subsample: Subsample to a fraction of the number of observations.\n",
    "target_cells = 5000\n",
    "\n",
    "adatas_6 = [adata[adata.obs['celltypes_final'].isin([clust])] for clust in adata.obs['celltypes_final'].cat.categories]\n",
    "\n",
    "for dat in adatas_6:\n",
    "    if dat.n_obs > target_cells:\n",
    "        sc.pp.subsample(dat, n_obs=target_cells, random_state=5)\n",
    "\n",
    "adata_downsampled_6 = adatas_6[0].concatenate(*adatas_6[1:])\n",
    "\n",
    "adata_downsampled_6.write(\"../datasets/adata_celltypes_after_manual_curation_downsampled_6.h5ad\")"
   ]
  },
  {
   "cell_type": "markdown",
   "id": "ed58e2be-7dc5-4667-b98b-27eccec83911",
   "metadata": {},
   "source": [
    "## subsample 7"
   ]
  },
  {
   "cell_type": "code",
   "execution_count": 18,
   "id": "032d3eae-32a6-4ef7-9808-ee81cc56ef05",
   "metadata": {
    "execution": {
     "iopub.execute_input": "2023-11-21T10:20:29.648830Z",
     "iopub.status.busy": "2023-11-21T10:20:29.648509Z",
     "iopub.status.idle": "2023-11-21T10:21:11.948997Z",
     "shell.execute_reply": "2023-11-21T10:21:11.947692Z",
     "shell.execute_reply.started": "2023-11-21T10:20:29.648789Z"
    },
    "tags": []
   },
   "outputs": [
    {
     "name": "stderr",
     "output_type": "stream",
     "text": [
      "/u/afroe/conda-envs/sc-env-mar2022/lib/python3.8/site-packages/anndata/_core/anndata.py:1785: FutureWarning: X.dtype being converted to np.float32 from float64. In the next version of anndata (0.9) conversion will not be automatic. Pass dtype explicitly to avoid this warning. Pass `AnnData(X, dtype=X.dtype, ...)` to get the future behavour.\n",
      "  [AnnData(sparse.csr_matrix(a.shape), obs=a.obs) for a in all_adatas],\n"
     ]
    }
   ],
   "source": [
    "# sc.pp.subsample: Subsample to a fraction of the number of observations.\n",
    "target_cells = 5000\n",
    "\n",
    "adatas_7 = [adata[adata.obs['celltypes_final'].isin([clust])] for clust in adata.obs['celltypes_final'].cat.categories]\n",
    "\n",
    "for dat in adatas_7:\n",
    "    if dat.n_obs > target_cells:\n",
    "        sc.pp.subsample(dat, n_obs=target_cells, random_state=6)\n",
    "\n",
    "adata_downsampled_7 = adatas_7[0].concatenate(*adatas_7[1:])\n",
    "\n",
    "adata_downsampled_7.write(\"../datasets/adata_celltypes_after_manual_curation_downsampled_7.h5ad\")\n"
   ]
  },
  {
   "cell_type": "markdown",
   "id": "214c186e-b018-4b57-b51a-7a6d51e106df",
   "metadata": {},
   "source": [
    "## subsample 8"
   ]
  },
  {
   "cell_type": "code",
   "execution_count": 19,
   "id": "9d60d091-fb81-41b2-8ac5-9003ba75820c",
   "metadata": {
    "execution": {
     "iopub.execute_input": "2023-11-21T10:22:14.627590Z",
     "iopub.status.busy": "2023-11-21T10:22:14.627100Z",
     "iopub.status.idle": "2023-11-21T10:23:00.213745Z",
     "shell.execute_reply": "2023-11-21T10:23:00.212949Z",
     "shell.execute_reply.started": "2023-11-21T10:22:14.627538Z"
    },
    "tags": []
   },
   "outputs": [
    {
     "name": "stderr",
     "output_type": "stream",
     "text": [
      "/u/afroe/conda-envs/sc-env-mar2022/lib/python3.8/site-packages/anndata/_core/anndata.py:1785: FutureWarning: X.dtype being converted to np.float32 from float64. In the next version of anndata (0.9) conversion will not be automatic. Pass dtype explicitly to avoid this warning. Pass `AnnData(X, dtype=X.dtype, ...)` to get the future behavour.\n",
      "  [AnnData(sparse.csr_matrix(a.shape), obs=a.obs) for a in all_adatas],\n"
     ]
    }
   ],
   "source": [
    "# sc.pp.subsample: Subsample to a fraction of the number of observations.\n",
    "target_cells = 5000\n",
    "\n",
    "adatas_8 = [adata[adata.obs['celltypes_final'].isin([clust])] for clust in adata.obs['celltypes_final'].cat.categories]\n",
    "\n",
    "for dat in adatas_8:\n",
    "    if dat.n_obs > target_cells:\n",
    "        sc.pp.subsample(dat, n_obs=target_cells, random_state=7)\n",
    "\n",
    "adata_downsampled_8 = adatas_8[0].concatenate(*adatas_8[1:])\n",
    "\n",
    "adata_downsampled_8.write(\"../datasets/adata_celltypes_after_manual_curation_downsampled_8.h5ad\")"
   ]
  },
  {
   "cell_type": "markdown",
   "id": "ce8cb8b6-b437-4fda-9db6-1727248c2a17",
   "metadata": {},
   "source": [
    "## subsample 9"
   ]
  },
  {
   "cell_type": "code",
   "execution_count": 20,
   "id": "a7b2a02b-0b42-4828-a61c-06891f3d9033",
   "metadata": {
    "execution": {
     "iopub.execute_input": "2023-11-21T10:23:00.215002Z",
     "iopub.status.busy": "2023-11-21T10:23:00.214824Z",
     "iopub.status.idle": "2023-11-21T10:23:45.961419Z",
     "shell.execute_reply": "2023-11-21T10:23:45.960269Z",
     "shell.execute_reply.started": "2023-11-21T10:23:00.214979Z"
    },
    "tags": []
   },
   "outputs": [
    {
     "name": "stderr",
     "output_type": "stream",
     "text": [
      "/u/afroe/conda-envs/sc-env-mar2022/lib/python3.8/site-packages/anndata/_core/anndata.py:1785: FutureWarning: X.dtype being converted to np.float32 from float64. In the next version of anndata (0.9) conversion will not be automatic. Pass dtype explicitly to avoid this warning. Pass `AnnData(X, dtype=X.dtype, ...)` to get the future behavour.\n",
      "  [AnnData(sparse.csr_matrix(a.shape), obs=a.obs) for a in all_adatas],\n"
     ]
    }
   ],
   "source": [
    "# sc.pp.subsample: Subsample to a fraction of the number of observations.\n",
    "target_cells = 5000\n",
    "\n",
    "adatas_9 = [adata[adata.obs['celltypes_final'].isin([clust])] for clust in adata.obs['celltypes_final'].cat.categories]\n",
    "\n",
    "for dat in adatas_9:\n",
    "    if dat.n_obs > target_cells:\n",
    "        sc.pp.subsample(dat, n_obs=target_cells, random_state=8)\n",
    "\n",
    "adata_downsampled_9 = adatas_9[0].concatenate(*adatas_9[1:])\n",
    "\n",
    "adata_downsampled_9.write(\"../datasets/adata_celltypes_after_manual_curation_downsampled_9.h5ad\")\n"
   ]
  },
  {
   "cell_type": "markdown",
   "id": "2ef76862-992f-4f8f-8606-9bcb94b9ed5c",
   "metadata": {},
   "source": [
    "## subsample 10"
   ]
  },
  {
   "cell_type": "code",
   "execution_count": 21,
   "id": "743d54a1-6ce3-4898-b998-6f58ea9a4546",
   "metadata": {
    "execution": {
     "iopub.execute_input": "2023-11-21T10:23:45.963845Z",
     "iopub.status.busy": "2023-11-21T10:23:45.963566Z",
     "iopub.status.idle": "2023-11-21T10:24:31.007733Z",
     "shell.execute_reply": "2023-11-21T10:24:31.006591Z",
     "shell.execute_reply.started": "2023-11-21T10:23:45.963810Z"
    },
    "tags": []
   },
   "outputs": [
    {
     "name": "stderr",
     "output_type": "stream",
     "text": [
      "/u/afroe/conda-envs/sc-env-mar2022/lib/python3.8/site-packages/anndata/_core/anndata.py:1785: FutureWarning: X.dtype being converted to np.float32 from float64. In the next version of anndata (0.9) conversion will not be automatic. Pass dtype explicitly to avoid this warning. Pass `AnnData(X, dtype=X.dtype, ...)` to get the future behavour.\n",
      "  [AnnData(sparse.csr_matrix(a.shape), obs=a.obs) for a in all_adatas],\n"
     ]
    }
   ],
   "source": [
    "# sc.pp.subsample: Subsample to a fraction of the number of observations.\n",
    "target_cells = 5000\n",
    "\n",
    "adatas_10 = [adata[adata.obs['celltypes_final'].isin([clust])] for clust in adata.obs['celltypes_final'].cat.categories]\n",
    "\n",
    "for dat in adatas_10:\n",
    "    if dat.n_obs > target_cells:\n",
    "        sc.pp.subsample(dat, n_obs=target_cells, random_state=9)\n",
    "\n",
    "adata_downsampled_10 = adatas_10[0].concatenate(*adatas_10[1:])\n",
    "\n",
    "adata_downsampled_10.write(\"../datasets/adata_celltypes_after_manual_curation_downsampled_10.h5ad\")"
   ]
  }
 ],
 "metadata": {
  "kernelspec": {
   "display_name": "Python 3 (ipykernel)",
   "language": "python",
   "name": "python3"
  },
  "language_info": {
   "codemirror_mode": {
    "name": "ipython",
    "version": 3
   },
   "file_extension": ".py",
   "mimetype": "text/x-python",
   "name": "python",
   "nbconvert_exporter": "python",
   "pygments_lexer": "ipython3",
   "version": "3.9.18"
  }
 },
 "nbformat": 4,
 "nbformat_minor": 5
}
